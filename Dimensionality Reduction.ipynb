{
  "nbformat": 4,
  "nbformat_minor": 0,
  "metadata": {
    "kernelspec": {
      "display_name": "Python 3",
      "language": "python",
      "name": "python3"
    },
    "language_info": {
      "codemirror_mode": {
        "name": "ipython",
        "version": 3
      },
      "file_extension": ".py",
      "mimetype": "text/x-python",
      "name": "python",
      "nbconvert_exporter": "python",
      "pygments_lexer": "ipython3",
      "version": "3.6.9"
    },
    "colab": {
      "name": "Copy of DMA'20 Lab 6: Skip-grams",
      "provenance": [],
      "collapsed_sections": []
    }
  },
  "cells": [
    {
      "cell_type": "code",
      "metadata": {
        "id": "IDlU-kLCKDVZ"
      },
      "source": [
        "NAME = \"Victor Shi\""
      ],
      "execution_count": null,
      "outputs": []
    },
    {
      "cell_type": "markdown",
      "metadata": {
        "id": "kW9zL4V6KDVc"
      },
      "source": [
        "---"
      ]
    },
    {
      "cell_type": "markdown",
      "metadata": {
        "deletable": false,
        "editable": false,
        "nbgrader": {
          "checksum": "9a0ec075584699a44c46933457b0a8ba",
          "grade": false,
          "grade_id": "cell-a910b376742d04c0",
          "locked": true,
          "schema_version": 1,
          "solution": false
        },
        "id": "ECD5r2hFKDVd"
      },
      "source": [
        "# Lab 6: Skip Gram\n",
        "\n",
        "**Please read the following instructions very carefully**\n",
        "\n",
        "## Working on the assignment / FAQs\n",
        "- **Always use the seed/random_state as *42* wherever applicable** (This is to ensure repeatability in answers, across students and coding environments) \n",
        "- The type of question and the points they carry are indicated in each question cell\n",
        "- To avoid any ambiguity, each question also specifies what *value* must be set. Note that these are dummy values and not the answers\n",
        "- If an autograded question has multiple answers (due to differences in handling NaNs, zeros etc.), all answers will be considered.\n",
        "- You can delete the `raise NotImplementedError()`\n",
        "- **Submitting the assignment** : Download the '.ipynb' file from Colab and upload it to bcourses. Do not delete any outputs from cells before submitting.\n",
        "- That's about it. Happy coding!\n",
        "\n",
        "\n",
        "Available software:\n",
        " - Python's Gensim module: https://radimrehurek.com/gensim/ (install using pip)\n",
        " - Sklearn’s  TSNE module in case you use TSNE to reduce dimension (optional)\n",
        " - Python’s Matplotlib (optional)\n",
        "\n",
        "_Note: The most important hyper parameters of skip-gram/CBOW are vector size and windows size_\n"
      ]
    },
    {
      "cell_type": "code",
      "metadata": {
        "deletable": false,
        "editable": false,
        "nbgrader": {
          "checksum": "a09a0bf3042da711c4bf843e9b4a4189",
          "grade": false,
          "grade_id": "cell-bf780e597c0216c8",
          "locked": true,
          "schema_version": 1,
          "solution": false
        },
        "id": "Vsocwry-KDVe",
        "outputId": "94a380d9-1709-46e2-e38d-799eddb365a6",
        "colab": {
          "base_uri": "https://localhost:8080/",
          "height": 374
        }
      },
      "source": [
        "!pip install gensim\n",
        "!wget -nc https://s3.amazonaws.com/dl4j-distribution/GoogleNews-vectors-negative300.bin.gz \n",
        "\n",
        "\n",
        "import pandas as pd\n",
        "import numpy as np \n",
        "import gensim\n",
        "from scipy.spatial import distance\n",
        "from gensim.models import KeyedVectors\n",
        "\n",
        "model = KeyedVectors.load_word2vec_format('GoogleNews-vectors-negative300.bin.gz', binary=True)"
      ],
      "execution_count": null,
      "outputs": [
        {
          "output_type": "stream",
          "text": [
            "Requirement already satisfied: gensim in /usr/local/lib/python3.6/dist-packages (3.6.0)\n",
            "Requirement already satisfied: six>=1.5.0 in /usr/local/lib/python3.6/dist-packages (from gensim) (1.15.0)\n",
            "Requirement already satisfied: smart-open>=1.2.1 in /usr/local/lib/python3.6/dist-packages (from gensim) (3.0.0)\n",
            "Requirement already satisfied: numpy>=1.11.3 in /usr/local/lib/python3.6/dist-packages (from gensim) (1.18.5)\n",
            "Requirement already satisfied: scipy>=0.18.1 in /usr/local/lib/python3.6/dist-packages (from gensim) (1.4.1)\n",
            "Requirement already satisfied: requests in /usr/local/lib/python3.6/dist-packages (from smart-open>=1.2.1->gensim) (2.23.0)\n",
            "Requirement already satisfied: idna<3,>=2.5 in /usr/local/lib/python3.6/dist-packages (from requests->smart-open>=1.2.1->gensim) (2.10)\n",
            "Requirement already satisfied: urllib3!=1.25.0,!=1.25.1,<1.26,>=1.21.1 in /usr/local/lib/python3.6/dist-packages (from requests->smart-open>=1.2.1->gensim) (1.24.3)\n",
            "Requirement already satisfied: certifi>=2017.4.17 in /usr/local/lib/python3.6/dist-packages (from requests->smart-open>=1.2.1->gensim) (2020.6.20)\n",
            "Requirement already satisfied: chardet<4,>=3.0.2 in /usr/local/lib/python3.6/dist-packages (from requests->smart-open>=1.2.1->gensim) (3.0.4)\n",
            "--2020-11-01 00:28:00--  https://s3.amazonaws.com/dl4j-distribution/GoogleNews-vectors-negative300.bin.gz\n",
            "Resolving s3.amazonaws.com (s3.amazonaws.com)... 52.217.85.230\n",
            "Connecting to s3.amazonaws.com (s3.amazonaws.com)|52.217.85.230|:443... connected.\n",
            "HTTP request sent, awaiting response... 200 OK\n",
            "Length: 1647046227 (1.5G) [application/x-gzip]\n",
            "Saving to: ‘GoogleNews-vectors-negative300.bin.gz’\n",
            "\n",
            "GoogleNews-vectors- 100%[===================>]   1.53G  16.6MB/s    in 97s     \n",
            "\n",
            "2020-11-01 00:29:38 (16.1 MB/s) - ‘GoogleNews-vectors-negative300.bin.gz’ saved [1647046227/1647046227]\n",
            "\n"
          ],
          "name": "stdout"
        }
      ]
    },
    {
      "cell_type": "markdown",
      "metadata": {
        "deletable": false,
        "editable": false,
        "nbgrader": {
          "checksum": "47031c66b74746d23ccc5e8369446a4b",
          "grade": false,
          "grade_id": "cell-3f89500615a0096f",
          "locked": true,
          "schema_version": 1,
          "solution": false
        },
        "id": "ZF74G9bDKDVh"
      },
      "source": [
        "### **Q1 (1 point)** \n",
        "Find the cosine similarity between the following word pairs\n",
        "\n",
        "- (France, England)\n",
        "- (smaller, bigger)\n",
        "- (England, London)\n",
        "- (France, Rocket)\n",
        "- (big, bigger)"
      ]
    },
    {
      "cell_type": "code",
      "metadata": {
        "deletable": false,
        "nbgrader": {
          "checksum": "4d52dda406c3d8cd5e37d29755f0fb12",
          "grade": false,
          "grade_id": "cell-fbbe575f8f5a6368",
          "locked": false,
          "schema_version": 1,
          "solution": true
        },
        "id": "SZD5ZaMvKDVk",
        "outputId": "bb999ab7-550e-454c-c3fc-18abe0ed1978",
        "colab": {
          "base_uri": "https://localhost:8080/",
          "height": 71
        }
      },
      "source": [
        "#Replace 0 with the code / value; Do not delete this cell\n",
        "similarity_pair1 = model.similarity('France', 'England')\n",
        "similarity_pair2 = model.similarity('smaller', 'bigger')\n",
        "similarity_pair3 = model.similarity('England', 'London')\n",
        "similarity_pair4 = model.similarity('France', 'Rocket')\n",
        "similarity_pair5 = model.similarity('big', 'bigger')\n",
        "\n"
      ],
      "execution_count": null,
      "outputs": [
        {
          "output_type": "stream",
          "text": [
            "/usr/local/lib/python3.6/dist-packages/gensim/matutils.py:737: FutureWarning: Conversion of the second argument of issubdtype from `int` to `np.signedinteger` is deprecated. In future, it will be treated as `np.int64 == np.dtype(int).type`.\n",
            "  if np.issubdtype(vec.dtype, np.int):\n"
          ],
          "name": "stderr"
        }
      ]
    },
    {
      "cell_type": "code",
      "metadata": {
        "deletable": false,
        "editable": false,
        "nbgrader": {
          "checksum": "569aa8b664a41d901bf7b0a5e23e9930",
          "grade": true,
          "grade_id": "cell-929d59ed5d67f618",
          "locked": true,
          "points": 1,
          "schema_version": 1,
          "solution": false
        },
        "id": "tFUPLSK7KDVp",
        "outputId": "ec7d3bfb-b8df-42a8-d9c7-ac523f4cd694",
        "colab": {
          "base_uri": "https://localhost:8080/",
          "height": 34
        }
      },
      "source": [
        "#This is an autograded cell, do not edit/delete\n",
        "print(similarity_pair1, similarity_pair2, similarity_pair3, similarity_pair4, similarity_pair5)"
      ],
      "execution_count": null,
      "outputs": [
        {
          "output_type": "stream",
          "text": [
            "0.39804944 0.7302272 0.43992856 0.07114174 0.68423855\n"
          ],
          "name": "stdout"
        }
      ]
    },
    {
      "cell_type": "markdown",
      "metadata": {
        "deletable": false,
        "editable": false,
        "nbgrader": {
          "checksum": "a7f270405ddf9ecbffde36e6c096b818",
          "grade": false,
          "grade_id": "cell-ccd6618b4fac3715",
          "locked": true,
          "schema_version": 1,
          "solution": false
        },
        "id": "ZcqpWCjJKDVs"
      },
      "source": [
        "### **Q2 (1 point)** \n",
        "Write an expression to extract the vector representations of the words: \n",
        "\n",
        "- France\n",
        "- England\n",
        "- smaller\n",
        "- bigger\n",
        "- rocket\n",
        "- big\n",
        "\n",
        "Get only the first 5 elements for each vector representation."
      ]
    },
    {
      "cell_type": "code",
      "metadata": {
        "deletable": false,
        "nbgrader": {
          "checksum": "6b3cecb268eb9440c446cd3de984b7f6",
          "grade": false,
          "grade_id": "cell-00f3d05abb28aa23",
          "locked": false,
          "schema_version": 1,
          "solution": true
        },
        "id": "6pzKlLyjKDVt",
        "outputId": "f1296ba8-6140-449e-ba62-4fb194c244ea",
        "colab": {
          "base_uri": "https://localhost:8080/",
          "height": 221
        }
      },
      "source": [
        "#Replace 0 with the code / value to get the first 5 elements of each vector; Do not delete this cell\n",
        "vector_1 = model.wv['France']\n",
        "vector_2 = model.wv['England']\n",
        "vector_3 = model.wv['smaller']\n",
        "vector_4 = model.wv['bigger']\n",
        "vector_5 = model.wv['rocket']\n",
        "vector_6 = model.wv['big']\n",
        "\n"
      ],
      "execution_count": null,
      "outputs": [
        {
          "output_type": "stream",
          "text": [
            "/usr/local/lib/python3.6/dist-packages/ipykernel_launcher.py:2: DeprecationWarning: Call to deprecated `wv` (Attribute will be removed in 4.0.0, use self instead).\n",
            "  \n",
            "/usr/local/lib/python3.6/dist-packages/ipykernel_launcher.py:3: DeprecationWarning: Call to deprecated `wv` (Attribute will be removed in 4.0.0, use self instead).\n",
            "  This is separate from the ipykernel package so we can avoid doing imports until\n",
            "/usr/local/lib/python3.6/dist-packages/ipykernel_launcher.py:4: DeprecationWarning: Call to deprecated `wv` (Attribute will be removed in 4.0.0, use self instead).\n",
            "  after removing the cwd from sys.path.\n",
            "/usr/local/lib/python3.6/dist-packages/ipykernel_launcher.py:5: DeprecationWarning: Call to deprecated `wv` (Attribute will be removed in 4.0.0, use self instead).\n",
            "  \"\"\"\n",
            "/usr/local/lib/python3.6/dist-packages/ipykernel_launcher.py:6: DeprecationWarning: Call to deprecated `wv` (Attribute will be removed in 4.0.0, use self instead).\n",
            "  \n",
            "/usr/local/lib/python3.6/dist-packages/ipykernel_launcher.py:7: DeprecationWarning: Call to deprecated `wv` (Attribute will be removed in 4.0.0, use self instead).\n",
            "  import sys\n"
          ],
          "name": "stderr"
        }
      ]
    },
    {
      "cell_type": "code",
      "metadata": {
        "deletable": false,
        "editable": false,
        "nbgrader": {
          "checksum": "401940f859774b3c1ec48338fa15682e",
          "grade": true,
          "grade_id": "cell-6f34229370fa873f",
          "locked": true,
          "points": 1,
          "schema_version": 1,
          "solution": false
        },
        "id": "Hkj2ROGTKDVv"
      },
      "source": [
        "#This is an autograded cell, do not edit/delete\n",
        "print(vector_1)\n",
        "print(vector_2)\n",
        "print(vector_3)\n",
        "print(vector_4)\n",
        "print(vector_5)\n",
        "print(vector_6)\n"
      ],
      "execution_count": null,
      "outputs": []
    },
    {
      "cell_type": "markdown",
      "metadata": {
        "deletable": false,
        "editable": false,
        "nbgrader": {
          "checksum": "ac8b42811c924e7988f17b9dbd3f71ef",
          "grade": false,
          "grade_id": "cell-4ad44071d3785409",
          "locked": true,
          "schema_version": 1,
          "solution": false
        },
        "id": "2UBnMwiXKDVy"
      },
      "source": [
        "### **Q3 (1 point)** \n",
        "Find the euclidean distances between the word pairs : \n",
        "\n",
        "- (France, England)\n",
        "- (smaller, bigger)\n",
        "- (England, London)\n",
        "- (France, Rocket)\n",
        "- (big, bigger)\n"
      ]
    },
    {
      "cell_type": "code",
      "metadata": {
        "deletable": false,
        "nbgrader": {
          "checksum": "a771483fbb59086604eb84bcc7c7f0ad",
          "grade": false,
          "grade_id": "cell-3aba86afc0ebd8a8",
          "locked": false,
          "schema_version": 1,
          "solution": true
        },
        "id": "zQGd-YVoKDV3",
        "outputId": "03ce8ead-3fb1-41b3-d816-d90751938438",
        "colab": {
          "base_uri": "https://localhost:8080/",
          "height": 187
        }
      },
      "source": [
        "#Replace 0 with the code / value; Do not delete this cell\n",
        "eu_dist1 = np.linalg.norm(model.wv['France'] - model.wv['England'])\n",
        "# eu_dist1 = distance.euclidean(model.wv['France'], model.wv['England'])\n",
        "eu_dist2 = np.linalg.norm(model.wv['smaller'] - model.wv['bigger'])\n",
        "eu_dist3 = np.linalg.norm(model.wv['England'] - model.wv['London'])\n",
        "eu_dist4 = np.linalg.norm(model.wv['France'] - model.wv['Rocket'])\n",
        "eu_dist5 = np.linalg.norm(model.wv['big'] - model.wv['bigger'])\n",
        "\n"
      ],
      "execution_count": null,
      "outputs": [
        {
          "output_type": "stream",
          "text": [
            "/usr/local/lib/python3.6/dist-packages/ipykernel_launcher.py:2: DeprecationWarning: Call to deprecated `wv` (Attribute will be removed in 4.0.0, use self instead).\n",
            "  \n",
            "/usr/local/lib/python3.6/dist-packages/ipykernel_launcher.py:4: DeprecationWarning: Call to deprecated `wv` (Attribute will be removed in 4.0.0, use self instead).\n",
            "  after removing the cwd from sys.path.\n",
            "/usr/local/lib/python3.6/dist-packages/ipykernel_launcher.py:5: DeprecationWarning: Call to deprecated `wv` (Attribute will be removed in 4.0.0, use self instead).\n",
            "  \"\"\"\n",
            "/usr/local/lib/python3.6/dist-packages/ipykernel_launcher.py:6: DeprecationWarning: Call to deprecated `wv` (Attribute will be removed in 4.0.0, use self instead).\n",
            "  \n",
            "/usr/local/lib/python3.6/dist-packages/ipykernel_launcher.py:7: DeprecationWarning: Call to deprecated `wv` (Attribute will be removed in 4.0.0, use self instead).\n",
            "  import sys\n"
          ],
          "name": "stderr"
        }
      ]
    },
    {
      "cell_type": "code",
      "metadata": {
        "deletable": false,
        "editable": false,
        "nbgrader": {
          "checksum": "17796eb5de342e8f8e841aa137a2c41c",
          "grade": true,
          "grade_id": "cell-15ffa50b82de21ad",
          "locked": true,
          "points": 1,
          "schema_version": 1,
          "solution": false
        },
        "id": "HsSg0l2UKDV6",
        "outputId": "55144bdf-e578-405b-f7f2-df333fd43751",
        "colab": {
          "base_uri": "https://localhost:8080/",
          "height": 102
        }
      },
      "source": [
        "#This is an autograded cell, do not edit / delete\n",
        "print(eu_dist1)\n",
        "print(eu_dist2)\n",
        "print(eu_dist3)\n",
        "print(eu_dist4)\n",
        "print(eu_dist5)\n"
      ],
      "execution_count": null,
      "outputs": [
        {
          "output_type": "stream",
          "text": [
            "3.0151067\n",
            "1.8618743\n",
            "2.8752837\n",
            "3.892071\n",
            "1.9586496\n"
          ],
          "name": "stdout"
        }
      ]
    },
    {
      "cell_type": "markdown",
      "metadata": {
        "deletable": false,
        "editable": false,
        "nbgrader": {
          "checksum": "afc0e843c7545e2df83448feda9f28f5",
          "grade": false,
          "grade_id": "cell-7cd8b9b67386376d",
          "locked": true,
          "schema_version": 1,
          "solution": false
        },
        "id": "XvO2iU7QKDWA"
      },
      "source": [
        "### **Q4 (1 point)**\n",
        "Time to dabble with the power of Word2Vec. Find the 2 closest words  for the following conditions:  \n",
        "- (King - Man + Queen)\n",
        "- (bigger - big + small)\n",
        "- (waiting - wait + run)\n",
        "- (Texas + Milwaukee – Wisconsin)"
      ]
    },
    {
      "cell_type": "code",
      "metadata": {
        "deletable": false,
        "nbgrader": {
          "checksum": "50ef096feb166865434fe2fca3d41f99",
          "grade": false,
          "grade_id": "cell-b72201968c5fd1ec",
          "locked": false,
          "schema_version": 1,
          "solution": true
        },
        "id": "jCxWmA1eKDWB",
        "outputId": "40e5d0eb-cd9b-4df3-ca37-9c70a3c988c2",
        "colab": {
          "base_uri": "https://localhost:8080/",
          "height": 71
        }
      },
      "source": [
        "#Replace 0 with the code / value; Do not delete this cell\n",
        "closest1 = model.most_similar(positive=['King', 'Queen'], negative=['Man'], topn=2)\n",
        "closest2 = model.most_similar(positive=['bigger', 'small'], negative=['big'], topn=2)\n",
        "closest3 = model.most_similar(positive=['waiting', 'run'], negative=['wait'], topn=2)\n",
        "closest4 = model.most_similar(positive=['Texas', 'Milwaukee'], negative=['Wisconsin'], topn=2)\n",
        "closest5 = 0\n",
        "\n",
        "\n",
        "\n",
        "\n"
      ],
      "execution_count": null,
      "outputs": [
        {
          "output_type": "stream",
          "text": [
            "/usr/local/lib/python3.6/dist-packages/gensim/matutils.py:737: FutureWarning: Conversion of the second argument of issubdtype from `int` to `np.signedinteger` is deprecated. In future, it will be treated as `np.int64 == np.dtype(int).type`.\n",
            "  if np.issubdtype(vec.dtype, np.int):\n"
          ],
          "name": "stderr"
        }
      ]
    },
    {
      "cell_type": "code",
      "metadata": {
        "deletable": false,
        "editable": false,
        "nbgrader": {
          "checksum": "f9c5ff502264f29d2632c6387f92686a",
          "grade": true,
          "grade_id": "cell-b69718ab0e1470bc",
          "locked": true,
          "points": 1,
          "schema_version": 1,
          "solution": false
        },
        "id": "io9elfD8KDWE",
        "outputId": "8a7d643a-b8e1-4327-a663-ea89bf093ad1",
        "colab": {
          "base_uri": "https://localhost:8080/",
          "height": 102
        }
      },
      "source": [
        "#This is an autograded cell, do not edit/delete\n",
        "print(closest1)\n",
        "print(closest2)\n",
        "print(closest3)\n",
        "print(closest4)\n",
        "print(closest5)\n"
      ],
      "execution_count": null,
      "outputs": [
        {
          "output_type": "stream",
          "text": [
            "[('Queen_Elizabeth', 0.5257916450500488), ('monarch', 0.5004087090492249)]\n",
            "[('larger', 0.7402471899986267), ('smaller', 0.732999324798584)]\n",
            "[('running', 0.5654535889625549), ('runs', 0.49640005826950073)]\n",
            "[('Houston', 0.7767744064331055), ('Fort_Worth', 0.7270511388778687)]\n",
            "0\n"
          ],
          "name": "stdout"
        }
      ]
    },
    {
      "cell_type": "markdown",
      "metadata": {
        "deletable": false,
        "editable": false,
        "nbgrader": {
          "checksum": "6432058d78f4fa52224c48a3b3e71d0d",
          "grade": false,
          "grade_id": "cell-73dca0e2072fef91",
          "locked": true,
          "schema_version": 1,
          "solution": false
        },
        "id": "erUu4u71KDWJ"
      },
      "source": [
        "### **Q5 (3 points)**\n",
        "Using the vectors for the words in the Google News dataset, explore the semantic representation of these words through K-means clustering and explain your findings.\n",
        "\n",
        "*Note : Since there are ~3Mil words in the vocabulary, you can downsample it to ~20-30k randomly selected words*\n",
        "\n",
        "**Do not delete the below cell**"
      ]
    },
    {
      "cell_type": "code",
      "metadata": {
        "id": "_vdGRKjfxEph",
        "outputId": "ccafef61-14f0-481f-e2c1-18eacaa21430",
        "colab": {
          "base_uri": "https://localhost:8080/",
          "height": 85
        }
      },
      "source": [
        "from sklearn.cluster import KMeans\n",
        "import random \n",
        "import matplotlib.pyplot as plt\n",
        "down_samp = random.sample(list(model.wv.vocab), 20000)\n",
        "down_dict = [model.wv[k] for k in down_samp]"
      ],
      "execution_count": null,
      "outputs": [
        {
          "output_type": "stream",
          "text": [
            "/usr/local/lib/python3.6/dist-packages/ipykernel_launcher.py:4: DeprecationWarning: Call to deprecated `wv` (Attribute will be removed in 4.0.0, use self instead).\n",
            "  after removing the cwd from sys.path.\n",
            "/usr/local/lib/python3.6/dist-packages/ipykernel_launcher.py:5: DeprecationWarning: Call to deprecated `wv` (Attribute will be removed in 4.0.0, use self instead).\n",
            "  \"\"\"\n"
          ],
          "name": "stderr"
        }
      ]
    },
    {
      "cell_type": "code",
      "metadata": {
        "deletable": false,
        "nbgrader": {
          "checksum": "7ecef46689f11d4d0a6fed72e049235f",
          "grade": true,
          "grade_id": "cell-80b177848b8b0212",
          "locked": false,
          "points": 3,
          "schema_version": 1,
          "solution": true
        },
        "id": "M3jN02fOKDWK",
        "outputId": "a4b9fdd7-5ccd-4128-99aa-57eafc3ecbd9",
        "colab": {
          "base_uri": "https://localhost:8080/",
          "height": 351
        }
      },
      "source": [
        "# YOUR CODE HERE\n",
        "clusters = range(1, 20)\n",
        "result = []\n",
        "for c in clusters:\n",
        "  kmeans = KMeans(n_clusters=c)\n",
        "  kmeans.fit(down_dict)\n",
        "  result.append(kmeans.inertia_)\n",
        "\n",
        "plt.plot(clusters, result)\n"
      ],
      "execution_count": null,
      "outputs": [
        {
          "output_type": "stream",
          "text": [
            "/usr/local/lib/python3.6/dist-packages/ipykernel_launcher.py:5: DeprecationWarning: Call to deprecated `wv` (Attribute will be removed in 4.0.0, use self instead).\n",
            "  \"\"\"\n",
            "/usr/local/lib/python3.6/dist-packages/ipykernel_launcher.py:6: DeprecationWarning: Call to deprecated `wv` (Attribute will be removed in 4.0.0, use self instead).\n",
            "  \n"
          ],
          "name": "stderr"
        },
        {
          "output_type": "execute_result",
          "data": {
            "text/plain": [
              "[<matplotlib.lines.Line2D at 0x7f74b47aa9e8>]"
            ]
          },
          "metadata": {
            "tags": []
          },
          "execution_count": 11
        },
        {
          "output_type": "display_data",
          "data": {
            "image/png": "[encoded data removed]",
            "text/plain": [
              "<Figure size 432x288 with 1 Axes>"
            ]
          },
          "metadata": {
            "tags": [],
            "needs_background": "light"
          }
        }
      ]
    },
    {
      "cell_type": "code",
      "metadata": {
        "id": "UtAgAPJqlR2w",
        "outputId": "38d1419a-4d57-4fd7-e1f3-d82e96e2848e",
        "colab": {
          "base_uri": "https://localhost:8080/",
          "height": 34
        }
      },
      "source": [
        "kmeans_ten = KMeans(n_clusters=17)\n",
        "kmeans_ten.fit(down_dict)\n",
        "kmeans_ten.labels_"
      ],
      "execution_count": null,
      "outputs": [
        {
          "output_type": "execute_result",
          "data": {
            "text/plain": [
              "array([ 7,  2,  9, ..., 11,  2, 14], dtype=int32)"
            ]
          },
          "metadata": {
            "tags": []
          },
          "execution_count": 10
        }
      ]
    },
    {
      "cell_type": "code",
      "metadata": {
        "id": "BqfCsbxll8Sj",
        "outputId": "a2097ab6-710d-4d8e-b6c2-5138dc041a9d",
        "colab": {
          "base_uri": "https://localhost:8080/",
          "height": 1000
        }
      },
      "source": [
        "#Using the elbow method, I set the number of clusters to 17. Capitalized words are clustered together. Companies, names, organizations, and locations are assigned to different clusters. \n",
        "pd.DataFrame({'Labels': kmeans_ten.labels_, 'Word': down_samp}).groupby('Labels').head(2).sort_values('Labels')"
      ],
      "execution_count": null,
      "outputs": [
        {
          "output_type": "execute_result",
          "data": {
            "text/html": [
              "<div>\n",
              "<style scoped>\n",
              "    .dataframe tbody tr th:only-of-type {\n",
              "        vertical-align: middle;\n",
              "    }\n",
              "\n",
              "    .dataframe tbody tr th {\n",
              "        vertical-align: top;\n",
              "    }\n",
              "\n",
              "    .dataframe thead th {\n",
              "        text-align: right;\n",
              "    }\n",
              "</style>\n",
              "<table border=\"1\" class=\"dataframe\">\n",
              "  <thead>\n",
              "    <tr style=\"text-align: right;\">\n",
              "      <th></th>\n",
              "      <th>Labels</th>\n",
              "      <th>Word</th>\n",
              "    </tr>\n",
              "  </thead>\n",
              "  <tbody>\n",
              "    <tr>\n",
              "      <th>40</th>\n",
              "      <td>0</td>\n",
              "      <td>Giganews</td>\n",
              "    </tr>\n",
              "    <tr>\n",
              "      <th>20</th>\n",
              "      <td>0</td>\n",
              "      <td>GamesAid</td>\n",
              "    </tr>\n",
              "    <tr>\n",
              "      <th>36</th>\n",
              "      <td>1</td>\n",
              "      <td>Peace_Without_Borders</td>\n",
              "    </tr>\n",
              "    <tr>\n",
              "      <th>16</th>\n",
              "      <td>1</td>\n",
              "      <td>Andraychak</td>\n",
              "    </tr>\n",
              "    <tr>\n",
              "      <th>1</th>\n",
              "      <td>2</td>\n",
              "      <td>Druidry_appeals</td>\n",
              "    </tr>\n",
              "    <tr>\n",
              "      <th>4</th>\n",
              "      <td>2</td>\n",
              "      <td>Kara_Segedin</td>\n",
              "    </tr>\n",
              "    <tr>\n",
              "      <th>17906</th>\n",
              "      <td>3</td>\n",
              "      <td>Annual_OC</td>\n",
              "    </tr>\n",
              "    <tr>\n",
              "      <th>52</th>\n",
              "      <td>4</td>\n",
              "      <td>Miramax_Dimension_Films</td>\n",
              "    </tr>\n",
              "    <tr>\n",
              "      <th>13</th>\n",
              "      <td>4</td>\n",
              "      <td>Loblaw_Cos._Ltd.</td>\n",
              "    </tr>\n",
              "    <tr>\n",
              "      <th>229</th>\n",
              "      <td>5</td>\n",
              "      <td>WAYNE_PARRY</td>\n",
              "    </tr>\n",
              "    <tr>\n",
              "      <th>948</th>\n",
              "      <td>5</td>\n",
              "      <td>PHOTO_BY</td>\n",
              "    </tr>\n",
              "    <tr>\n",
              "      <th>61</th>\n",
              "      <td>6</td>\n",
              "      <td>Bernardo_Bertolucci</td>\n",
              "    </tr>\n",
              "    <tr>\n",
              "      <th>10</th>\n",
              "      <td>6</td>\n",
              "      <td>Bakkom</td>\n",
              "    </tr>\n",
              "    <tr>\n",
              "      <th>0</th>\n",
              "      <td>7</td>\n",
              "      <td>linebacker_Henoc_Muamba</td>\n",
              "    </tr>\n",
              "    <tr>\n",
              "      <th>5</th>\n",
              "      <td>7</td>\n",
              "      <td>Kristin_Walla</td>\n",
              "    </tr>\n",
              "    <tr>\n",
              "      <th>68</th>\n",
              "      <td>8</td>\n",
              "      <td>L_Cpl</td>\n",
              "    </tr>\n",
              "    <tr>\n",
              "      <th>9</th>\n",
              "      <td>8</td>\n",
              "      <td>Glasnevin</td>\n",
              "    </tr>\n",
              "    <tr>\n",
              "      <th>2</th>\n",
              "      <td>9</td>\n",
              "      <td>Tanmay</td>\n",
              "    </tr>\n",
              "    <tr>\n",
              "      <th>37</th>\n",
              "      <td>9</td>\n",
              "      <td>Uul</td>\n",
              "    </tr>\n",
              "    <tr>\n",
              "      <th>56</th>\n",
              "      <td>10</td>\n",
              "      <td>Growths</td>\n",
              "    </tr>\n",
              "    <tr>\n",
              "      <th>19</th>\n",
              "      <td>10</td>\n",
              "      <td>Teysuno</td>\n",
              "    </tr>\n",
              "    <tr>\n",
              "      <th>18</th>\n",
              "      <td>11</td>\n",
              "      <td>Steve_Helber_File</td>\n",
              "    </tr>\n",
              "    <tr>\n",
              "      <th>22</th>\n",
              "      <td>11</td>\n",
              "      <td>Tripoli_Zawiya</td>\n",
              "    </tr>\n",
              "    <tr>\n",
              "      <th>6</th>\n",
              "      <td>12</td>\n",
              "      <td>Newark_Earthworks</td>\n",
              "    </tr>\n",
              "    <tr>\n",
              "      <th>47</th>\n",
              "      <td>12</td>\n",
              "      <td>Chosen_Freeholders</td>\n",
              "    </tr>\n",
              "    <tr>\n",
              "      <th>39</th>\n",
              "      <td>13</td>\n",
              "      <td>flames_crackled</td>\n",
              "    </tr>\n",
              "    <tr>\n",
              "      <th>28</th>\n",
              "      <td>13</td>\n",
              "      <td>chewy_texture</td>\n",
              "    </tr>\n",
              "    <tr>\n",
              "      <th>3</th>\n",
              "      <td>14</td>\n",
              "      <td>Janigian</td>\n",
              "    </tr>\n",
              "    <tr>\n",
              "      <th>11</th>\n",
              "      <td>14</td>\n",
              "      <td>info@weisslurie.com</td>\n",
              "    </tr>\n",
              "    <tr>\n",
              "      <th>109</th>\n",
              "      <td>15</td>\n",
              "      <td>COSMOPOLITAN</td>\n",
              "    </tr>\n",
              "    <tr>\n",
              "      <th>187</th>\n",
              "      <td>15</td>\n",
              "      <td>MAYNARD</td>\n",
              "    </tr>\n",
              "    <tr>\n",
              "      <th>96</th>\n",
              "      <td>16</td>\n",
              "      <td>C_Muniyappa</td>\n",
              "    </tr>\n",
              "    <tr>\n",
              "      <th>216</th>\n",
              "      <td>16</td>\n",
              "      <td>ruckwork</td>\n",
              "    </tr>\n",
              "  </tbody>\n",
              "</table>\n",
              "</div>"
            ],
            "text/plain": [
              "       Labels                     Word\n",
              "40          0                 Giganews\n",
              "20          0                 GamesAid\n",
              "36          1    Peace_Without_Borders\n",
              "16          1               Andraychak\n",
              "1           2          Druidry_appeals\n",
              "4           2             Kara_Segedin\n",
              "17906       3                Annual_OC\n",
              "52          4  Miramax_Dimension_Films\n",
              "13          4         Loblaw_Cos._Ltd.\n",
              "229         5              WAYNE_PARRY\n",
              "948         5                 PHOTO_BY\n",
              "61          6      Bernardo_Bertolucci\n",
              "10          6                   Bakkom\n",
              "0           7  linebacker_Henoc_Muamba\n",
              "5           7            Kristin_Walla\n",
              "68          8                    L_Cpl\n",
              "9           8                Glasnevin\n",
              "2           9                   Tanmay\n",
              "37          9                      Uul\n",
              "56         10                  Growths\n",
              "19         10                  Teysuno\n",
              "18         11        Steve_Helber_File\n",
              "22         11           Tripoli_Zawiya\n",
              "6          12        Newark_Earthworks\n",
              "47         12       Chosen_Freeholders\n",
              "39         13          flames_crackled\n",
              "28         13            chewy_texture\n",
              "3          14                 Janigian\n",
              "11         14      info@weisslurie.com\n",
              "109        15             COSMOPOLITAN\n",
              "187        15                  MAYNARD\n",
              "96         16              C_Muniyappa\n",
              "216        16                 ruckwork"
            ]
          },
          "metadata": {
            "tags": []
          },
          "execution_count": 18
        }
      ]
    },
    {
      "cell_type": "markdown",
      "metadata": {
        "deletable": false,
        "editable": false,
        "nbgrader": {
          "checksum": "0467b27a0f59504cbb62b851a002386f",
          "grade": false,
          "grade_id": "cell-5b2a5e8ff6c74323",
          "locked": true,
          "schema_version": 1,
          "solution": false
        },
        "id": "rmdtLoHkKDWR"
      },
      "source": [
        "### **Q6 (1 point)**\n",
        "What loss function does the skipgram model use and briefly describe what this function is minimizing.\n",
        "\n",
        "**Do not delete the below cell**"
      ]
    },
    {
      "cell_type": "code",
      "metadata": {
        "deletable": false,
        "nbgrader": {
          "checksum": "774aef2c5bf8ef9d92e3489d1cd80390",
          "grade": true,
          "grade_id": "cell-90cc4b2c0ae8e2c2",
          "locked": false,
          "points": 1,
          "schema_version": 1,
          "solution": true
        },
        "id": "SyOASYXOKDWS"
      },
      "source": [
        "#The skipgram model uses cross-entropy loss function. The cross-entropy function aims to minimize the loss.   "
      ],
      "execution_count": null,
      "outputs": []
    },
    {
      "cell_type": "markdown",
      "metadata": {
        "deletable": false,
        "editable": false,
        "nbgrader": {
          "checksum": "c14f6069f64cc86ab6e384d28df270d8",
          "grade": false,
          "grade_id": "cell-74a177caaabb5009",
          "locked": true,
          "schema_version": 1,
          "solution": false
        },
        "id": "dbpuJx9CKDWV"
      },
      "source": [
        "### **Bonus Question (1 point)** \n",
        "Find at least 2 interesting word vec combinations like the ones given in Q4\n",
        "\n",
        "**Do not delete the below cell**"
      ]
    },
    {
      "cell_type": "code",
      "metadata": {
        "deletable": false,
        "nbgrader": {
          "checksum": "c2d42b5327f4b020c7e1706506dd5ce9",
          "grade": true,
          "grade_id": "cell-7351297993d72e83",
          "locked": false,
          "points": 1,
          "schema_version": 1,
          "solution": true
        },
        "id": "pQM8C_T7KDWW",
        "outputId": "e836e958-4695-40f1-c758-8a8ee81ecc2b",
        "colab": {
          "base_uri": "https://localhost:8080/",
          "height": 68
        }
      },
      "source": [
        "# (Modern - Ancient + First) =  Second\n",
        "model.most_similar(positive=['Modern', 'First'], negative=['Ancient'], topn=1)"
      ],
      "execution_count": null,
      "outputs": [
        {
          "output_type": "stream",
          "text": [
            "/usr/local/lib/python3.6/dist-packages/gensim/matutils.py:737: FutureWarning: Conversion of the second argument of issubdtype from `int` to `np.signedinteger` is deprecated. In future, it will be treated as `np.int64 == np.dtype(int).type`.\n",
            "  if np.issubdtype(vec.dtype, np.int):\n"
          ],
          "name": "stderr"
        },
        {
          "output_type": "execute_result",
          "data": {
            "text/plain": [
              "[('Second', 0.48993825912475586)]"
            ]
          },
          "metadata": {
            "tags": []
          },
          "execution_count": 20
        }
      ]
    },
    {
      "cell_type": "code",
      "metadata": {
        "id": "5DZjrMoDZ--i",
        "outputId": "3d9f7cf8-986c-450d-a69f-ff12cee66a81",
        "colab": {
          "base_uri": "https://localhost:8080/",
          "height": 68
        }
      },
      "source": [
        " # （Woman - Actor + Man）= Actress\n",
        " model.most_similar(positive=['Woman', 'Actor'], negative=['Man'], topn=1)"
      ],
      "execution_count": null,
      "outputs": [
        {
          "output_type": "stream",
          "text": [
            "/usr/local/lib/python3.6/dist-packages/gensim/matutils.py:737: FutureWarning: Conversion of the second argument of issubdtype from `int` to `np.signedinteger` is deprecated. In future, it will be treated as `np.int64 == np.dtype(int).type`.\n",
            "  if np.issubdtype(vec.dtype, np.int):\n"
          ],
          "name": "stderr"
        },
        {
          "output_type": "execute_result",
          "data": {
            "text/plain": [
              "[('Actress', 0.7089049816131592)]"
            ]
          },
          "metadata": {
            "tags": []
          },
          "execution_count": 34
        }
      ]
    },
    {
      "cell_type": "markdown",
      "metadata": {
        "id": "bx3Heo44Gk-W"
      },
      "source": [
        "# **Lab 6 Part 2**"
      ]
    },
    {
      "cell_type": "markdown",
      "metadata": {
        "id": "NhrkmKKPIdmX"
      },
      "source": [
        "Generate Embedding"
      ]
    },
    {
      "cell_type": "code",
      "metadata": {
        "id": "QD0I61TsGpEK",
        "outputId": "767cf246-21a5-45c8-a098-aa9c0d7fd308",
        "colab": {
          "base_uri": "https://localhost:8080/",
          "height": 68
        }
      },
      "source": [
        "import nltk\n",
        "nltk.download('movie_reviews')"
      ],
      "execution_count": null,
      "outputs": [
        {
          "output_type": "stream",
          "text": [
            "[nltk_data] Downloading package movie_reviews to /root/nltk_data...\n",
            "[nltk_data]   Unzipping corpora/movie_reviews.zip.\n"
          ],
          "name": "stdout"
        },
        {
          "output_type": "execute_result",
          "data": {
            "text/plain": [
              "True"
            ]
          },
          "metadata": {
            "tags": []
          },
          "execution_count": 5
        }
      ]
    },
    {
      "cell_type": "code",
      "metadata": {
        "id": "4UnirlZeGyeP",
        "outputId": "73e84cd5-1c39-42bd-b0c4-26357175f340",
        "colab": {
          "base_uri": "https://localhost:8080/",
          "height": 51
        }
      },
      "source": [
        "#Build the Word2Vec model\n",
        "from nltk.corpus import movie_reviews\n",
        "from gensim.models import Word2Vec\n",
        "from nltk import word_tokenize, tokenize\n",
        "import string\n",
        "nltk.download('punkt')\n",
        "tokens = movie_reviews.sents(fileids=movie_reviews.fileids())\n",
        "cleaned = [] \n",
        "for i, x in enumerate(tokens):\n",
        "  cleaned.append([y for y in x if y not in string.punctuation])"
      ],
      "execution_count": null,
      "outputs": [
        {
          "output_type": "stream",
          "text": [
            "[nltk_data] Downloading package punkt to /root/nltk_data...\n",
            "[nltk_data]   Package punkt is already up-to-date!\n"
          ],
          "name": "stdout"
        }
      ]
    },
    {
      "cell_type": "code",
      "metadata": {
        "id": "vJ2XBtzIauDT"
      },
      "source": [
        "sent_model = Word2Vec(cleaned, size=16, window=5, min_count=1, workers=4)"
      ],
      "execution_count": null,
      "outputs": []
    },
    {
      "cell_type": "markdown",
      "metadata": {
        "id": "GrU1JR9eKH5J"
      },
      "source": [
        "Validate Hypothesis"
      ]
    },
    {
      "cell_type": "code",
      "metadata": {
        "id": "SewWsK30Ij8E",
        "outputId": "f03f2535-893e-42f0-cd9f-e1710a8f449a",
        "colab": {
          "base_uri": "https://localhost:8080/",
          "height": 173
        }
      },
      "source": [
        "#Tedious should be more similar to lame than favorite\n",
        "print(sent_model.similarity('tedious', 'lame'))\n",
        "print(sent_model.similarity('tedious', 'favorite'))"
      ],
      "execution_count": null,
      "outputs": [
        {
          "output_type": "stream",
          "text": [
            "0.84448135\n",
            "0.45281893\n"
          ],
          "name": "stdout"
        },
        {
          "output_type": "stream",
          "text": [
            "/usr/local/lib/python3.6/dist-packages/ipykernel_launcher.py:2: DeprecationWarning: Call to deprecated `similarity` (Method will be removed in 4.0.0, use self.wv.similarity() instead).\n",
            "  \n",
            "/usr/local/lib/python3.6/dist-packages/gensim/matutils.py:737: FutureWarning: Conversion of the second argument of issubdtype from `int` to `np.signedinteger` is deprecated. In future, it will be treated as `np.int64 == np.dtype(int).type`.\n",
            "  if np.issubdtype(vec.dtype, np.int):\n",
            "/usr/local/lib/python3.6/dist-packages/ipykernel_launcher.py:3: DeprecationWarning: Call to deprecated `similarity` (Method will be removed in 4.0.0, use self.wv.similarity() instead).\n",
            "  This is separate from the ipykernel package so we can avoid doing imports until\n"
          ],
          "name": "stderr"
        }
      ]
    },
    {
      "cell_type": "code",
      "metadata": {
        "id": "qPqRajZn0IiN",
        "outputId": "87cc8666-71b8-4df8-b2f1-0ebcf88df2cb",
        "colab": {
          "base_uri": "https://localhost:8080/",
          "height": 173
        }
      },
      "source": [
        "#Comedy should be more similar to laugh than miserable\n",
        "print(sent_model.similarity('comedy', 'laugh'))\n",
        "print(sent_model.similarity('comedy', 'despair'))"
      ],
      "execution_count": null,
      "outputs": [
        {
          "output_type": "stream",
          "text": [
            "0.486662\n",
            "0.34346056\n"
          ],
          "name": "stdout"
        },
        {
          "output_type": "stream",
          "text": [
            "/usr/local/lib/python3.6/dist-packages/ipykernel_launcher.py:2: DeprecationWarning: Call to deprecated `similarity` (Method will be removed in 4.0.0, use self.wv.similarity() instead).\n",
            "  \n",
            "/usr/local/lib/python3.6/dist-packages/gensim/matutils.py:737: FutureWarning: Conversion of the second argument of issubdtype from `int` to `np.signedinteger` is deprecated. In future, it will be treated as `np.int64 == np.dtype(int).type`.\n",
            "  if np.issubdtype(vec.dtype, np.int):\n",
            "/usr/local/lib/python3.6/dist-packages/ipykernel_launcher.py:3: DeprecationWarning: Call to deprecated `similarity` (Method will be removed in 4.0.0, use self.wv.similarity() instead).\n",
            "  This is separate from the ipykernel package so we can avoid doing imports until\n"
          ],
          "name": "stderr"
        }
      ]
    },
    {
      "cell_type": "code",
      "metadata": {
        "id": "H1Z2_7pn_ED3",
        "outputId": "918973e3-9abc-460b-84e3-4cb2008c5bd9",
        "colab": {
          "base_uri": "https://localhost:8080/",
          "height": 173
        }
      },
      "source": [
        "#Violent should be more similar to bloody than peaceful\n",
        "print(sent_model.similarity('violent', 'bloody'))\n",
        "print(sent_model.similarity('violent', 'peaceful'))"
      ],
      "execution_count": null,
      "outputs": [
        {
          "output_type": "stream",
          "text": [
            "0.9460094\n",
            "0.755812\n"
          ],
          "name": "stdout"
        },
        {
          "output_type": "stream",
          "text": [
            "/usr/local/lib/python3.6/dist-packages/ipykernel_launcher.py:2: DeprecationWarning: Call to deprecated `similarity` (Method will be removed in 4.0.0, use self.wv.similarity() instead).\n",
            "  \n",
            "/usr/local/lib/python3.6/dist-packages/gensim/matutils.py:737: FutureWarning: Conversion of the second argument of issubdtype from `int` to `np.signedinteger` is deprecated. In future, it will be treated as `np.int64 == np.dtype(int).type`.\n",
            "  if np.issubdtype(vec.dtype, np.int):\n",
            "/usr/local/lib/python3.6/dist-packages/ipykernel_launcher.py:3: DeprecationWarning: Call to deprecated `similarity` (Method will be removed in 4.0.0, use self.wv.similarity() instead).\n",
            "  This is separate from the ipykernel package so we can avoid doing imports until\n"
          ],
          "name": "stderr"
        }
      ]
    },
    {
      "cell_type": "markdown",
      "metadata": {
        "id": "BZM5ql6eP0e0"
      },
      "source": [
        "Reduce Dimensionality"
      ]
    },
    {
      "cell_type": "code",
      "metadata": {
        "id": "51XbIk6xFjvg"
      },
      "source": [
        "#extract the unique words. \n",
        "unique_words = list(set([item for sublist in cleaned for item in sublist]))"
      ],
      "execution_count": null,
      "outputs": []
    },
    {
      "cell_type": "code",
      "metadata": {
        "id": "aav0MGsIFrru",
        "outputId": "b28d1633-c179-4891-9e42-60abc129180e",
        "colab": {
          "base_uri": "https://localhost:8080/",
          "height": 34
        }
      },
      "source": [
        "len(unique_words)"
      ],
      "execution_count": null,
      "outputs": [
        {
          "output_type": "execute_result",
          "data": {
            "text/plain": [
              "39737"
            ]
          },
          "metadata": {
            "tags": []
          },
          "execution_count": 46
        }
      ]
    },
    {
      "cell_type": "code",
      "metadata": {
        "id": "ycxUyxBQFtPs",
        "outputId": "da6673a6-e83b-419d-a0ee-154a91235fcc",
        "colab": {
          "base_uri": "https://localhost:8080/",
          "height": 34
        }
      },
      "source": [
        "#Build a list of all the vectors. \n",
        "all_vectors = sent_model.wv[unique_words]\n",
        "len(all_vectors)"
      ],
      "execution_count": null,
      "outputs": [
        {
          "output_type": "execute_result",
          "data": {
            "text/plain": [
              "39737"
            ]
          },
          "metadata": {
            "tags": []
          },
          "execution_count": 47
        }
      ]
    },
    {
      "cell_type": "code",
      "metadata": {
        "id": "XYD_CxqMAYa-"
      },
      "source": [
        "from sklearn.manifold import TSNE\n",
        "\n",
        "data_embed=TSNE(n_components=2, perplexity=50, verbose=2, method='barnes_hut').fit_transform(all_vectors)\n"
      ],
      "execution_count": null,
      "outputs": []
    },
    {
      "cell_type": "code",
      "metadata": {
        "id": "m48-lL3ZGDaj"
      },
      "source": [
        "## Vizualise\n",
        "%matplotlib inline\n",
        "from matplotlib import pyplot as plt"
      ],
      "execution_count": null,
      "outputs": []
    },
    {
      "cell_type": "code",
      "metadata": {
        "id": "Edv0FdArHHTf",
        "outputId": "3d802cb1-5b61-4c89-e0ae-30aa291f645d",
        "colab": {
          "base_uri": "https://localhost:8080/",
          "height": 265
        }
      },
      "source": [
        "x_axis= data_embed[:,0]\n",
        "y_axis=data_embed[:,1]\n",
        "\n",
        "plt.scatter(x_axis, y_axis, s=5)\n",
        "plt.show() ## The plots vary each time you run them"
      ],
      "execution_count": null,
      "outputs": [
        {
          "output_type": "display_data",
          "data": {
            "image/png": "[encoded data removed]",
            "text/plain": [
              "<Figure size 432x288 with 1 Axes>"
            ]
          },
          "metadata": {
            "tags": [],
            "needs_background": "light"
          }
        }
      ]
    },
    {
      "cell_type": "code",
      "metadata": {
        "id": "XQwbZjdzJai3",
        "outputId": "0c576f43-567e-4bd2-e7a9-33ea26cda05c",
        "colab": {
          "base_uri": "https://localhost:8080/",
          "height": 816
        }
      },
      "source": [
        "#All Google news vectors \n",
        "google_embed=TSNE(n_components=2, perplexity=50, verbose=2, method='barnes_hut').fit_transform(down_dict)"
      ],
      "execution_count": null,
      "outputs": [
        {
          "output_type": "stream",
          "text": [
            "[t-SNE] Computing 151 nearest neighbors...\n",
            "[t-SNE] Indexed 20000 samples in 0.943s...\n",
            "[t-SNE] Computed neighbors for 20000 samples in 343.243s...\n",
            "[t-SNE] Computed conditional probabilities for sample 1000 / 20000\n",
            "[t-SNE] Computed conditional probabilities for sample 2000 / 20000\n",
            "[t-SNE] Computed conditional probabilities for sample 3000 / 20000\n",
            "[t-SNE] Computed conditional probabilities for sample 4000 / 20000\n",
            "[t-SNE] Computed conditional probabilities for sample 5000 / 20000\n",
            "[t-SNE] Computed conditional probabilities for sample 6000 / 20000\n",
            "[t-SNE] Computed conditional probabilities for sample 7000 / 20000\n",
            "[t-SNE] Computed conditional probabilities for sample 8000 / 20000\n",
            "[t-SNE] Computed conditional probabilities for sample 9000 / 20000\n",
            "[t-SNE] Computed conditional probabilities for sample 10000 / 20000\n",
            "[t-SNE] Computed conditional probabilities for sample 11000 / 20000\n",
            "[t-SNE] Computed conditional probabilities for sample 12000 / 20000\n",
            "[t-SNE] Computed conditional probabilities for sample 13000 / 20000\n",
            "[t-SNE] Computed conditional probabilities for sample 14000 / 20000\n",
            "[t-SNE] Computed conditional probabilities for sample 15000 / 20000\n",
            "[t-SNE] Computed conditional probabilities for sample 16000 / 20000\n",
            "[t-SNE] Computed conditional probabilities for sample 17000 / 20000\n",
            "[t-SNE] Computed conditional probabilities for sample 18000 / 20000\n",
            "[t-SNE] Computed conditional probabilities for sample 19000 / 20000\n",
            "[t-SNE] Computed conditional probabilities for sample 20000 / 20000\n",
            "[t-SNE] Mean sigma: 0.258784\n",
            "[t-SNE] Computed conditional probabilities in 1.980s\n",
            "[t-SNE] Iteration 50: error = 95.0674133, gradient norm = 0.0840814 (50 iterations in 25.816s)\n",
            "[t-SNE] Iteration 100: error = 95.4308167, gradient norm = 0.0826846 (50 iterations in 22.968s)\n",
            "[t-SNE] Iteration 150: error = 95.3383789, gradient norm = 0.0825641 (50 iterations in 22.982s)\n",
            "[t-SNE] Iteration 200: error = 95.7559509, gradient norm = 0.0700342 (50 iterations in 24.725s)\n",
            "[t-SNE] Iteration 250: error = 96.0449448, gradient norm = 0.0710050 (50 iterations in 28.196s)\n",
            "[t-SNE] KL divergence after 250 iterations with early exaggeration: 96.044945\n",
            "[t-SNE] Iteration 300: error = 4.3396688, gradient norm = 0.0027688 (50 iterations in 22.519s)\n",
            "[t-SNE] Iteration 350: error = 3.9065447, gradient norm = 0.0008396 (50 iterations in 13.562s)\n",
            "[t-SNE] Iteration 400: error = 3.7536743, gradient norm = 0.0003413 (50 iterations in 12.208s)\n",
            "[t-SNE] Iteration 450: error = 3.6706734, gradient norm = 0.0002094 (50 iterations in 12.315s)\n",
            "[t-SNE] Iteration 500: error = 3.6190090, gradient norm = 0.0001445 (50 iterations in 12.265s)\n",
            "[t-SNE] Iteration 550: error = 3.5804238, gradient norm = 0.0001251 (50 iterations in 12.291s)\n",
            "[t-SNE] Iteration 600: error = 3.5519671, gradient norm = 0.0000914 (50 iterations in 12.410s)\n",
            "[t-SNE] Iteration 650: error = 3.5311708, gradient norm = 0.0000756 (50 iterations in 12.322s)\n",
            "[t-SNE] Iteration 700: error = 3.5148206, gradient norm = 0.0000645 (50 iterations in 12.344s)\n",
            "[t-SNE] Iteration 750: error = 3.5012736, gradient norm = 0.0000548 (50 iterations in 12.407s)\n",
            "[t-SNE] Iteration 800: error = 3.4899516, gradient norm = 0.0000492 (50 iterations in 12.340s)\n",
            "[t-SNE] Iteration 850: error = 3.4807053, gradient norm = 0.0000437 (50 iterations in 12.378s)\n",
            "[t-SNE] Iteration 900: error = 3.4727731, gradient norm = 0.0000378 (50 iterations in 12.342s)\n",
            "[t-SNE] Iteration 950: error = 3.4663901, gradient norm = 0.0000341 (50 iterations in 12.435s)\n",
            "[t-SNE] Iteration 1000: error = 3.4608507, gradient norm = 0.0000319 (50 iterations in 12.405s)\n",
            "[t-SNE] KL divergence after 1000 iterations: 3.460851\n"
          ],
          "name": "stdout"
        }
      ]
    },
    {
      "cell_type": "code",
      "metadata": {
        "id": "GmhsJwN-M_4O",
        "outputId": "2857617b-1a55-496f-e472-980c3b6ae58b",
        "colab": {
          "base_uri": "https://localhost:8080/",
          "height": 265
        }
      },
      "source": [
        "x_axis= google_embed[:,0]\n",
        "y_axis=google_embed[:,1]\n",
        "\n",
        "plt.scatter(x_axis, y_axis, s=5)\n",
        "plt.show() ## The plots vary each time you run them"
      ],
      "execution_count": null,
      "outputs": [
        {
          "output_type": "display_data",
          "data": {
            "image/png": "[encoded data removed]",
            "text/plain": [
              "<Figure size 432x288 with 1 Axes>"
            ]
          },
          "metadata": {
            "tags": [],
            "needs_background": "light"
          }
        }
      ]
    },
    {
      "cell_type": "code",
      "metadata": {
        "id": "cn3Ob_R7RuP6"
      },
      "source": [
        "from google.colab.output import eval_js\n",
        "from IPython.display import Javascript"
      ],
      "execution_count": null,
      "outputs": []
    },
    {
      "cell_type": "code",
      "metadata": {
        "id": "z12HOeL2TXHP",
        "outputId": "72d8af0f-33df-4469-89f1-c459495d8990",
        "colab": {
          "base_uri": "https://localhost:8080/",
          "height": 136
        }
      },
      "source": [
        "!git clone https://github.com/CAHLR/d3-scatterplot.git"
      ],
      "execution_count": null,
      "outputs": [
        {
          "output_type": "stream",
          "text": [
            "Cloning into 'd3-scatterplot'...\n",
            "remote: Enumerating objects: 19, done.\u001b[K\n",
            "remote: Counting objects: 100% (19/19), done.\u001b[K\n",
            "remote: Compressing objects: 100% (19/19), done.\u001b[K\n",
            "remote: Total 1022 (delta 9), reused 1 (delta 0), pack-reused 1003\u001b[K\n",
            "Receiving objects: 100% (1022/1022), 1.94 MiB | 1.92 MiB/s, done.\n",
            "Resolving deltas: 100% (590/590), done.\n"
          ],
          "name": "stdout"
        }
      ]
    },
    {
      "cell_type": "code",
      "metadata": {
        "id": "i4BtGfh-TZA2"
      },
      "source": [
        ""
      ],
      "execution_count": null,
      "outputs": []
    }
  ]
}