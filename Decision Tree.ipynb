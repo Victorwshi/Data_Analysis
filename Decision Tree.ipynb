{
  "nbformat": 4,
  "nbformat_minor": 0,
  "metadata": {
    "kernelspec": {
      "display_name": "Python 3",
      "language": "python",
      "name": "python3"
    },
    "language_info": {
      "codemirror_mode": {
        "name": "ipython",
        "version": 3
      },
      "file_extension": ".py",
      "mimetype": "text/x-python",
      "name": "python",
      "nbconvert_exporter": "python",
      "pygments_lexer": "ipython3",
      "version": "3.6.9"
    },
    "colab": {
      "name": "DMA'20 - Lab 3: Decision Trees.ipynb",
      "provenance": [],
      "collapsed_sections": [
        "waG6P9fyuglt",
        "JoFggmQGugmi",
        "gIOPTYuiugnF"
      ]
    }
  },
  "cells": [
    {
      "cell_type": "markdown",
      "metadata": {
        "id": "vAxKKJ84ugjs",
        "colab_type": "text"
      },
      "source": [
        "# DMA Fall '20"
      ]
    },
    {
      "cell_type": "code",
      "metadata": {
        "id": "nFr3Tjz_ugjv",
        "colab_type": "code",
        "colab": {}
      },
      "source": [
        "NAME = \"Victor Shi\"\n",
        "COLLABORATORS = \"\""
      ],
      "execution_count": 15,
      "outputs": []
    },
    {
      "cell_type": "markdown",
      "metadata": {
        "id": "VtQyVZG7ugj0",
        "colab_type": "text"
      },
      "source": [
        "---"
      ]
    },
    {
      "cell_type": "markdown",
      "metadata": {
        "deletable": false,
        "editable": false,
        "nbgrader": {
          "checksum": "0ec61936c13b80ce01fa0818121a29a9",
          "grade": false,
          "grade_id": "cell-c6a6e713740ff888",
          "locked": true,
          "schema_version": 1,
          "solution": false
        },
        "id": "dSxT_unDugj1",
        "colab_type": "text"
      },
      "source": [
        "# Lab 3: Decision Trees\n",
        "\n",
        "**Please read the following instructions very carefully**\n",
        "\n",
        "## Working on the assignment / FAQs\n",
        "- **Always use the seed/random_state as *42* wherever applicable** (This is to ensure repeatability in answers, across students and coding environments) \n",
        "- Questions can be either autograded and manually graded.\n",
        "- The type of question and the points they carry are indicated in each question cell\n",
        "- An autograded question has 3 cells\n",
        "     - **Question cell** : Read only cell containing the question\n",
        "     - **Code Cell** : This is where you write the code\n",
        "     - **Grading cell** : This is where the grading occurs, and **you are required not to edit this cell**\n",
        "- Manually graded questions only have the question and code cells. **All manually graded questions are explicitly stated**\n",
        "- To avoid any ambiguity, each question also specifies what *value* must be set. Note that these are dummy values and not the answers\n",
        "- If an autograded question has multiple answers (due to differences in handling NaNs, zeros etc.), all answers will be considered.\n",
        "- Most assignments have bonus questions for extra credit, do try them out! \n",
        "- You can delete the `raise NotImplementedError()` for all questions.\n",
        "- **Submitting the assignment** : Download the '.ipynb' file from Colab and upload it to bcourses. Do not delete any outputs from cells before submitting.\n",
        "- That's about it. Happy coding!\n",
        "\n",
        "\n",
        "## About the dataset\n",
        "This assignment uses a dataset obtained from the JSE Data Archive that contains biological and self-reported activity traits of a sample of college students at a single university uploaded in 2013. The study associated with these data focused on exploring if a correspondence exists between eye color and and other traits. You will be using gender as the target/label in this lab.\n",
        "\n",
        "FEATURE DESCRIPTIONS: \n",
        "- Color (Blue, Brown, Green, Hazel, Other)\n",
        "- Age (in years)\n",
        "- YearinSchool (First, Second, Third, Fourth, Other)\n",
        "- Height (in inches)\n",
        "- Miles (distance from home town of student to Ames, IA) \n",
        "- Brothers (number of brothers)\n",
        "- Sisters (number of sisters)\n",
        "- CompTime (number of hours spent on computer per week)\n",
        "- Exercise (whether the student exercises Yes or No)\n",
        "- ExerTime (number of hours spent exercising per week)\n",
        "- MusicCDs (number of music CDs student owns)\n",
        "- PlayGames (number of hours spent playing games per week)\n",
        "- WatchTV (number of hours spent watching TV per week\n",
        "\n",
        "https://ww2.amstat.org/publications/jse/jse_data_archive.htm (eyecolorgenderdata.csv)\n"
      ]
    },
    {
      "cell_type": "code",
      "metadata": {
        "deletable": false,
        "editable": false,
        "nbgrader": {
          "checksum": "0fb5897b9d372125635a32c3c25065db",
          "grade": false,
          "grade_id": "cell-0c1c5a5b7543f388",
          "locked": true,
          "schema_version": 1,
          "solution": false
        },
        "id": "xeiDHBc5ugj2",
        "colab_type": "code",
        "colab": {
          "base_uri": "https://localhost:8080/",
          "height": 527
        },
        "outputId": "4f037b30-6323-470f-e61c-c89574b5cc7a"
      },
      "source": [
        "from collections import Counter, defaultdict\n",
        "import itertools\n",
        "import pandas as pd\n",
        "import numpy as np\n",
        "import operator\n",
        "import math\n",
        "\n",
        "!wget -nc http://people.ischool.berkeley.edu/~zp/course_datasets/eye_color.zip\n",
        "!unzip -u eye_color.zip\n",
        "!ls\n",
        "df = pd.read_csv('Eye_Color.csv')\n",
        "# remove NA's and reset the index\n",
        "df = df.dropna(axis=0, how='any', thresh=None, subset=None, inplace=False)\n",
        "df = df.reset_index(drop=True)\n",
        "\n",
        "df.head()"
      ],
      "execution_count": 1,
      "outputs": [
        {
          "output_type": "stream",
          "text": [
            "--2020-09-14 18:56:07--  http://people.ischool.berkeley.edu/~zp/course_datasets/eye_color.zip\n",
            "Resolving people.ischool.berkeley.edu (people.ischool.berkeley.edu)... 128.32.78.16\n",
            "Connecting to people.ischool.berkeley.edu (people.ischool.berkeley.edu)|128.32.78.16|:80... connected.\n",
            "HTTP request sent, awaiting response... 301 Moved Permanently\n",
            "Location: https://people.ischool.berkeley.edu/~zp/course_datasets/eye_color.zip [following]\n",
            "--2020-09-14 18:56:07--  https://people.ischool.berkeley.edu/~zp/course_datasets/eye_color.zip\n",
            "Connecting to people.ischool.berkeley.edu (people.ischool.berkeley.edu)|128.32.78.16|:443... connected.\n",
            "HTTP request sent, awaiting response... 200 OK\n",
            "Length: 23344 (23K) [application/zip]\n",
            "Saving to: ‘eye_color.zip’\n",
            "\n",
            "eye_color.zip       100%[===================>]  22.80K  --.-KB/s    in 0.1s    \n",
            "\n",
            "2020-09-14 18:56:08 (167 KB/s) - ‘eye_color.zip’ saved [23344/23344]\n",
            "\n",
            "Archive:  eye_color.zip\n",
            "  inflating: Eye_Color.csv           \n",
            "  inflating: Eye_Color_Dataset_Description.txt  \n",
            "Eye_Color.csv  Eye_Color_Dataset_Description.txt  eye_color.zip  sample_data\n"
          ],
          "name": "stdout"
        },
        {
          "output_type": "execute_result",
          "data": {
            "text/html": [
              "<div>\n",
              "<style scoped>\n",
              "    .dataframe tbody tr th:only-of-type {\n",
              "        vertical-align: middle;\n",
              "    }\n",
              "\n",
              "    .dataframe tbody tr th {\n",
              "        vertical-align: top;\n",
              "    }\n",
              "\n",
              "    .dataframe thead th {\n",
              "        text-align: right;\n",
              "    }\n",
              "</style>\n",
              "<table border=\"1\" class=\"dataframe\">\n",
              "  <thead>\n",
              "    <tr style=\"text-align: right;\">\n",
              "      <th></th>\n",
              "      <th>gender</th>\n",
              "      <th>age</th>\n",
              "      <th>year</th>\n",
              "      <th>eyecolor</th>\n",
              "      <th>height</th>\n",
              "      <th>miles</th>\n",
              "      <th>brothers</th>\n",
              "      <th>sisters</th>\n",
              "      <th>computertime</th>\n",
              "      <th>exercise</th>\n",
              "      <th>exercisehours</th>\n",
              "      <th>musiccds</th>\n",
              "      <th>playgames</th>\n",
              "      <th>watchtv</th>\n",
              "    </tr>\n",
              "  </thead>\n",
              "  <tbody>\n",
              "    <tr>\n",
              "      <th>0</th>\n",
              "      <td>female</td>\n",
              "      <td>18</td>\n",
              "      <td>first</td>\n",
              "      <td>hazel</td>\n",
              "      <td>68.0</td>\n",
              "      <td>195.0</td>\n",
              "      <td>0</td>\n",
              "      <td>1</td>\n",
              "      <td>20.0</td>\n",
              "      <td>Yes</td>\n",
              "      <td>3.0</td>\n",
              "      <td>75.0</td>\n",
              "      <td>6.0</td>\n",
              "      <td>18.0</td>\n",
              "    </tr>\n",
              "    <tr>\n",
              "      <th>1</th>\n",
              "      <td>male</td>\n",
              "      <td>20</td>\n",
              "      <td>third</td>\n",
              "      <td>brown</td>\n",
              "      <td>70.0</td>\n",
              "      <td>120.0</td>\n",
              "      <td>3</td>\n",
              "      <td>0</td>\n",
              "      <td>24.0</td>\n",
              "      <td>No</td>\n",
              "      <td>0.0</td>\n",
              "      <td>50.0</td>\n",
              "      <td>0.0</td>\n",
              "      <td>3.0</td>\n",
              "    </tr>\n",
              "    <tr>\n",
              "      <th>2</th>\n",
              "      <td>female</td>\n",
              "      <td>18</td>\n",
              "      <td>first</td>\n",
              "      <td>green</td>\n",
              "      <td>67.0</td>\n",
              "      <td>200.0</td>\n",
              "      <td>0</td>\n",
              "      <td>1</td>\n",
              "      <td>35.0</td>\n",
              "      <td>Yes</td>\n",
              "      <td>3.0</td>\n",
              "      <td>53.0</td>\n",
              "      <td>8.0</td>\n",
              "      <td>1.0</td>\n",
              "    </tr>\n",
              "    <tr>\n",
              "      <th>3</th>\n",
              "      <td>male</td>\n",
              "      <td>23</td>\n",
              "      <td>fourth</td>\n",
              "      <td>hazel</td>\n",
              "      <td>74.0</td>\n",
              "      <td>140.0</td>\n",
              "      <td>1</td>\n",
              "      <td>1</td>\n",
              "      <td>5.0</td>\n",
              "      <td>Yes</td>\n",
              "      <td>25.0</td>\n",
              "      <td>50.0</td>\n",
              "      <td>0.0</td>\n",
              "      <td>7.0</td>\n",
              "    </tr>\n",
              "    <tr>\n",
              "      <th>4</th>\n",
              "      <td>female</td>\n",
              "      <td>19</td>\n",
              "      <td>second</td>\n",
              "      <td>blue</td>\n",
              "      <td>62.0</td>\n",
              "      <td>60.0</td>\n",
              "      <td>0</td>\n",
              "      <td>1</td>\n",
              "      <td>5.0</td>\n",
              "      <td>Yes</td>\n",
              "      <td>4.0</td>\n",
              "      <td>30.0</td>\n",
              "      <td>2.0</td>\n",
              "      <td>5.0</td>\n",
              "    </tr>\n",
              "  </tbody>\n",
              "</table>\n",
              "</div>"
            ],
            "text/plain": [
              "   gender  age    year eyecolor  ...  exercisehours  musiccds  playgames  watchtv\n",
              "0  female   18   first    hazel  ...            3.0      75.0        6.0     18.0\n",
              "1    male   20   third    brown  ...            0.0      50.0        0.0      3.0\n",
              "2  female   18   first    green  ...            3.0      53.0        8.0      1.0\n",
              "3    male   23  fourth    hazel  ...           25.0      50.0        0.0      7.0\n",
              "4  female   19  second     blue  ...            4.0      30.0        2.0      5.0\n",
              "\n",
              "[5 rows x 14 columns]"
            ]
          },
          "metadata": {
            "tags": []
          },
          "execution_count": 1
        }
      ]
    },
    {
      "cell_type": "markdown",
      "metadata": {
        "deletable": false,
        "editable": false,
        "nbgrader": {
          "checksum": "f27367e7e9ea794fdff16caaf9834f90",
          "grade": false,
          "grade_id": "cell-80cb77583712aa18",
          "locked": true,
          "schema_version": 1,
          "solution": false
        },
        "id": "S2_bd_sZugj_",
        "colab_type": "text"
      },
      "source": [
        "---\n",
        "**Question 1 (0.5 points, autograded)**: How many males and females exist in the dataset?"
      ]
    },
    {
      "cell_type": "code",
      "metadata": {
        "deletable": false,
        "nbgrader": {
          "checksum": "7bae96e9bc3cf6154faf15c8c953a12d",
          "grade": false,
          "grade_id": "cell-30e88bd16d0691ae",
          "locked": false,
          "schema_version": 1,
          "solution": true
        },
        "id": "Qq43exlvugkA",
        "colab_type": "code",
        "colab": {
          "base_uri": "https://localhost:8080/",
          "height": 68
        },
        "outputId": "92fc6e49-7f36-44e7-af3b-6c8275756eab"
      },
      "source": [
        "q1 = df['gender'].value_counts()\n",
        "q1"
      ],
      "execution_count": 19,
      "outputs": [
        {
          "output_type": "execute_result",
          "data": {
            "text/plain": [
              "female    1078\n",
              "male       910\n",
              "Name: gender, dtype: int64"
            ]
          },
          "metadata": {
            "tags": []
          },
          "execution_count": 19
        }
      ]
    },
    {
      "cell_type": "code",
      "metadata": {
        "deletable": false,
        "nbgrader": {
          "checksum": "4b015ffcf2248033a4c736e194051ce0",
          "grade": false,
          "grade_id": "cell-b6afcdf2e16edeaf",
          "locked": false,
          "schema_version": 1,
          "solution": true
        },
        "id": "qowIpB1MugkL",
        "colab_type": "code",
        "colab": {}
      },
      "source": [
        "#The value set in the variables must be integers\n",
        "num_males = q1['male'] #Replace 0 with the actual value\n",
        "num_females = q1['female'] #Replace 0 with the actual value\n"
      ],
      "execution_count": 20,
      "outputs": []
    },
    {
      "cell_type": "code",
      "metadata": {
        "deletable": false,
        "editable": false,
        "nbgrader": {
          "checksum": "b5f6c5a26715775443afa42a101640d3",
          "grade": true,
          "grade_id": "cell-148801df79f2a9ad",
          "locked": true,
          "points": 0.5,
          "schema_version": 1,
          "solution": false
        },
        "id": "rxROmUKRugkQ",
        "colab_type": "code",
        "colab": {
          "base_uri": "https://localhost:8080/",
          "height": 34
        },
        "outputId": "a7aa59cb-d57b-4f73-e0e2-df210115d8e1"
      },
      "source": [
        "#This is an autograded cell, do not edit\n",
        "print(num_males, num_females)"
      ],
      "execution_count": 21,
      "outputs": [
        {
          "output_type": "stream",
          "text": [
            "910 1078\n"
          ],
          "name": "stdout"
        }
      ]
    },
    {
      "cell_type": "markdown",
      "metadata": {
        "deletable": false,
        "editable": false,
        "nbgrader": {
          "checksum": "46a9256f2edd92e7d4ab52309a6b4c57",
          "grade": false,
          "grade_id": "cell-c087e3cd6c8885e2",
          "locked": true,
          "schema_version": 1,
          "solution": false
        },
        "id": "LE7EGFnbugkU",
        "colab_type": "text"
      },
      "source": [
        "---\n",
        "**Question 2 (0.5 points, autograded)**: What is the Gini Index of this dataset, using males and females as the target classes?"
      ]
    },
    {
      "cell_type": "code",
      "metadata": {
        "deletable": false,
        "nbgrader": {
          "checksum": "099940e4f38498b7848e39cf16effa72",
          "grade": false,
          "grade_id": "cell-77e48e0f5499c4dc",
          "locked": false,
          "schema_version": 1,
          "solution": true
        },
        "id": "L5-IeBVlugkV",
        "colab_type": "code",
        "colab": {
          "base_uri": "https://localhost:8080/",
          "height": 34
        },
        "outputId": "15b6cb9b-6027-4b5a-dd0c-54bee9b6e0e1"
      },
      "source": [
        "gini = 1 - (num_females/(num_females+num_males))**2 - (num_males/(num_females+num_males))**2\n",
        "gini"
      ],
      "execution_count": 22,
      "outputs": [
        {
          "output_type": "execute_result",
          "data": {
            "text/plain": [
              "0.4964292799047808"
            ]
          },
          "metadata": {
            "tags": []
          },
          "execution_count": 22
        }
      ]
    },
    {
      "cell_type": "code",
      "metadata": {
        "deletable": false,
        "nbgrader": {
          "checksum": "9ad8fad77a751f201648404551610cd0",
          "grade": false,
          "grade_id": "cell-48020b6f76b01df8",
          "locked": false,
          "schema_version": 1,
          "solution": true
        },
        "id": "qWJVFWqqugkZ",
        "colab_type": "code",
        "colab": {}
      },
      "source": [
        "#The value set in the variable must be float\n",
        "gini_index = gini #Replace 0 with the actual value / formula\n"
      ],
      "execution_count": 23,
      "outputs": []
    },
    {
      "cell_type": "code",
      "metadata": {
        "deletable": false,
        "editable": false,
        "nbgrader": {
          "checksum": "9e64fcb8ce6b4b69fad066fea2ced65a",
          "grade": true,
          "grade_id": "cell-7ae5a16e0caf13e6",
          "locked": true,
          "points": 0.5,
          "schema_version": 1,
          "solution": false
        },
        "id": "N6nvXmTHugke",
        "colab_type": "code",
        "colab": {
          "base_uri": "https://localhost:8080/",
          "height": 34
        },
        "outputId": "971c0c7a-a66f-4d68-ce90-fd380c926f40"
      },
      "source": [
        "#This is an autograded cell, do not edit\n",
        "print(gini_index)"
      ],
      "execution_count": 24,
      "outputs": [
        {
          "output_type": "stream",
          "text": [
            "0.4964292799047808\n"
          ],
          "name": "stdout"
        }
      ]
    },
    {
      "cell_type": "markdown",
      "metadata": {
        "deletable": false,
        "editable": false,
        "nbgrader": {
          "checksum": "df88f99709afdfc9d92e17de990723e4",
          "grade": false,
          "grade_id": "cell-429dd5b9870bc4f0",
          "locked": true,
          "schema_version": 1,
          "solution": false
        },
        "id": "p4XzX2Jjugkj",
        "colab_type": "text"
      },
      "source": [
        "---\n",
        "## Best Split of a numeric feature\n",
        "**Question 3 (1.5 points, autograded)**: What is the best split point of the 'height' feature? (Still using males and females as the target classes, assuming a binary split)\n",
        "\n",
        "Recall that, to calculate the best split of this numeric field, you'll need to order your data by 'height', then consider the midpoint between each pair of consecutive heights as a potential split point, then calculate the Gini Index for that partitioning. You'll want to keep track of the best split point and its Gini Index (remember that you are trying to minimize the Gini Index). \n",
        "\n",
        "There are a lot of ways to do this. Some are very fast, others very slow. One tip to make this run quickly is, as you consecutively step through the data and calculate the Gini Index of each possible split point, keep a running total of the number of rows for each candidate that are located above and below the split point. \n",
        "\n",
        "Some Python tips: \n",
        "\n",
        "* Counter(), from the collections module, is a special dictionary for counting values of a key\n",
        "* zip() lets you concatenate lists into a list of tuples (for example, if we have a list of the candidates and a list of transaction amounts, zip(candidate_list, transaction_amount) would give us a list of (candidate, transaction amount) pairs"
      ]
    },
    {
      "cell_type": "code",
      "metadata": {
        "deletable": false,
        "nbgrader": {
          "checksum": "39f67d746e08f968310e08a1e6302254",
          "grade": false,
          "grade_id": "cell-7e178474fbad8e3a",
          "locked": false,
          "schema_version": 1,
          "solution": true
        },
        "id": "C922WXCougkm",
        "colab_type": "code",
        "colab": {
          "base_uri": "https://localhost:8080/",
          "height": 272
        },
        "outputId": "9cabae6c-83af-44c0-98a4-115fb3132aae"
      },
      "source": [
        "df = df.sort_values(by='height', ascending=True)\n",
        "split_points = []\n",
        "n = 0 \n",
        "while n + 1 < len(df):\n",
        "  split_points.append((df['height'].iloc[n] + df['height'].iloc[n+1])/2)\n",
        "  n+=1\n",
        "print(df['height'], np.unique(split_points))"
      ],
      "execution_count": 42,
      "outputs": [
        {
          "output_type": "stream",
          "text": [
            "1712    44.0\n",
            "1940    52.0\n",
            "1823    54.0\n",
            "1357    56.0\n",
            "640     56.0\n",
            "        ... \n",
            "492     80.0\n",
            "68      80.0\n",
            "1908    82.0\n",
            "1598    82.0\n",
            "1747    85.0\n",
            "Name: height, Length: 1988, dtype: float64 [48.  53.  55.  56.  56.5 57.  57.5 58.  58.5 59.  59.5 60.  60.5 61.\n",
            " 61.5 62.  62.5 63.  63.5 64.  64.5 65.  65.5 66.  66.5 67.  67.5 68.\n",
            " 68.5 69.  69.5 70.  70.5 71.  71.5 72.  72.5 73.  73.5 74.  74.5 75.\n",
            " 75.5 76.  76.5 77.  77.5 78.  78.5 79.  79.5 80.  81.  82.  83.5]\n"
          ],
          "name": "stdout"
        }
      ]
    },
    {
      "cell_type": "code",
      "metadata": {
        "id": "PCYqVn0asXL2",
        "colab_type": "code",
        "colab": {
          "base_uri": "https://localhost:8080/",
          "height": 54
        },
        "outputId": "5f65a563-f637-420f-ac5d-1ca37a0d00eb"
      },
      "source": [
        "all_gini = []\n",
        "init = 2\n",
        "result = 0\n",
        "for x in np.unique(split_points):\n",
        "  low = df[df['height'] < x]\n",
        "  high = df[df['height'] >= x]\n",
        "  low_count = low['gender'].value_counts()\n",
        "  high_count = high['gender'].value_counts()\n",
        "  len_low = len(low)\n",
        "  len_high = len(high)\n",
        "  if 'male' not in low_count.index:\n",
        "    low_male = 0\n",
        "  else: \n",
        "    low_male = low_count['male']\n",
        "  if 'female' not in low_count.index:\n",
        "    low_female = 0\n",
        "  else:\n",
        "    low_female = low_count['female']\n",
        "  if 'male' not in high_count.index:\n",
        "    high_male = 0\n",
        "  else:\n",
        "    high_male = high_count['male']\n",
        "  if 'female' not in high_count.index:\n",
        "    high_female = 0\n",
        "  else:\n",
        "    high_female = high_count['female']\n",
        "  gini = (len_low/len(df))*(1-(low_male/len_low)**2-(low_female/len_low)**2) + (len_high/len(df))*(1-(high_male/len_high)**2-(high_female/len_high)**2)\n",
        "  all_gini.append(gini)\n",
        "  if gini < init:\n",
        "    init = gini\n",
        "    result = x\n",
        "print(init, result, all_gini)\n"
      ],
      "execution_count": 53,
      "outputs": [
        {
          "output_type": "stream",
          "text": [
            "0.2655288120702919 68.5 [0.49621837719826767, 0.496007262102322, 0.4957959342959521, 0.4957959342959521, 0.49516067139466463, 0.49516067139466463, 0.4947360933276426, 0.4947360933276426, 0.4955820359227143, 0.4955820359227143, 0.49463260291974975, 0.49463260291974975, 0.4910479960400189, 0.4910479960400189, 0.48751229805302404, 0.48751229805302404, 0.47207412514686226, 0.47207412514686226, 0.4481288837744535, 0.4481288837744535, 0.40872777781352343, 0.40872777781352343, 0.36256711201051184, 0.36256711201051184, 0.32762570509049377, 0.32762570509049377, 0.27987827493050677, 0.27987827493050677, 0.2655288120702919, 0.2655288120702919, 0.2742177913372161, 0.2742177913372161, 0.3077499041979495, 0.3077499041979495, 0.34486976128276436, 0.34486976128276436, 0.4059325650874947, 0.4059325650874947, 0.435006170300288, 0.435006170300288, 0.4573575802087557, 0.4573575802087557, 0.4752352670297578, 0.4752352670297578, 0.48540356691230985, 0.48540356691230985, 0.49098663299204287, 0.49098663299204287, 0.4952448767427621, 0.4952448767427621, 0.4963272321777361, 0.4963272321777361, 0.4962973474769692, 0.4962973474769692, 0.4961333172664572]\n"
          ],
          "name": "stdout"
        }
      ]
    },
    {
      "cell_type": "code",
      "metadata": {
        "deletable": false,
        "nbgrader": {
          "checksum": "6f2ddee90f539fef475c3cf581869a7f",
          "grade": false,
          "grade_id": "cell-fdcb9f54f35480c4",
          "locked": false,
          "schema_version": 1,
          "solution": true
        },
        "id": "RiMp3KiOugkv",
        "colab_type": "code",
        "colab": {}
      },
      "source": [
        "#The value set in the variable must be float\n",
        "best_split_point = result #Replace 0 with the actual value\n"
      ],
      "execution_count": 50,
      "outputs": []
    },
    {
      "cell_type": "code",
      "metadata": {
        "deletable": false,
        "editable": false,
        "nbgrader": {
          "checksum": "2b3dd2ed02ddb601bc36a52f45defd92",
          "grade": true,
          "grade_id": "cell-323f912bd5314e78",
          "locked": true,
          "points": 1.5,
          "schema_version": 1,
          "solution": false
        },
        "id": "61AwBlXhugk0",
        "colab_type": "code",
        "colab": {
          "base_uri": "https://localhost:8080/",
          "height": 34
        },
        "outputId": "babcf8a8-a973-47b2-bcd8-c918a23cf4b8"
      },
      "source": [
        "#This is an autograded cell, do not edit\n",
        "print(best_split_point)"
      ],
      "execution_count": 51,
      "outputs": [
        {
          "output_type": "stream",
          "text": [
            "68.5\n"
          ],
          "name": "stdout"
        }
      ]
    },
    {
      "cell_type": "markdown",
      "metadata": {
        "deletable": false,
        "editable": false,
        "nbgrader": {
          "checksum": "166316144c3f9c6f82d2963c96c19ba4",
          "grade": false,
          "grade_id": "cell-aa468156b67c5ab6",
          "locked": true,
          "schema_version": 1,
          "solution": false
        },
        "id": "AawaoNa9ugk2",
        "colab_type": "text"
      },
      "source": [
        "---\n",
        "**Question 4 (0.5 points, autograded)**: What is the Gini index of the best split point of the 'height' feature? (Still using males and females as the target classes, assuming a binary split)\n"
      ]
    },
    {
      "cell_type": "code",
      "metadata": {
        "deletable": false,
        "nbgrader": {
          "checksum": "ee6e07cc1c224dbd0852a4105190e3f2",
          "grade": false,
          "grade_id": "cell-11b6c20fa6270892",
          "locked": false,
          "schema_version": 1,
          "solution": true
        },
        "id": "J_8GTuoSugk3",
        "colab_type": "code",
        "colab": {}
      },
      "source": [
        "q4 = init"
      ],
      "execution_count": 54,
      "outputs": []
    },
    {
      "cell_type": "code",
      "metadata": {
        "deletable": false,
        "nbgrader": {
          "checksum": "4264def559ba5fe2e77d3688f04d9cfd",
          "grade": false,
          "grade_id": "cell-bef6191446f0b09e",
          "locked": false,
          "schema_version": 1,
          "solution": true
        },
        "id": "nnY4qayGugk8",
        "colab_type": "code",
        "colab": {}
      },
      "source": [
        "#The value set in the variable must be float\n",
        "gini_of_best_split_point = init #Replace 0 with the actual value\n"
      ],
      "execution_count": 56,
      "outputs": []
    },
    {
      "cell_type": "code",
      "metadata": {
        "deletable": false,
        "editable": false,
        "nbgrader": {
          "checksum": "0a0c63234a8f7fe57d8a19b011609fda",
          "grade": true,
          "grade_id": "cell-a483f7c52ce46218",
          "locked": true,
          "points": 0.5,
          "schema_version": 1,
          "solution": false
        },
        "id": "qtHNnrD8ugk_",
        "colab_type": "code",
        "colab": {
          "base_uri": "https://localhost:8080/",
          "height": 34
        },
        "outputId": "cd64e029-7ba6-4a9e-f8ed-06dbbdc2eafa"
      },
      "source": [
        "#This is an autograded cell, do not edit\n",
        "print(gini_of_best_split_point)"
      ],
      "execution_count": 57,
      "outputs": [
        {
          "output_type": "stream",
          "text": [
            "0.2655288120702919\n"
          ],
          "name": "stdout"
        }
      ]
    },
    {
      "cell_type": "markdown",
      "metadata": {
        "deletable": false,
        "editable": false,
        "nbgrader": {
          "checksum": "3e4a285a07159ff52a5f4ffe396f74d6",
          "grade": false,
          "grade_id": "cell-3d05b5c3faef353d",
          "locked": true,
          "schema_version": 1,
          "solution": false
        },
        "id": "TILEzh_WuglE",
        "colab_type": "text"
      },
      "source": [
        "---\n",
        "**Question 5 (0.5 points, autograded)**: How much does this partitioning reduce the Gini Index over the Gini index of the overall dataset?"
      ]
    },
    {
      "cell_type": "code",
      "metadata": {
        "deletable": false,
        "nbgrader": {
          "checksum": "58f9b4479c238a525df6aa057e6eaa3b",
          "grade": false,
          "grade_id": "cell-1ab03a8159601e29",
          "locked": false,
          "schema_version": 1,
          "solution": true
        },
        "id": "qOCZ13AAuglG",
        "colab_type": "code",
        "colab": {}
      },
      "source": [
        "reduction = gini_index - q4"
      ],
      "execution_count": 58,
      "outputs": []
    },
    {
      "cell_type": "code",
      "metadata": {
        "deletable": false,
        "nbgrader": {
          "checksum": "0d222b71a5f4dd420fd140eeefb846d4",
          "grade": false,
          "grade_id": "cell-fbcebc71fc8bc842",
          "locked": false,
          "schema_version": 1,
          "solution": true
        },
        "id": "Z_jBrzFLuglN",
        "colab_type": "code",
        "colab": {}
      },
      "source": [
        "#The value set in the variable must be float\n",
        "gini_difference = reduction #Replace 0 with the actual value\n"
      ],
      "execution_count": 60,
      "outputs": []
    },
    {
      "cell_type": "code",
      "metadata": {
        "deletable": false,
        "editable": false,
        "nbgrader": {
          "checksum": "86c116a776736ca45f3b04f15f237623",
          "grade": true,
          "grade_id": "cell-f24e621d36c96976",
          "locked": true,
          "points": 0.5,
          "schema_version": 1,
          "solution": false
        },
        "id": "XrLS99QPuglQ",
        "colab_type": "code",
        "colab": {
          "base_uri": "https://localhost:8080/",
          "height": 34
        },
        "outputId": "5de73a15-64fd-44c1-9516-9d5c316d8592"
      },
      "source": [
        "#This is an autograded cell, do not edit\n",
        "print(gini_difference)"
      ],
      "execution_count": 61,
      "outputs": [
        {
          "output_type": "stream",
          "text": [
            "0.23090046783448892\n"
          ],
          "name": "stdout"
        }
      ]
    },
    {
      "cell_type": "markdown",
      "metadata": {
        "deletable": false,
        "editable": false,
        "nbgrader": {
          "checksum": "a3c0d5d5951cda89ddc95d0edd3c006d",
          "grade": false,
          "grade_id": "cell-68fc7f06fbb3bd5c",
          "locked": true,
          "schema_version": 1,
          "solution": false
        },
        "id": "4vI5aG7GuglS",
        "colab_type": "text"
      },
      "source": [
        "---\n",
        "**Question 6 (0.5 points, autograded)**: How many 'female' and 'male' rows are shorter than the best height split point?"
      ]
    },
    {
      "cell_type": "code",
      "metadata": {
        "deletable": false,
        "nbgrader": {
          "checksum": "3d82c210dd5b8b938066fc8b9a0e70e8",
          "grade": false,
          "grade_id": "cell-cbfbed1feed2c2c6",
          "locked": false,
          "schema_version": 1,
          "solution": true
        },
        "id": "Zmt1qgE5uglT",
        "colab_type": "code",
        "colab": {}
      },
      "source": [
        "q6 = df[df['height'] < 68.5]\n",
        "q6_female = len(q6[q6['gender'] == 'female'])\n",
        "q6_male = len(q6[q6['gender'] == 'male'])"
      ],
      "execution_count": 70,
      "outputs": []
    },
    {
      "cell_type": "code",
      "metadata": {
        "deletable": false,
        "nbgrader": {
          "checksum": "71225beec49fc733245cd37612d3712e",
          "grade": false,
          "grade_id": "cell-fed4f19f21abcc31",
          "locked": false,
          "schema_version": 1,
          "solution": true
        },
        "id": "xAB5GTeauglX",
        "colab_type": "code",
        "colab": {}
      },
      "source": [
        "#The value set in the variable must be integer\n",
        "female_rows_below = q6_female #Replace 0 with the actual value\n",
        "male_rows_below = q6_male #Replace 0 with the actual value\n"
      ],
      "execution_count": 71,
      "outputs": []
    },
    {
      "cell_type": "code",
      "metadata": {
        "deletable": false,
        "editable": false,
        "nbgrader": {
          "checksum": "12c1b2345e628bec41463cf88a60aeb0",
          "grade": true,
          "grade_id": "cell-8129604534bfec74",
          "locked": true,
          "points": 0.5,
          "schema_version": 1,
          "solution": false
        },
        "id": "MiBZAc9vugld",
        "colab_type": "code",
        "colab": {
          "base_uri": "https://localhost:8080/",
          "height": 34
        },
        "outputId": "01c2f0d2-0c99-4a60-fda7-7b389da8bc2d"
      },
      "source": [
        "#This is an autograded cell, do not edit\n",
        "print(female_rows_below, male_rows_below)"
      ],
      "execution_count": 72,
      "outputs": [
        {
          "output_type": "stream",
          "text": [
            "905 142\n"
          ],
          "name": "stdout"
        }
      ]
    },
    {
      "cell_type": "markdown",
      "metadata": {
        "deletable": false,
        "editable": false,
        "nbgrader": {
          "checksum": "9fa8403981b6352444437901acb0d45c",
          "grade": false,
          "grade_id": "cell-95c30c8534082764",
          "locked": true,
          "schema_version": 1,
          "solution": false
        },
        "id": "GmBNDTILuglg",
        "colab_type": "text"
      },
      "source": [
        "---\n",
        "**Question 7 (0.5 points, autograded)**: How many 'female' and 'male' rows are taller than the best height split point?"
      ]
    },
    {
      "cell_type": "code",
      "metadata": {
        "deletable": false,
        "nbgrader": {
          "checksum": "9754f9fb331109f6c4b2b834211f0021",
          "grade": false,
          "grade_id": "cell-8b16da8f6a50682f",
          "locked": false,
          "schema_version": 1,
          "solution": true
        },
        "id": "dHJLmbwvuglh",
        "colab_type": "code",
        "colab": {}
      },
      "source": [
        "q7 = df[df['height'] > 68.5]\n",
        "q7_female = len(q7[q7['gender'] == 'female'])\n",
        "q7_male = len(q7[q7['gender'] == 'male'])"
      ],
      "execution_count": 76,
      "outputs": []
    },
    {
      "cell_type": "code",
      "metadata": {
        "deletable": false,
        "nbgrader": {
          "checksum": "e2697ca1d9a6feec241ff33460d57600",
          "grade": false,
          "grade_id": "cell-2314033286696a75",
          "locked": false,
          "schema_version": 1,
          "solution": true
        },
        "id": "46G-hbpnugll",
        "colab_type": "code",
        "colab": {}
      },
      "source": [
        "\n",
        "#The value set in the variable must be integer\n",
        "female_rows_above = q7_female #Replace 0 with the actual value\n",
        "male_rows_above = q7_male #Replace 0 with the actual value\n"
      ],
      "execution_count": 77,
      "outputs": []
    },
    {
      "cell_type": "code",
      "metadata": {
        "deletable": false,
        "editable": false,
        "nbgrader": {
          "checksum": "b2c8fbc90d6eb0473ef27e1855483904",
          "grade": true,
          "grade_id": "cell-da98dfdb73b8de96",
          "locked": true,
          "points": 0.5,
          "schema_version": 1,
          "solution": false
        },
        "id": "n2seT5oauglo",
        "colab_type": "code",
        "colab": {
          "base_uri": "https://localhost:8080/",
          "height": 34
        },
        "outputId": "e598ecce-78af-429a-9b79-459d2cbc64df"
      },
      "source": [
        "#This is an autograded cell, do not edit\n",
        "print(female_rows_above, male_rows_above)"
      ],
      "execution_count": 97,
      "outputs": [
        {
          "output_type": "stream",
          "text": [
            "173 768\n"
          ],
          "name": "stdout"
        }
      ]
    },
    {
      "cell_type": "markdown",
      "metadata": {
        "deletable": false,
        "editable": false,
        "nbgrader": {
          "checksum": "1600c335755c3857d742205f32718e81",
          "grade": false,
          "grade_id": "cell-f0f3bf7078e30689",
          "locked": true,
          "schema_version": 1,
          "solution": false
        },
        "id": "waG6P9fyuglt",
        "colab_type": "text"
      },
      "source": [
        "---\n",
        "## Best Split of a Categorial Variable\n",
        "\n",
        "**Question 8 (0.5 points, autograded)**: How many possible splits are there of the eyecolor feature? (Assuming binary split)\n",
        "\n",
        "Python tip: the combinations function of the itertools module allows you to enumerate combinations of a list. You might want to Google 'power set'.\n"
      ]
    },
    {
      "cell_type": "code",
      "metadata": {
        "deletable": false,
        "nbgrader": {
          "checksum": "2887cf4ef5a35baf851be351c05f0397",
          "grade": false,
          "grade_id": "cell-e5896ba56062be2d",
          "locked": false,
          "schema_version": 1,
          "solution": true
        },
        "id": "1uYaZLJnuglu",
        "colab_type": "code",
        "colab": {}
      },
      "source": [
        "all_colors =  df['eyecolor'].unique()\n"
      ],
      "execution_count": 7,
      "outputs": []
    },
    {
      "cell_type": "code",
      "metadata": {
        "id": "eE0FIfF3koh9",
        "colab_type": "code",
        "colab": {
          "base_uri": "https://localhost:8080/",
          "height": 544
        },
        "outputId": "7c9f6ce5-52d5-42d7-cf46-12b43fc4b179"
      },
      "source": [
        "powerset = []\n",
        "for r in range(5):\n",
        "  subset_r = itertools.combinations(\"abcde\", r)\n",
        "  powerset += subset_r\n",
        "powerset"
      ],
      "execution_count": 131,
      "outputs": [
        {
          "output_type": "execute_result",
          "data": {
            "text/plain": [
              "[(),\n",
              " ('a',),\n",
              " ('b',),\n",
              " ('c',),\n",
              " ('d',),\n",
              " ('e',),\n",
              " ('a', 'b'),\n",
              " ('a', 'c'),\n",
              " ('a', 'd'),\n",
              " ('a', 'e'),\n",
              " ('b', 'c'),\n",
              " ('b', 'd'),\n",
              " ('b', 'e'),\n",
              " ('c', 'd'),\n",
              " ('c', 'e'),\n",
              " ('d', 'e'),\n",
              " ('a', 'b', 'c'),\n",
              " ('a', 'b', 'd'),\n",
              " ('a', 'b', 'e'),\n",
              " ('a', 'c', 'd'),\n",
              " ('a', 'c', 'e'),\n",
              " ('a', 'd', 'e'),\n",
              " ('b', 'c', 'd'),\n",
              " ('b', 'c', 'e'),\n",
              " ('b', 'd', 'e'),\n",
              " ('c', 'd', 'e'),\n",
              " ('a', 'b', 'c', 'd'),\n",
              " ('a', 'b', 'c', 'e'),\n",
              " ('a', 'b', 'd', 'e'),\n",
              " ('a', 'c', 'd', 'e'),\n",
              " ('b', 'c', 'd', 'e')]"
            ]
          },
          "metadata": {
            "tags": []
          },
          "execution_count": 131
        }
      ]
    },
    {
      "cell_type": "code",
      "metadata": {
        "deletable": false,
        "nbgrader": {
          "checksum": "c295a12954acf6f936b6a921a548717d",
          "grade": false,
          "grade_id": "cell-7cc929e1f346c97c",
          "locked": false,
          "schema_version": 1,
          "solution": true
        },
        "id": "FozfnlkNuglx",
        "colab_type": "code",
        "colab": {
          "base_uri": "https://localhost:8080/",
          "height": 34
        },
        "outputId": "7053b45e-7d9a-42a3-a8b0-7d93858df8de"
      },
      "source": [
        "\n",
        "#The value set in the variable must be integer\n",
        "num_of_splits = len(powerset[1:]) #Replace 0 with the actual value\n",
        "num_of_splits"
      ],
      "execution_count": 132,
      "outputs": [
        {
          "output_type": "execute_result",
          "data": {
            "text/plain": [
              "30"
            ]
          },
          "metadata": {
            "tags": []
          },
          "execution_count": 132
        }
      ]
    },
    {
      "cell_type": "code",
      "metadata": {
        "deletable": false,
        "editable": false,
        "nbgrader": {
          "checksum": "d10ef3967a94bfbc24d620dceae732ed",
          "grade": true,
          "grade_id": "cell-e345841556e102c6",
          "locked": true,
          "points": 0.5,
          "schema_version": 1,
          "solution": false
        },
        "id": "cLupsW1Sugl0",
        "colab_type": "code",
        "colab": {
          "base_uri": "https://localhost:8080/",
          "height": 34
        },
        "outputId": "91e9dcb5-3732-45ea-d866-e168b05c0ff2"
      },
      "source": [
        "#This is an autograded cell, do not edit\n",
        "print(num_of_splits)"
      ],
      "execution_count": 133,
      "outputs": [
        {
          "output_type": "stream",
          "text": [
            "30\n"
          ],
          "name": "stdout"
        }
      ]
    },
    {
      "cell_type": "markdown",
      "metadata": {
        "deletable": false,
        "editable": false,
        "nbgrader": {
          "checksum": "3f998cc39260ed85ff0341750544bd86",
          "grade": false,
          "grade_id": "cell-8503b7bec552f92c",
          "locked": true,
          "schema_version": 1,
          "solution": false
        },
        "id": "PuLJsUuvugl3",
        "colab_type": "text"
      },
      "source": [
        "---\n",
        "**Question 9 (1 points, autograded)**: Which split of eyecolor best splits the female and male rows, as measured by the Gini Index?"
      ]
    },
    {
      "cell_type": "code",
      "metadata": {
        "deletable": false,
        "nbgrader": {
          "checksum": "4f117805db47824ae1ef7129672c0d47",
          "grade": false,
          "grade_id": "cell-76f837f4f27e0842",
          "locked": false,
          "schema_version": 1,
          "solution": true
        },
        "id": "HLOlJnsqugl3",
        "colab_type": "code",
        "colab": {
          "base_uri": "https://localhost:8080/",
          "height": 527
        },
        "outputId": "85ec7a5d-4b44-42f3-e498-65f3a29cfee3"
      },
      "source": [
        "q9_power = list(itertools.chain.from_iterable(itertools.combinations(all_colors, x) for x in range(len(all_colors)+1)))\n",
        "q9_power = q9_power[1:-1]\n",
        "q9_power"
      ],
      "execution_count": 8,
      "outputs": [
        {
          "output_type": "execute_result",
          "data": {
            "text/plain": [
              "[('hazel',),\n",
              " ('brown',),\n",
              " ('green',),\n",
              " ('blue',),\n",
              " ('other',),\n",
              " ('hazel', 'brown'),\n",
              " ('hazel', 'green'),\n",
              " ('hazel', 'blue'),\n",
              " ('hazel', 'other'),\n",
              " ('brown', 'green'),\n",
              " ('brown', 'blue'),\n",
              " ('brown', 'other'),\n",
              " ('green', 'blue'),\n",
              " ('green', 'other'),\n",
              " ('blue', 'other'),\n",
              " ('hazel', 'brown', 'green'),\n",
              " ('hazel', 'brown', 'blue'),\n",
              " ('hazel', 'brown', 'other'),\n",
              " ('hazel', 'green', 'blue'),\n",
              " ('hazel', 'green', 'other'),\n",
              " ('hazel', 'blue', 'other'),\n",
              " ('brown', 'green', 'blue'),\n",
              " ('brown', 'green', 'other'),\n",
              " ('brown', 'blue', 'other'),\n",
              " ('green', 'blue', 'other'),\n",
              " ('hazel', 'brown', 'green', 'blue'),\n",
              " ('hazel', 'brown', 'green', 'other'),\n",
              " ('hazel', 'brown', 'blue', 'other'),\n",
              " ('hazel', 'green', 'blue', 'other'),\n",
              " ('brown', 'green', 'blue', 'other')]"
            ]
          },
          "metadata": {
            "tags": []
          },
          "execution_count": 8
        }
      ]
    },
    {
      "cell_type": "code",
      "metadata": {
        "id": "zTCe5QG1BOZU",
        "colab_type": "code",
        "colab": {
          "base_uri": "https://localhost:8080/",
          "height": 34
        },
        "outputId": "aa1aa736-539c-4d2f-a030-622060327fda"
      },
      "source": [
        "colors = ['brown', 'green', 'blue', 'other', 'hazel']\n",
        "split = ['brown']\n",
        "other = [x for x in colors if x not in split]\n",
        "other"
      ],
      "execution_count": 9,
      "outputs": [
        {
          "output_type": "execute_result",
          "data": {
            "text/plain": [
              "['green', 'blue', 'other', 'hazel']"
            ]
          },
          "metadata": {
            "tags": []
          },
          "execution_count": 9
        }
      ]
    },
    {
      "cell_type": "code",
      "metadata": {
        "id": "WppvYQG7lH_4",
        "colab_type": "code",
        "colab": {
          "base_uri": "https://localhost:8080/",
          "height": 544
        },
        "outputId": "fa39201f-f2d2-4988-b0a2-c795b8f136a2"
      },
      "source": [
        "colors = ['brown', 'green', 'blue', 'other', 'hazel']\n",
        "init = 2\n",
        "q9_gini = []\n",
        "result = 'result' \n",
        "for x in q9_power:\n",
        "  other = [y for y in colors if y not in x]\n",
        "  df_split = df[df['eyecolor'].isin(x)]\n",
        "  df_other = df[df['eyecolor'].isin(other)]\n",
        "  split_count = df_split['gender'].value_counts()\n",
        "  other_count = df_other['gender'].value_counts()\n",
        "  split_female = split_count['female']\n",
        "  split_male = split_count['male']\n",
        "  other_female = other_count['female']\n",
        "  other_male = other_count['male']\n",
        "  gini = (len(df_split)/len(df))*(1 - (split_female/len(df_split))**2 - (split_male/len(df_split))**2) + (len(df_other)/len(df))*(1 - (other_female/len(df_other))**2 - (other_male/len(df_other))**2)\n",
        "  q9_gini.append(gini)\n",
        "  if gini < init:\n",
        "    init = gini\n",
        "    result = x\n",
        "print(init, result)\n",
        "q9_gini\n",
        "  \n",
        "\n"
      ],
      "execution_count": 10,
      "outputs": [
        {
          "output_type": "stream",
          "text": [
            "0.4930915729509777 ('green',)\n"
          ],
          "name": "stdout"
        },
        {
          "output_type": "execute_result",
          "data": {
            "text/plain": [
              "[0.4964263410051838,\n",
              " 0.4964265770068442,\n",
              " 0.4930915729509777,\n",
              " 0.4952300404083957,\n",
              " 0.49607976400497444,\n",
              " 0.49642139111262024,\n",
              " 0.4946032773910385,\n",
              " 0.4952408405363105,\n",
              " 0.496360202053983,\n",
              " 0.49484143779263645,\n",
              " 0.4950939078140169,\n",
              " 0.49637710938961443,\n",
              " 0.49636438348056044,\n",
              " 0.494135566851495,\n",
              " 0.494857288346644,\n",
              " 0.494857288346644,\n",
              " 0.494135566851495,\n",
              " 0.49636438348056044,\n",
              " 0.49637710938961443,\n",
              " 0.4950939078140169,\n",
              " 0.49484143779263645,\n",
              " 0.496360202053983,\n",
              " 0.4952408405363105,\n",
              " 0.4946032773910385,\n",
              " 0.49642139111262024,\n",
              " 0.49607976400497444,\n",
              " 0.4952300404083957,\n",
              " 0.4930915729509777,\n",
              " 0.4964265770068442,\n",
              " 0.4964263410051838]"
            ]
          },
          "metadata": {
            "tags": []
          },
          "execution_count": 10
        }
      ]
    },
    {
      "cell_type": "code",
      "metadata": {
        "deletable": false,
        "nbgrader": {
          "checksum": "1904d5cda806153db739b5a397c420ce",
          "grade": false,
          "grade_id": "cell-c6d008b0007ae4d7",
          "locked": false,
          "schema_version": 1,
          "solution": true
        },
        "id": "iTBzhW_Vugl5",
        "colab_type": "code",
        "colab": {}
      },
      "source": [
        "#The value set in the variable must be an array\n",
        "colour_group_1 = result #Replace [] with the actual colours/values in the group\n",
        "colour_group_2 = [x for x in colors if x not in result] #Replace [] with the actual colours/values in the group\n"
      ],
      "execution_count": 12,
      "outputs": []
    },
    {
      "cell_type": "code",
      "metadata": {
        "deletable": false,
        "editable": false,
        "nbgrader": {
          "checksum": "4e306b120de04cbdc496f0bf5ca4bc75",
          "grade": true,
          "grade_id": "cell-633329070c59b89d",
          "locked": true,
          "points": 1,
          "schema_version": 1,
          "solution": false
        },
        "id": "DBKu0dDvugl-",
        "colab_type": "code",
        "colab": {
          "base_uri": "https://localhost:8080/",
          "height": 34
        },
        "outputId": "1313ddb2-f5a0-4feb-f105-7f15b8027882"
      },
      "source": [
        "#This is an autograded cell, do not edit\n",
        "print(colour_group_1, colour_group_2)"
      ],
      "execution_count": 13,
      "outputs": [
        {
          "output_type": "stream",
          "text": [
            "('green',) ['brown', 'blue', 'other', 'hazel']\n"
          ],
          "name": "stdout"
        }
      ]
    },
    {
      "cell_type": "markdown",
      "metadata": {
        "deletable": false,
        "editable": false,
        "nbgrader": {
          "checksum": "a5fa6db03e0b1d03320f702d669e6328",
          "grade": false,
          "grade_id": "cell-54d3a4d63e10789a",
          "locked": true,
          "schema_version": 1,
          "solution": false
        },
        "id": "Q0n3uxWFugmC",
        "colab_type": "text"
      },
      "source": [
        "---\n",
        "**Question 10 (0.5 points, autograded)**: What is the Gini Index of this best split?"
      ]
    },
    {
      "cell_type": "code",
      "metadata": {
        "deletable": false,
        "nbgrader": {
          "checksum": "f1b5c57dc68cb76716cb9dd1e5cb00db",
          "grade": false,
          "grade_id": "cell-f755b4ebebdcbcd3",
          "locked": false,
          "schema_version": 1,
          "solution": true
        },
        "id": "SLWuwwvnugmF",
        "colab_type": "code",
        "colab": {
          "base_uri": "https://localhost:8080/",
          "height": 34
        },
        "outputId": "2bad49d2-68c0-4cb8-9bf9-904e927e8f48"
      },
      "source": [
        "init"
      ],
      "execution_count": 14,
      "outputs": [
        {
          "output_type": "execute_result",
          "data": {
            "text/plain": [
              "0.4930915729509777"
            ]
          },
          "metadata": {
            "tags": []
          },
          "execution_count": 14
        }
      ]
    },
    {
      "cell_type": "code",
      "metadata": {
        "deletable": false,
        "nbgrader": {
          "checksum": "efce7c9024ee735ae78576a9e6153798",
          "grade": false,
          "grade_id": "cell-b9d691586c5addbd",
          "locked": false,
          "schema_version": 1,
          "solution": true
        },
        "id": "VYJlCiCuugmJ",
        "colab_type": "code",
        "colab": {}
      },
      "source": [
        "#The value set in the variable must be float\n",
        "gini_of_best_split_group = init #Replace 0 with the actual value\n",
        "\n"
      ],
      "execution_count": 16,
      "outputs": []
    },
    {
      "cell_type": "code",
      "metadata": {
        "deletable": false,
        "editable": false,
        "nbgrader": {
          "checksum": "2d4da39818e70541f2d3a55729adbae0",
          "grade": true,
          "grade_id": "cell-7332ad4509b48564",
          "locked": true,
          "points": 0.5,
          "schema_version": 1,
          "solution": false
        },
        "id": "MFn6uVBcugmL",
        "colab_type": "code",
        "colab": {
          "base_uri": "https://localhost:8080/",
          "height": 34
        },
        "outputId": "96c27d3d-27b3-4c4b-e437-2ed929e8c075"
      },
      "source": [
        "#This is an autograded cell, do not edit\n",
        "print(gini_of_best_split_group)"
      ],
      "execution_count": 17,
      "outputs": [
        {
          "output_type": "stream",
          "text": [
            "0.4930915729509777\n"
          ],
          "name": "stdout"
        }
      ]
    },
    {
      "cell_type": "markdown",
      "metadata": {
        "deletable": false,
        "editable": false,
        "nbgrader": {
          "checksum": "473602565cfa2400f2ad7b85fd72b373",
          "grade": false,
          "grade_id": "cell-34f1033ad6a06232",
          "locked": true,
          "schema_version": 1,
          "solution": false
        },
        "id": "_o0PW2rLugmO",
        "colab_type": "text"
      },
      "source": [
        "---\n",
        "**Question 11 (0.5 points, autograded)**: How much does this partitioning reduce the Gini Index over the Gini index of the overall dataset?"
      ]
    },
    {
      "cell_type": "code",
      "metadata": {
        "deletable": false,
        "nbgrader": {
          "checksum": "bf9360740e6f25bb1c156c93c1869845",
          "grade": false,
          "grade_id": "cell-68d41651a95a23df",
          "locked": false,
          "schema_version": 1,
          "solution": true
        },
        "id": "Ja5w5_ucugmP",
        "colab_type": "code",
        "colab": {}
      },
      "source": [
        "q11 = gini_index - gini_of_best_split_group"
      ],
      "execution_count": 25,
      "outputs": []
    },
    {
      "cell_type": "code",
      "metadata": {
        "deletable": false,
        "nbgrader": {
          "checksum": "7d84ef913eb55fa6ab7d5f327bc8b650",
          "grade": false,
          "grade_id": "cell-7e15f66615ed4361",
          "locked": false,
          "schema_version": 1,
          "solution": true
        },
        "id": "Z1m4Yf-NugmR",
        "colab_type": "code",
        "colab": {}
      },
      "source": [
        "\n",
        "#The value set in the variable must be float\n",
        "gini_difference_2 = q11 #Replace 0 with the actual value"
      ],
      "execution_count": 27,
      "outputs": []
    },
    {
      "cell_type": "code",
      "metadata": {
        "deletable": false,
        "editable": false,
        "nbgrader": {
          "checksum": "6ac2eb45e569ee8da44b7ed0faf33edc",
          "grade": true,
          "grade_id": "cell-a879c9d33c4f102f",
          "locked": true,
          "points": 0.5,
          "schema_version": 1,
          "solution": false
        },
        "id": "-7ij3URDugmT",
        "colab_type": "code",
        "colab": {
          "base_uri": "https://localhost:8080/",
          "height": 34
        },
        "outputId": "083441e2-e6e3-4082-d98a-074b8b9de755"
      },
      "source": [
        "#This is an autograded cell, do not edit\n",
        "print(gini_difference_2)"
      ],
      "execution_count": 28,
      "outputs": [
        {
          "output_type": "stream",
          "text": [
            "0.003337706953803088\n"
          ],
          "name": "stdout"
        }
      ]
    },
    {
      "cell_type": "markdown",
      "metadata": {
        "deletable": false,
        "editable": false,
        "nbgrader": {
          "checksum": "60aae9f1a5f6e166acf954ee3219986a",
          "grade": false,
          "grade_id": "cell-a47e13b3fcc0108a",
          "locked": true,
          "schema_version": 1,
          "solution": false
        },
        "id": "C0UNgzrTugmX",
        "colab_type": "text"
      },
      "source": [
        "---\n",
        "**Question 12 (1 points, autograded)** : How many 'female' rows and 'male' rows are in your first partition? How many 'female' rows and 'male' rows are in your second partition?"
      ]
    },
    {
      "cell_type": "code",
      "metadata": {
        "deletable": false,
        "nbgrader": {
          "checksum": "83f6848101b44ce8d5d499484d55d3b2",
          "grade": false,
          "grade_id": "cell-da838430a7b931e1",
          "locked": false,
          "schema_version": 1,
          "solution": true
        },
        "id": "JguwfDQmugmY",
        "colab_type": "code",
        "colab": {
          "base_uri": "https://localhost:8080/",
          "height": 102
        },
        "outputId": "ddfe760f-9770-4e9e-f809-05225b08d7df"
      },
      "source": [
        "partition = ['green']\n",
        "second_partition = [x for x in colors if x not in partition]\n",
        "df_split = df[df['eyecolor'].isin(partition)]\n",
        "df_other = df[df['eyecolor'].isin(second_partition)]\n",
        "split_count = df_split['gender'].value_counts()\n",
        "other_count = df_other['gender'].value_counts()\n",
        "split_count, other_count"
      ],
      "execution_count": 33,
      "outputs": [
        {
          "output_type": "execute_result",
          "data": {
            "text/plain": [
              "(female    190\n",
              " male      107\n",
              " Name: gender, dtype: int64, female    888\n",
              " male      803\n",
              " Name: gender, dtype: int64)"
            ]
          },
          "metadata": {
            "tags": []
          },
          "execution_count": 33
        }
      ]
    },
    {
      "cell_type": "code",
      "metadata": {
        "deletable": false,
        "nbgrader": {
          "checksum": "3c880462e0a6e9e9d64542752b22cbef",
          "grade": false,
          "grade_id": "cell-e4c3bc95376f6df7",
          "locked": false,
          "schema_version": 1,
          "solution": true
        },
        "id": "H-dDxSbDugma",
        "colab_type": "code",
        "colab": {}
      },
      "source": [
        "\n",
        "#The value set in the variable must be integer, order doesn't matter\n",
        "partition1_male = split_count['male'] #Replace 0 with the actual value\n",
        "partition1_female = split_count['female'] #Replace 0 with the actual value\n",
        "partition2_male = other_count['male'] #Replace 0 with the actual value\n",
        "partition2_female = other_count['female'] #Replace 0 with the actual value\n"
      ],
      "execution_count": 35,
      "outputs": []
    },
    {
      "cell_type": "code",
      "metadata": {
        "deletable": false,
        "editable": false,
        "nbgrader": {
          "checksum": "0fdc2e6ab8f5b169f5bfd9566d85fc01",
          "grade": true,
          "grade_id": "cell-1c022d94964cb6cc",
          "locked": true,
          "points": 1,
          "schema_version": 1,
          "solution": false
        },
        "id": "XYCfnyCNugmd",
        "colab_type": "code",
        "colab": {
          "base_uri": "https://localhost:8080/",
          "height": 34
        },
        "outputId": "4453bd5b-dd0b-4539-b754-bf8fd7d31b09"
      },
      "source": [
        "#This is an autograded cell, do not edit\n",
        "print(partition1_male, partition1_female, partition2_male, partition2_female)"
      ],
      "execution_count": 36,
      "outputs": [
        {
          "output_type": "stream",
          "text": [
            "107 190 803 888\n"
          ],
          "name": "stdout"
        }
      ]
    },
    {
      "cell_type": "markdown",
      "metadata": {
        "deletable": false,
        "editable": false,
        "nbgrader": {
          "checksum": "2d2ab95c05c31c5f214bd422e16e450b",
          "grade": false,
          "grade_id": "cell-d81b2ec1e886e1b6",
          "locked": true,
          "schema_version": 1,
          "solution": false
        },
        "id": "JoFggmQGugmi",
        "colab_type": "text"
      },
      "source": [
        "---\n",
        "## Training a decision tree\n",
        "**Question 13 (1 points, autograded)**: Using all of the features in the original dataframe read in at the top of this notebook, train a decision tree classifier that has a depth of three (not including the root node). What is the accuracy of this classifier on the training data?\n",
        "\n",
        "Scikit-learn classifiers require class labels and features to be in numeric arrays. As such, you will need to turn your categorical features into numeric arrays using DictVectorizer. This is a helpful notebook for understanding how to do this: http://nbviewer.ipython.org/gist/sarguido/7423289. You can turn a pandas dataframe of features into a dictionary of the form needed by DictVectorizer by using df.to_dict('records'). Make sure you remove the class label first (in this case, gender). If you use the class label as a feature, your classifier will have a training accuracy of 100%! The example notebook link also shows how to turn your class labels into a numeric array using sklearn.preprocessing.LabelEncoder()."
      ]
    },
    {
      "cell_type": "code",
      "metadata": {
        "deletable": false,
        "nbgrader": {
          "checksum": "14960b019250231f745c6db5a38c70f7",
          "grade": false,
          "grade_id": "cell-a77a52f79c83b21a",
          "locked": false,
          "schema_version": 1,
          "solution": true
        },
        "id": "kFIx_xdyugmj",
        "colab_type": "code",
        "colab": {}
      },
      "source": [
        "from sklearn import tree\n",
        "from sklearn.feature_extraction import DictVectorizer\n",
        "vec = DictVectorizer()\n",
        "label = df['gender']\n",
        "df_drop = df.drop(labels='gender', axis = 1)\n",
        "\n",
        "categorical = df_drop.dtypes[df_drop.dtypes == 'object'].index.to_numpy()\n",
        "df_categorical = df_drop[categorical]\n",
        "categorical_dict = df_categorical.to_dict('record')\n",
        "df_categorical = vec.fit_transform(categorical_dict).toarray()\n",
        "df_numeric = df_drop[[x for x in df_drop.columns if x not in categorical]].to_numpy()\n",
        "all_data = np.concatenate((df_categorical, df_numeric), axis = 1)"
      ],
      "execution_count": 130,
      "outputs": []
    },
    {
      "cell_type": "code",
      "metadata": {
        "id": "mEtfBNI0zr6d",
        "colab_type": "code",
        "colab": {}
      },
      "source": [
        "from sklearn import preprocessing\n",
        "le = preprocessing.LabelEncoder()\n",
        "le.fit(['male', 'female'])\n",
        "target = le.transform(label)"
      ],
      "execution_count": 131,
      "outputs": []
    },
    {
      "cell_type": "code",
      "metadata": {
        "id": "7hgkYC_x0KOd",
        "colab_type": "code",
        "colab": {}
      },
      "source": [
        "from sklearn.tree import DecisionTreeClassifier\n",
        "from sklearn.metrics import accuracy_score\n",
        "from sklearn.model_selection import train_test_split\n",
        "\n",
        "data_train, data_test, target_train, target_test = train_test_split(all_data, target)\n",
        "\n",
        "clf = tree.DecisionTreeClassifier(max_depth=3)\n",
        "clf_model = clf.fit(data_train, target_train)\n",
        "pred = clf_model.predict(data_train)"
      ],
      "execution_count": 132,
      "outputs": []
    },
    {
      "cell_type": "code",
      "metadata": {
        "deletable": false,
        "nbgrader": {
          "checksum": "f26339bc22d99829fefeb18e1c46cb06",
          "grade": false,
          "grade_id": "cell-55c9f9a2702cf09c",
          "locked": false,
          "schema_version": 1,
          "solution": true
        },
        "id": "CqowI-lrugmn",
        "colab_type": "code",
        "colab": {}
      },
      "source": [
        "#The value set in the variable must be float\n",
        "accuracy = accuracy_score(y_true=target_train, y_pred=pred) #Replace 0 with the actual value\n",
        "\n"
      ],
      "execution_count": 133,
      "outputs": []
    },
    {
      "cell_type": "code",
      "metadata": {
        "deletable": false,
        "editable": false,
        "nbgrader": {
          "checksum": "75544e763b81e3e36748ea0f4989c6ae",
          "grade": true,
          "grade_id": "cell-329a69c83b199316",
          "locked": true,
          "points": 1,
          "schema_version": 1,
          "solution": false
        },
        "id": "urP93Al5ugmu",
        "colab_type": "code",
        "colab": {
          "base_uri": "https://localhost:8080/",
          "height": 34
        },
        "outputId": "340a1cc6-44b8-4960-fba2-bf7ff091787d"
      },
      "source": [
        "#This is an autograded cell, do not edit\n",
        "print(accuracy)"
      ],
      "execution_count": 134,
      "outputs": [
        {
          "output_type": "stream",
          "text": [
            "0.8584842387659289\n"
          ],
          "name": "stdout"
        }
      ]
    },
    {
      "cell_type": "markdown",
      "metadata": {
        "deletable": false,
        "editable": false,
        "nbgrader": {
          "checksum": "f23e20cb9c25f2f8d674f98079625ff2",
          "grade": false,
          "grade_id": "cell-e321872a66519e2c",
          "locked": true,
          "schema_version": 1,
          "solution": false
        },
        "id": "MpU-3jviugm1",
        "colab_type": "text"
      },
      "source": [
        "---\n",
        "**Question 14 (1 points, manually graded)**: Using the following code snippet, export your decision tree to graphviz and visualize it. In your write-up, write down the interpretation of the rule at each node which is used to perform the splitting.\n",
        "\n",
        "In order to install graphviz, you may need to download the tool from [this website](https://graphviz.gitlab.io), and then pip3/conda install the python libraries you do not have.\n",
        "\n",
        "Mac users can use ```brew install graphviz``` instead of following the link, and linux users can do the same using their favourite package manager (for example, Ubuntu users can use ```sudo apt-get install graphviz```, followed by the necessary pip3/conda installations."
      ]
    },
    {
      "cell_type": "code",
      "metadata": {
        "deletable": false,
        "editable": false,
        "nbgrader": {
          "checksum": "b43dac070b745305841e22382bc87bda",
          "grade": false,
          "grade_id": "cell-5aaab8332072d23e",
          "locked": true,
          "schema_version": 1,
          "solution": false
        },
        "id": "H80MNiT4ugm2",
        "colab_type": "code",
        "colab": {
          "base_uri": "https://localhost:8080/",
          "height": 594
        },
        "outputId": "42bb8b1a-0ca2-4cff-b73c-f3d1205e55d6"
      },
      "source": [
        "#At the parent node, the rule is whether the heights of the individuals are below or equal to 68.5 or greater than 68.5. For people with height lower than 68.5, \n",
        "#the individuals are splitted up by higher and below height 67.5, while for people with height higher than 68.5, the individials are divided into height lower or equal to 70.5 or higher than \n",
        "#70.5. The four categories are further broken down by playgames feature. For example, people shorter than 67.5 are assigned into playgames smaller than or equal to 9 and greater than 9.  \n",
        "#In the end, we have total 8 leaf nodes.  \n",
        "from IPython.display import Image  \n",
        "import pydotplus \n",
        "import pydot\n",
        "from sklearn.externals.six import StringIO\n",
        "categorical_col = vec.get_feature_names()\n",
        "numeric_col = [x for x in df_drop.columns if x not in categorical]\n",
        "all_col = categorical_col + numeric_col\n",
        "\n",
        "clf = clf_model\n",
        "dotfile = StringIO() \n",
        "tree.export_graphviz(clf, out_file=dotfile,\n",
        "                     feature_names=all_col,  \n",
        "                         class_names=['Female', 'Male'],  \n",
        "                         filled=True, rounded=True,  \n",
        "                         special_characters=True)\n",
        "graph = pydotplus.graph_from_dot_data(dotfile.getvalue())\n",
        "Image(graph.create_png())\n",
        "\n",
        "\n",
        "#Ignore the cell below, but do not delete it. It is used to grade the image output of this cell."
      ],
      "execution_count": 140,
      "outputs": [
        {
          "output_type": "execute_result",
          "data": {
            "image/png": "[encoded data removed]",
            "text/plain": [
              "<IPython.core.display.Image object>"
            ]
          },
          "metadata": {
            "tags": []
          },
          "execution_count": 140
        }
      ]
    },
    {
      "cell_type": "code",
      "metadata": {
        "deletable": false,
        "nbgrader": {
          "checksum": "cd77be0d5dbdbf44dccc26ef3ee69512",
          "grade": true,
          "grade_id": "cell-ebde7100c67bf20c",
          "locked": false,
          "points": 1,
          "schema_version": 1,
          "solution": true
        },
        "id": "ty3tzOLVugm8",
        "colab_type": "code",
        "colab": {}
      },
      "source": [
        "# YOUR CODE HERE\n",
        "raise NotImplementedError()"
      ],
      "execution_count": null,
      "outputs": []
    },
    {
      "cell_type": "markdown",
      "metadata": {
        "deletable": false,
        "editable": false,
        "nbgrader": {
          "checksum": "29e84207b6e13109206f7ef78d0ff602",
          "grade": false,
          "grade_id": "cell-06714e6427b2d0d0",
          "locked": true,
          "schema_version": 1,
          "solution": false
        },
        "id": "gIOPTYuiugnF",
        "colab_type": "text"
      },
      "source": [
        "---\n",
        "## Bonus Question (2 points, auto graded)\n",
        "For each of your leaf nodes, specify the percentage of 'female' rows in that node (out of the total number of rows at that node)\n"
      ]
    },
    {
      "cell_type": "code",
      "metadata": {
        "deletable": false,
        "nbgrader": {
          "checksum": "88cda91aeb11b6f96d6c2bacf4a4804e",
          "grade": false,
          "grade_id": "cell-650a81bc31e6f608",
          "locked": false,
          "schema_version": 1,
          "solution": true
        },
        "id": "co_iRKrUugnG",
        "colab_type": "code",
        "colab": {}
      },
      "source": [
        "#The value set in the variable must be array\n",
        "ratios = [] #Replace 0 with the actual value\n",
        "\n",
        "node1_count = df[(df['height']<=67.5) & (df['playgames']<=9)]['gender'].value_counts()\n",
        "node1 = node1_count['female']/sum(node1_count)\n",
        "\n",
        "node2_count = df[(df['height']<=67.5) & (df['playgames']>9)]['gender'].value_counts()\n",
        "node2 = node2_count['female']/sum(node2_count)\n",
        "\n",
        "node3_count = df[(df['height']>67.5) & (df['height']<=68.5) & (df['playgames']<=11)]['gender'].value_counts()\n",
        "node3 = node3_count['female']/sum(node3_count)\n",
        "\n",
        "node4_count = df[(df['height']>67.5) & (df['height']<=68.5) & (df['playgames']>11)]['gender'].value_counts()\n",
        "node4 = node4_count['female']/sum(node4_count)\n",
        "\n",
        "node5_count = df[(df['height']>68.5) & (df['height']<=70.5) & (df['playgames']<=2.5)]['gender'].value_counts()\n",
        "node5 = node5_count['female']/sum(node5_count)\n",
        "node5\n",
        "\n",
        "node6_count = df[(df['height']>68.5) & (df['height']<=70.5) & (df['playgames']>2.5)]['gender'].value_counts()\n",
        "node6 = node6_count['female']/sum(node6_count)\n",
        "\n",
        "node7_count = df[(df['height']>70.5) & (df['playgames']<=1.75)]['gender'].value_counts()\n",
        "node7 = node7_count['female']/sum(node7_count)\n",
        "node7\n",
        "\n",
        "node8_count = df[(df['height']>70.5) & (df['playgames']>1.75)]['gender'].value_counts()\n",
        "node8 = node8_count['female']/sum(node8_count)\n",
        "node8\n",
        "\n",
        "ratios = [node1, node2, node3, node4, node5, node6, node7, node8]"
      ],
      "execution_count": 167,
      "outputs": []
    },
    {
      "cell_type": "code",
      "metadata": {
        "deletable": false,
        "editable": false,
        "nbgrader": {
          "checksum": "de18cf01eb62a9398145d3f1879681d5",
          "grade": true,
          "grade_id": "cell-2cc540aa430d101d",
          "locked": true,
          "points": 2,
          "schema_version": 1,
          "solution": false
        },
        "id": "Ugyn_t3lugnH",
        "colab_type": "code",
        "colab": {
          "base_uri": "https://localhost:8080/",
          "height": 34
        },
        "outputId": "2e40cb82-7e0a-4c86-b91e-9c9735e47c98"
      },
      "source": [
        "#This is an autograded cell, do not edit\n",
        "print(ratios)"
      ],
      "execution_count": 168,
      "outputs": [
        {
          "output_type": "stream",
          "text": [
            "[0.9307048984468339, 0.5416666666666666, 0.6644295302013423, 0.07692307692307693, 0.5572916666666666, 0.11678832116788321, 0.15879828326180256, 0.03430079155672823]\n"
          ],
          "name": "stdout"
        }
      ]
    },
    {
      "cell_type": "code",
      "metadata": {
        "id": "DIjVpr5ZugnU",
        "colab_type": "code",
        "colab": {}
      },
      "source": [
        ""
      ],
      "execution_count": null,
      "outputs": []
    }
  ]
}