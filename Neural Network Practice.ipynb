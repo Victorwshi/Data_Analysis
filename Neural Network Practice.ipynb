{
  "nbformat": 4,
  "nbformat_minor": 0,
  "metadata": {
    "colab": {
      "name": "Copy of DMA_Fall20_Lab4",
      "provenance": [],
      "collapsed_sections": [
        "GTO2KMti07__",
        "YAnuY8Sv1DoO",
        "ZlDfGvy61EMS",
        "1foS74O01FfP"
      ]
    },
    "kernelspec": {
      "name": "python3",
      "display_name": "Python 3"
    }
  },
  "cells": [
    {
      "cell_type": "markdown",
      "metadata": {
        "id": "1xxMXNDF7ckw",
        "colab_type": "text"
      },
      "source": [
        "\n",
        "\n",
        "```\n",
        "# This is formatted as code\n",
        "```\n",
        "\n",
        "# DMA Fall 20\n",
        "\n",
        "**Note** : This entire lab will be manually evaluated.\n",
        "\n",
        "Name : 'Victor Shi'\n",
        "Collaborator : ''"
      ]
    },
    {
      "cell_type": "markdown",
      "metadata": {
        "id": "Oyb_RNpFreOr",
        "colab_type": "text"
      },
      "source": [
        "# Lab 4: Neural Networks #\n"
      ]
    },
    {
      "cell_type": "code",
      "metadata": {
        "id": "yj9Uh79ereOs",
        "colab_type": "code",
        "colab": {}
      },
      "source": [
        "import pandas as pd\n",
        "from sklearn.neural_network import MLPClassifier\n",
        "from sklearn.svm import SVC\n",
        "\n",
        "from sklearn.preprocessing import StandardScaler, MinMaxScaler\n",
        "from sklearn.preprocessing import LabelEncoder, OneHotEncoder\n",
        "from sklearn.feature_extraction import DictVectorizer\n",
        "\n",
        "from sklearn.pipeline import Pipeline\n",
        "from sklearn.metrics import accuracy_score\n",
        "from sklearn.model_selection import train_test_split\n",
        "from sklearn.model_selection import GridSearchCV, ParameterGrid\n",
        "\n",
        "import numpy as np\n",
        "\n",
        "import warnings\n",
        "warnings.filterwarnings(\"ignore\")"
      ],
      "execution_count": 1,
      "outputs": []
    },
    {
      "cell_type": "code",
      "metadata": {
        "id": "n6SRFrhfreOt",
        "colab_type": "code",
        "colab": {
          "base_uri": "https://localhost:8080/",
          "height": 663
        },
        "outputId": "f0f334b5-fc0e-4cb5-88f1-669c82584241"
      },
      "source": [
        "!wget http://people.ischool.berkeley.edu/~zp/course_datasets/lab_4_training.csv\n",
        "!wget http://people.ischool.berkeley.edu/~zp/course_datasets/lab_4_test.csv\n",
        "\n",
        "df_train = pd.read_csv('./lab_4_training.csv')\n",
        "df_test = pd.read_csv('./lab_4_test.csv')\n",
        "df_train.head()"
      ],
      "execution_count": 2,
      "outputs": [
        {
          "output_type": "stream",
          "text": [
            "--2020-09-23 18:58:53--  http://people.ischool.berkeley.edu/~zp/course_datasets/lab_4_training.csv\n",
            "Resolving people.ischool.berkeley.edu (people.ischool.berkeley.edu)... 128.32.78.16\n",
            "Connecting to people.ischool.berkeley.edu (people.ischool.berkeley.edu)|128.32.78.16|:80... connected.\n",
            "HTTP request sent, awaiting response... 301 Moved Permanently\n",
            "Location: https://people.ischool.berkeley.edu/~zp/course_datasets/lab_4_training.csv [following]\n",
            "--2020-09-23 18:58:53--  https://people.ischool.berkeley.edu/~zp/course_datasets/lab_4_training.csv\n",
            "Connecting to people.ischool.berkeley.edu (people.ischool.berkeley.edu)|128.32.78.16|:443... connected.\n",
            "HTTP request sent, awaiting response... 200 OK\n",
            "Length: 105581 (103K) [text/csv]\n",
            "Saving to: ‘lab_4_training.csv’\n",
            "\n",
            "lab_4_training.csv  100%[===================>] 103.11K   490KB/s    in 0.2s    \n",
            "\n",
            "2020-09-23 18:58:54 (490 KB/s) - ‘lab_4_training.csv’ saved [105581/105581]\n",
            "\n",
            "URL transformed to HTTPS due to an HSTS policy\n",
            "--2020-09-23 18:58:54--  https://people.ischool.berkeley.edu/~zp/course_datasets/lab_4_test.csv\n",
            "Resolving people.ischool.berkeley.edu (people.ischool.berkeley.edu)... 128.32.78.16\n",
            "Connecting to people.ischool.berkeley.edu (people.ischool.berkeley.edu)|128.32.78.16|:443... connected.\n",
            "HTTP request sent, awaiting response... 200 OK\n",
            "Length: 26523 (26K) [text/csv]\n",
            "Saving to: ‘lab_4_test.csv’\n",
            "\n",
            "lab_4_test.csv      100%[===================>]  25.90K  --.-KB/s    in 0.07s   \n",
            "\n",
            "2020-09-23 18:58:54 (369 KB/s) - ‘lab_4_test.csv’ saved [26523/26523]\n",
            "\n"
          ],
          "name": "stdout"
        },
        {
          "output_type": "execute_result",
          "data": {
            "text/html": [
              "<div>\n",
              "<style scoped>\n",
              "    .dataframe tbody tr th:only-of-type {\n",
              "        vertical-align: middle;\n",
              "    }\n",
              "\n",
              "    .dataframe tbody tr th {\n",
              "        vertical-align: top;\n",
              "    }\n",
              "\n",
              "    .dataframe thead th {\n",
              "        text-align: right;\n",
              "    }\n",
              "</style>\n",
              "<table border=\"1\" class=\"dataframe\">\n",
              "  <thead>\n",
              "    <tr style=\"text-align: right;\">\n",
              "      <th></th>\n",
              "      <th>Unnamed: 0</th>\n",
              "      <th>gender</th>\n",
              "      <th>age</th>\n",
              "      <th>year</th>\n",
              "      <th>eyecolor</th>\n",
              "      <th>height</th>\n",
              "      <th>miles</th>\n",
              "      <th>brothers</th>\n",
              "      <th>sisters</th>\n",
              "      <th>computertime</th>\n",
              "      <th>exercise</th>\n",
              "      <th>exercisehours</th>\n",
              "      <th>musiccds</th>\n",
              "      <th>playgames</th>\n",
              "      <th>watchtv</th>\n",
              "    </tr>\n",
              "  </thead>\n",
              "  <tbody>\n",
              "    <tr>\n",
              "      <th>0</th>\n",
              "      <td>1303</td>\n",
              "      <td>male</td>\n",
              "      <td>20</td>\n",
              "      <td>second</td>\n",
              "      <td>green</td>\n",
              "      <td>73.0</td>\n",
              "      <td>210.0</td>\n",
              "      <td>0</td>\n",
              "      <td>1</td>\n",
              "      <td>10.0</td>\n",
              "      <td>Yes</td>\n",
              "      <td>5.0</td>\n",
              "      <td>50.0</td>\n",
              "      <td>1.0</td>\n",
              "      <td>15.0</td>\n",
              "    </tr>\n",
              "    <tr>\n",
              "      <th>1</th>\n",
              "      <td>36</td>\n",
              "      <td>male</td>\n",
              "      <td>20</td>\n",
              "      <td>third</td>\n",
              "      <td>other</td>\n",
              "      <td>71.0</td>\n",
              "      <td>90.0</td>\n",
              "      <td>1</td>\n",
              "      <td>0</td>\n",
              "      <td>15.0</td>\n",
              "      <td>Yes</td>\n",
              "      <td>4.0</td>\n",
              "      <td>10.0</td>\n",
              "      <td>0.0</td>\n",
              "      <td>1.0</td>\n",
              "    </tr>\n",
              "    <tr>\n",
              "      <th>2</th>\n",
              "      <td>489</td>\n",
              "      <td>male</td>\n",
              "      <td>22</td>\n",
              "      <td>fourth</td>\n",
              "      <td>hazel</td>\n",
              "      <td>75.0</td>\n",
              "      <td>200.0</td>\n",
              "      <td>0</td>\n",
              "      <td>1</td>\n",
              "      <td>1.0</td>\n",
              "      <td>Yes</td>\n",
              "      <td>2.0</td>\n",
              "      <td>150.0</td>\n",
              "      <td>1.0</td>\n",
              "      <td>10.0</td>\n",
              "    </tr>\n",
              "    <tr>\n",
              "      <th>3</th>\n",
              "      <td>1415</td>\n",
              "      <td>male</td>\n",
              "      <td>19</td>\n",
              "      <td>second</td>\n",
              "      <td>brown</td>\n",
              "      <td>72.0</td>\n",
              "      <td>35.0</td>\n",
              "      <td>2</td>\n",
              "      <td>2</td>\n",
              "      <td>20.0</td>\n",
              "      <td>Yes</td>\n",
              "      <td>5.0</td>\n",
              "      <td>100.0</td>\n",
              "      <td>0.0</td>\n",
              "      <td>7.0</td>\n",
              "    </tr>\n",
              "    <tr>\n",
              "      <th>4</th>\n",
              "      <td>616</td>\n",
              "      <td>male</td>\n",
              "      <td>22</td>\n",
              "      <td>fourth</td>\n",
              "      <td>hazel</td>\n",
              "      <td>71.0</td>\n",
              "      <td>15.0</td>\n",
              "      <td>2</td>\n",
              "      <td>1</td>\n",
              "      <td>10.0</td>\n",
              "      <td>Yes</td>\n",
              "      <td>7.0</td>\n",
              "      <td>10.0</td>\n",
              "      <td>0.0</td>\n",
              "      <td>5.0</td>\n",
              "    </tr>\n",
              "  </tbody>\n",
              "</table>\n",
              "</div>"
            ],
            "text/plain": [
              "   Unnamed: 0 gender  age    year  ... exercisehours  musiccds  playgames  watchtv\n",
              "0        1303   male   20  second  ...           5.0      50.0        1.0     15.0\n",
              "1          36   male   20   third  ...           4.0      10.0        0.0      1.0\n",
              "2         489   male   22  fourth  ...           2.0     150.0        1.0     10.0\n",
              "3        1415   male   19  second  ...           5.0     100.0        0.0      7.0\n",
              "4         616   male   22  fourth  ...           7.0      10.0        0.0      5.0\n",
              "\n",
              "[5 rows x 15 columns]"
            ]
          },
          "metadata": {
            "tags": []
          },
          "execution_count": 2
        }
      ]
    },
    {
      "cell_type": "markdown",
      "metadata": {
        "id": "RGt_10ZAreOv",
        "colab_type": "text"
      },
      "source": [
        "***\n",
        "### Question 1###\n",
        "Calculate a baseline accuracy measure using the majority class, assuming a target variable of 'gender'. The majority class is the most common value of the target variable in a particular dataset. Accuracy is calculated as (true positives + true negatives) / (all negatives and positives)"
      ]
    },
    {
      "cell_type": "markdown",
      "metadata": {
        "id": "UZPiLgekreOw",
        "colab_type": "text"
      },
      "source": [
        "**Question 1.a**  \n",
        "Find the majority class in the training set. If you always predicted this class in the training set, what would your accuracy be?"
      ]
    },
    {
      "cell_type": "code",
      "metadata": {
        "id": "iYjEFc1greOx",
        "colab_type": "code",
        "colab": {
          "base_uri": "https://localhost:8080/",
          "height": 34
        },
        "outputId": "c5914da6-b5dd-4722-e8f8-83bc1823ad8d"
      },
      "source": [
        "# YOUR CODE HERE\n",
        "majority = df_train['gender'].value_counts().idxmax()\n",
        "train_target = df_train['gender'].value_counts()\n",
        "tp = train_target[majority]\n",
        "tn = 0\n",
        "all = sum(train_target)\n",
        "accuracy = (tp+tn)/all\n",
        "print(accuracy)"
      ],
      "execution_count": null,
      "outputs": [
        {
          "output_type": "stream",
          "text": [
            "0.5377358490566038\n"
          ],
          "name": "stdout"
        }
      ]
    },
    {
      "cell_type": "markdown",
      "metadata": {
        "id": "RtvFM-hM0y2o",
        "colab_type": "text"
      },
      "source": [
        "###ANSWER: 0.5377358490566038"
      ]
    },
    {
      "cell_type": "markdown",
      "metadata": {
        "id": "ULPKW0IvreOy",
        "colab_type": "text"
      },
      "source": [
        "**Question 1.b**   \n",
        "If you always predicted this same class (majority from the training set) in the test set, what would your accuracy be?"
      ]
    },
    {
      "cell_type": "code",
      "metadata": {
        "colab_type": "code",
        "id": "dfU5mwh405vq",
        "colab": {
          "base_uri": "https://localhost:8080/"
        },
        "outputId": "dff3868c-9be4-4505-c35d-8d98ea8b0a22"
      },
      "source": [
        "# YOUR CODE HERE\n",
        "\n",
        "test_target = df_test['gender'].value_counts()\n",
        "tp = test_target['female']\n",
        "tn = 0\n",
        "all = sum(test_target)\n",
        "accuracy = (tp+tn)/all\n",
        "print(accuracy)"
      ],
      "execution_count": null,
      "outputs": [
        {
          "output_type": "stream",
          "text": [
            "0.5226130653266332\n"
          ],
          "name": "stdout"
        }
      ]
    },
    {
      "cell_type": "markdown",
      "metadata": {
        "colab_type": "text",
        "id": "pINRUJxG05v4"
      },
      "source": [
        "###ANSWER: 0.5226130653266332\n"
      ]
    },
    {
      "cell_type": "markdown",
      "metadata": {
        "id": "GKb2Ju-GreO0",
        "colab_type": "text"
      },
      "source": [
        "***\n",
        "### Question 2 ###\n",
        "Get started with Neural Networks."
      ]
    },
    {
      "cell_type": "markdown",
      "metadata": {
        "id": "UYI6e3F3reO0",
        "colab_type": "text"
      },
      "source": [
        "   \n",
        "Choose a NN implementation (eg: scikit-learn) and specify which you choose. Be sure the implementation allows you to modify the number of hidden layers and hidden nodes per layer.  \n",
        "\n",
        "NOTE: When possible, specify the logsig (sigmoid/logistc) function as the transfer function (another word for activation function) and use Levenberg-Marquardt backpropagation (lbfgs). It is possible to specify logistic in Sklearn MLPclassifier (Neural net).  "
      ]
    },
    {
      "cell_type": "markdown",
      "metadata": {
        "id": "4am3sGc4reO1",
        "colab_type": "text"
      },
      "source": [
        "**Question 2.a**   \n",
        "Train a neural network with a single 10 node hidden layer. Only use the Height feature of the dataset to predict the Gender. You will have to change Gender to a 0 and 1 class. After training, use your trained model to predict the class using the height feature from the training set. What was the accuracy of this prediction?"
      ]
    },
    {
      "cell_type": "code",
      "metadata": {
        "colab_type": "code",
        "id": "jbAzltaw067l",
        "colab": {}
      },
      "source": [
        "# YOUR CODE HERE\n",
        "Y_train = pd.get_dummies(df_train['gender']).iloc[:, 0].to_numpy()\n",
        "Y_test = pd.get_dummies(df_test['gender']).iloc[:, 0].to_numpy()\n",
        "X_train = df_train['height'].to_numpy().reshape(-1, 1)\n",
        "X_test = df_test['height'].to_numpy().reshape(-1, 1)\n"
      ],
      "execution_count": null,
      "outputs": []
    },
    {
      "cell_type": "code",
      "metadata": {
        "id": "u1clawTaiJI0",
        "colab_type": "code",
        "colab": {
          "base_uri": "https://localhost:8080/",
          "height": 34
        },
        "outputId": "166d6ee6-c340-4df0-e31b-c1ec11d91784"
      },
      "source": [
        "clf = MLPClassifier(hidden_layer_sizes = (10,), activation= 'logistic', solver='lbfgs', verbose=1, random_state=42)\n",
        "\n",
        "clf.fit(X_train, Y_train)\n",
        "\n",
        "y_pred_train = clf.predict(X_train)\n",
        "q2a_accuracy = accuracy_score(Y_train, y_pred_train)\n",
        "print(q2a_accuracy)"
      ],
      "execution_count": null,
      "outputs": [
        {
          "output_type": "stream",
          "text": [
            "0.6440251572327044\n"
          ],
          "name": "stdout"
        }
      ]
    },
    {
      "cell_type": "markdown",
      "metadata": {
        "colab_type": "text",
        "id": "EuaCk0l0067q"
      },
      "source": [
        "###ANSWER: 0.6440251572327044\n"
      ]
    },
    {
      "cell_type": "markdown",
      "metadata": {
        "id": "AkqzIeshreO2",
        "colab_type": "text"
      },
      "source": [
        "**Question 2.b**  \n",
        "Take the trained model from question 2.a and use it to predict the test set. This can be accomplished by taking the trained model and giving it the Height feature values from the test set. What is the accuracy of this model on the test set?"
      ]
    },
    {
      "cell_type": "code",
      "metadata": {
        "colab_type": "code",
        "id": "Tw25ezWp07hj",
        "colab": {
          "base_uri": "https://localhost:8080/",
          "height": 34
        },
        "outputId": "50f9dc86-0753-4ac6-930e-cd854b4e4303"
      },
      "source": [
        "# YOUR CODE HERE\n",
        "X_test = df_test['height'].to_numpy().reshape(-1, 1)\n",
        "Y_test = pd.get_dummies(df_test['gender']).iloc[:, 0].to_numpy()\n",
        "y_pred_test = clf.predict(X_test)\n",
        "\n",
        "q2b_accuracy = accuracy_score(Y_test, y_pred_test)\n",
        "\n",
        "print(q2b_accuracy)"
      ],
      "execution_count": null,
      "outputs": [
        {
          "output_type": "stream",
          "text": [
            "0.6206030150753769\n"
          ],
          "name": "stdout"
        }
      ]
    },
    {
      "cell_type": "markdown",
      "metadata": {
        "colab_type": "text",
        "id": "HbHMAFvw07hm"
      },
      "source": [
        "###ANSWER: 0.6206030150753769\n"
      ]
    },
    {
      "cell_type": "markdown",
      "metadata": {
        "id": "uMmIfsNEreO3",
        "colab_type": "text"
      },
      "source": [
        "**Question 2.c**   \n",
        "Neural Networks tend to prefer smaller, normalized feature values. Try taking the log of the height feature in both training and testing sets or use a Standard Scalar operation in SKlearn to centre and normalize the data between 0-1 for continuous values. Repeat question 2.a and 2.b with the log version or the normalized and centered version of this feature"
      ]
    },
    {
      "cell_type": "code",
      "metadata": {
        "colab_type": "code",
        "id": "wDhCZPaU07_8",
        "colab": {
          "base_uri": "https://localhost:8080/",
          "height": 51
        },
        "outputId": "6ad34e0a-64fa-413d-f5f5-c313420eabfa"
      },
      "source": [
        "# YOUR CODE HERE\n",
        "scaler_test = StandardScaler()\n",
        "test_norm = scaler_test.fit_transform(X_test)\n",
        "scaler_train = StandardScaler()\n",
        "train_norm = scaler_train.fit_transform(X_train)\n",
        "clf_ = MLPClassifier(hidden_layer_sizes= 10, activation= 'logistic', solver='lbfgs', random_state=42)\n",
        "clf_.fit(train_norm, Y_train)\n",
        "\n",
        "y_norm_train = clf_.predict(train_norm)\n",
        "q2c_accuracy_train = accuracy_score(Y_train, y_norm_train)\n",
        "print(q2c_accuracy_train)\n",
        "y_norm_test = clf_.predict(test_norm)\n",
        "q2c_accuracy_test = accuracy_score(Y_test, y_norm_test)\n",
        "print(q2c_accuracy_test)"
      ],
      "execution_count": null,
      "outputs": [
        {
          "output_type": "stream",
          "text": [
            "0.8465408805031447\n",
            "0.8542713567839196\n"
          ],
          "name": "stdout"
        }
      ]
    },
    {
      "cell_type": "markdown",
      "metadata": {
        "colab_type": "text",
        "id": "GTO2KMti07__"
      },
      "source": [
        "###ANSWER: "
      ]
    },
    {
      "cell_type": "markdown",
      "metadata": {
        "id": "2_SlOdcarePC",
        "colab_type": "text"
      },
      "source": [
        "***\n",
        "\n",
        "### Question 3###\n",
        "The rest of features in this dataset barring a few are categorical. No ML method accepts categorical features, so transform year, eyecolor, exercise into a set of binary features, one feature per unique original feature value, and mark the binary feature as ‘1’ if the feature value matches the original value and ‘0’ otherwise. Using only these binary variable transformed features, train and predict the class of the test set. What was your accuracy using Neural Network with a single 10 node hidden layer? During training, use a maximum number of iterations of 50."
      ]
    },
    {
      "cell_type": "code",
      "metadata": {
        "colab_type": "code",
        "id": "YjhzBFNV1Aip",
        "colab": {
          "base_uri": "https://localhost:8080/",
          "height": 119
        },
        "outputId": "dd989575-71f2-4c4e-d3d3-bdfbbcb4c4da"
      },
      "source": [
        "# YOUR CODE HERE\n",
        "df_train['year'] = df_train['year'].replace('first\"', 'first')\n",
        "df_train['year'].value_counts()\n"
      ],
      "execution_count": null,
      "outputs": [
        {
          "output_type": "execute_result",
          "data": {
            "text/plain": [
              "second    527\n",
              "third     522\n",
              "fourth    251\n",
              "first     184\n",
              "other     106\n",
              "Name: year, dtype: int64"
            ]
          },
          "metadata": {
            "tags": []
          },
          "execution_count": 8
        }
      ]
    },
    {
      "cell_type": "code",
      "metadata": {
        "id": "WhUebsU-dzug",
        "colab_type": "code",
        "colab": {
          "base_uri": "https://localhost:8080/",
          "height": 119
        },
        "outputId": "5d9b0ecb-ce75-4d2a-f254-839deae05467"
      },
      "source": [
        "df_test['year'] = df_test['year'].replace('first\"', 'first')\n",
        "df_test['year'].value_counts()"
      ],
      "execution_count": null,
      "outputs": [
        {
          "output_type": "execute_result",
          "data": {
            "text/plain": [
              "second    142\n",
              "third     124\n",
              "fourth     58\n",
              "first      46\n",
              "other      28\n",
              "Name: year, dtype: int64"
            ]
          },
          "metadata": {
            "tags": []
          },
          "execution_count": 9
        }
      ]
    },
    {
      "cell_type": "code",
      "metadata": {
        "id": "gvh2rGymdYyX",
        "colab_type": "code",
        "colab": {
          "base_uri": "https://localhost:8080/",
          "height": 34
        },
        "outputId": "44e06e4a-6623-44dd-8b03-8a5347c4fb32"
      },
      "source": [
        "dummies_train = pd.get_dummies(df_train[['year', 'eyecolor', 'exercise']])\n",
        "dummies_test = pd.get_dummies(df_test[['year', 'eyecolor', 'exercise']])\n",
        "\n",
        "q3_clf = MLPClassifier(hidden_layer_sizes=(10), activation= 'logistic', solver='lbfgs', random_state=42, max_iter=50)\n",
        "\n",
        "q3_clf.fit(dummies_train.to_numpy(), Y_train)\n",
        "\n",
        "q3_Y_pred = q3_clf.predict(dummies_test.to_numpy())\n",
        "\n",
        "q3_accuracy = accuracy_score(Y_test, q3_Y_pred)\n",
        "print(q3_accuracy)"
      ],
      "execution_count": null,
      "outputs": [
        {
          "output_type": "stream",
          "text": [
            "0.6030150753768844\n"
          ],
          "name": "stdout"
        }
      ]
    },
    {
      "cell_type": "markdown",
      "metadata": {
        "colab_type": "text",
        "id": "PyQ1EvAY1Ait"
      },
      "source": [
        "###ANSWER: 0.6030150753768844"
      ]
    },
    {
      "cell_type": "markdown",
      "metadata": {
        "id": "dSSr9sBlrePG",
        "colab_type": "text"
      },
      "source": [
        "***\n",
        "### Question 4###\n",
        "Using a NN, report the accuracy on  the test set of a model that trained only on the height and the eye color features of instances in the training set."
      ]
    },
    {
      "cell_type": "markdown",
      "metadata": {
        "id": "rMNSlOmJrePG",
        "colab_type": "text"
      },
      "source": [
        "**Question 4.a**  \n",
        "What is the accuracy on the test set using the original height values (no pre-processing) and eye color as a one-hot?"
      ]
    },
    {
      "cell_type": "code",
      "metadata": {
        "colab_type": "code",
        "id": "F_vN4tyv1Ckq",
        "colab": {
          "base_uri": "https://localhost:8080/",
          "height": 34
        },
        "outputId": "37665eba-b8b6-4dfd-c0dd-ffd2d69ed413"
      },
      "source": [
        "# YOUR CODE HERE\n",
        "q4a_X_train = pd.get_dummies(df_train[['height', 'eyecolor']], prefix=['eyecolor'])\n",
        "q4a_X_test = pd.get_dummies(df_test[['height', 'eyecolor']], prefix=['eyecolor'])\n",
        "\n",
        "q4a_clf = MLPClassifier(hidden_layer_sizes=(10), activation='logistic', solver='lbfgs', random_state=42, max_iter=50)\n",
        "q4a_clf.fit(q4a_X_train.to_numpy(), Y_train)\n",
        "q4a_Y_pred = q4a_clf.predict(q4a_X_test.to_numpy())\n",
        "\n",
        "q4a_accuracy = accuracy_score(Y_test, q4a_Y_pred)\n",
        "print(q4a_accuracy)"
      ],
      "execution_count": null,
      "outputs": [
        {
          "output_type": "stream",
          "text": [
            "0.7412060301507538\n"
          ],
          "name": "stdout"
        }
      ]
    },
    {
      "cell_type": "markdown",
      "metadata": {
        "colab_type": "text",
        "id": "CaL2o0TW1Cks"
      },
      "source": [
        "###ANSWER: 0.7412060301507538"
      ]
    },
    {
      "cell_type": "markdown",
      "metadata": {
        "id": "NC8Ipx9QrePH",
        "colab_type": "text"
      },
      "source": [
        "**Question 4.b**  \n",
        "What is the accuracy on the test set using the log of height values (applied to both training and testing sets) and eye color as a one-hot?"
      ]
    },
    {
      "cell_type": "code",
      "metadata": {
        "colab_type": "code",
        "id": "cFvzNv6O1DG3",
        "colab": {
          "base_uri": "https://localhost:8080/",
          "height": 34
        },
        "outputId": "31411a2b-8268-4c73-c5fa-d67cd4f71b1a"
      },
      "source": [
        "# YOUR CODE HERE\n",
        "q4b_X_train = pd.get_dummies(df_train[['height', 'eyecolor']], prefix=['eyecolor'])\n",
        "q4b_X_test = pd.get_dummies(df_test[['height', 'eyecolor']], prefix=['eyecolor'])\n",
        "\n",
        "q4b_X_train['height'] = np.log(q4b_X_train['height'])\n",
        "q4b_X_test['height'] = np.log(q4b_X_test['height'])\n",
        "q4b_clf = MLPClassifier(hidden_layer_sizes=(10), activation='logistic', solver='lbfgs', random_state=42, max_iter=50)\n",
        "q4b_clf.fit(q4b_X_train.to_numpy(), Y_train)\n",
        "q4b_Y_pred = q4b_clf.predict(q4b_X_test.to_numpy())\n",
        "\n",
        "q4b_accuracy = accuracy_score(Y_test, q4b_Y_pred)\n",
        "print(q4b_accuracy)"
      ],
      "execution_count": null,
      "outputs": [
        {
          "output_type": "stream",
          "text": [
            "0.8492462311557789\n"
          ],
          "name": "stdout"
        }
      ]
    },
    {
      "cell_type": "markdown",
      "metadata": {
        "colab_type": "text",
        "id": "Pt3NMp1M1DG4"
      },
      "source": [
        "###ANSWER: 0.8492462311557789"
      ]
    },
    {
      "cell_type": "markdown",
      "metadata": {
        "id": "iYm2jqnprePI",
        "colab_type": "text"
      },
      "source": [
        "**Question 4.c**  \n",
        "What is the accuracy on the test set using the Z-score of height values and eye color as a one-hot? \n",
        "\n",
        "Z-score is a normalization function. It is the value of a feature minus the average value for that feature (in the training set), divided by the standard deviation of that feature (in the training set). Remember that, whenever applying a function to a feature in the training set, it also has to be applied to that same feature in the test set."
      ]
    },
    {
      "cell_type": "code",
      "metadata": {
        "colab_type": "code",
        "id": "P3mDjF6N1DoN",
        "colab": {
          "base_uri": "https://localhost:8080/",
          "height": 34
        },
        "outputId": "8a9a170c-db72-4246-c3ec-16634d63c48b"
      },
      "source": [
        "# YOUR CODE HERE\n",
        "q4c_X_train = pd.get_dummies(df_train[['height', 'eyecolor']], prefix=['eyecolor'])\n",
        "q4c_X_test = pd.get_dummies(df_test[['height', 'eyecolor']], prefix=['eyecolor'])\n",
        "\n",
        "q4c_train = q4c_X_train['height'].to_numpy()\n",
        "q4c_test = q4c_X_test['height'].to_numpy()\n",
        "q4c_train_z = (q4c_train - np.mean(q4c_train))/np.std(q4c_train)\n",
        "q4c_test_z = (q4c_test - np.mean(q4c_test))/np.std(q4c_test)\n",
        "q4c_X_train['height'] = q4c_train_z\n",
        "q4c_X_test['height'] = q4c_test_z\n",
        "\n",
        "q4c_clf = MLPClassifier(hidden_layer_sizes=(10), activation='logistic', solver='lbfgs', random_state=42, max_iter=50)\n",
        "q4c_clf.fit(q4c_X_train.to_numpy(), Y_train)\n",
        "q4c_Y_pred = q4c_clf.predict(q4c_X_test.to_numpy())\n",
        "\n",
        "q4c_accuracy = accuracy_score(Y_test, q4c_Y_pred)\n",
        "print(q4c_accuracy)"
      ],
      "execution_count": null,
      "outputs": [
        {
          "output_type": "stream",
          "text": [
            "0.8693467336683417\n"
          ],
          "name": "stdout"
        }
      ]
    },
    {
      "cell_type": "markdown",
      "metadata": {
        "colab_type": "text",
        "id": "YAnuY8Sv1DoO"
      },
      "source": [
        "###ANSWER: 0.8693467336683417"
      ]
    },
    {
      "cell_type": "markdown",
      "metadata": {
        "id": "Fh9qwu_9rePJ",
        "colab_type": "text"
      },
      "source": [
        "***\n",
        "### Question 5 ###\n",
        "Repeat question 4 for exercise hours + eye color"
      ]
    },
    {
      "cell_type": "code",
      "metadata": {
        "colab_type": "code",
        "id": "JAgHz_r-1EMR",
        "colab": {
          "base_uri": "https://localhost:8080/",
          "height": 34
        },
        "outputId": "fec40aa1-e1a5-4b56-d1dd-bef0f740ed1d"
      },
      "source": [
        "# Original Values \n",
        "q5a_X_train = pd.get_dummies(df_train[['exercisehours', 'eyecolor']], prefix=['eyecolor'])\n",
        "q5a_X_test = pd.get_dummies(df_test[['exercisehours', 'eyecolor']], prefix=['eyecolor'])\n",
        "q5a_clf = MLPClassifier(hidden_layer_sizes=(10), activation='logistic', solver='lbfgs', random_state=42, max_iter=50)\n",
        "q5a_clf.fit(q5a_X_train.to_numpy(), Y_train)\n",
        "q5a_Y_pred = q5a_clf.predict(q5a_X_test.to_numpy())\n",
        "\n",
        "q5a_accuracy = accuracy_score(Y_test, q5a_Y_pred)\n",
        "q5a_accuracy"
      ],
      "execution_count": null,
      "outputs": [
        {
          "output_type": "execute_result",
          "data": {
            "text/plain": [
              "0.5628140703517588"
            ]
          },
          "metadata": {
            "tags": []
          },
          "execution_count": 15
        }
      ]
    },
    {
      "cell_type": "code",
      "metadata": {
        "id": "z8SZCISjpUCQ",
        "colab_type": "code",
        "colab": {
          "base_uri": "https://localhost:8080/",
          "height": 34
        },
        "outputId": "cc28e33d-fab7-48df-c1e2-ebd7ce8b9994"
      },
      "source": [
        "# Log of exercise hours \n",
        "q5b_X_train = pd.get_dummies(df_train[['exercisehours', 'eyecolor']], prefix=['eyecolor'])\n",
        "q5b_X_test = pd.get_dummies(df_test[['exercisehours', 'eyecolor']], prefix=['eyecolor'])\n",
        "\n",
        "q5b_X_train['exercisehours'] = np.log(q5b_X_train['exercisehours']+0.1)\n",
        "q5b_X_test['exercisehours'] = np.log(q5b_X_test['exercisehours']+0.1)\n",
        "\n",
        "q5b_clf = MLPClassifier(hidden_layer_sizes=(10), activation='logistic', solver='lbfgs', random_state=42, max_iter=50)\n",
        "q5b_clf.fit(q5b_X_train.to_numpy(), Y_train)\n",
        "q5b_Y_pred = q5b_clf.predict(q5b_X_test.to_numpy())\n",
        "\n",
        "q5b_accuracy = accuracy_score(Y_test, q5b_Y_pred)\n",
        "print(q5b_accuracy)"
      ],
      "execution_count": null,
      "outputs": [
        {
          "output_type": "stream",
          "text": [
            "0.5703517587939698\n"
          ],
          "name": "stdout"
        }
      ]
    },
    {
      "cell_type": "code",
      "metadata": {
        "id": "vAO9UENYKz8T",
        "colab_type": "code",
        "colab": {
          "base_uri": "https://localhost:8080/",
          "height": 34
        },
        "outputId": "f66e6ef9-4427-49a0-a255-78f77204357d"
      },
      "source": [
        "# Z-score\n",
        "q5c_X_train = pd.get_dummies(df_train[['exercisehours', 'eyecolor']], prefix=['eyecolor'])\n",
        "q5c_X_test = pd.get_dummies(df_test[['exercisehours', 'eyecolor']], prefix=['eyecolor'])\n",
        "\n",
        "q5c_train = q5c_X_train['exercisehours'].to_numpy()\n",
        "q5c_test = q5c_X_test['exercisehours'].to_numpy()\n",
        "q5c_train_z = (q5c_train - np.mean(q5c_train))/np.std(q5c_train)\n",
        "q5c_test_z = (q5c_test - np.mean(q5c_test))/np.std(q5c_test)\n",
        "q5c_X_train['exercisehours'] = q5c_train_z\n",
        "q5c_X_test['exercisehours'] = q5c_test_z\n",
        "\n",
        "q5c_clf = MLPClassifier(hidden_layer_sizes=(10), activation='logistic', solver='lbfgs', random_state=42, max_iter=50)\n",
        "q5c_clf.fit(q5c_X_train.to_numpy(), Y_train)\n",
        "q5c_Y_pred = q5c_clf.predict(q5c_X_test.to_numpy())\n",
        "\n",
        "q5c_accuracy = accuracy_score(Y_test, q5c_Y_pred)\n",
        "print(q5c_accuracy)\n"
      ],
      "execution_count": null,
      "outputs": [
        {
          "output_type": "stream",
          "text": [
            "0.5703517587939698\n"
          ],
          "name": "stdout"
        }
      ]
    },
    {
      "cell_type": "markdown",
      "metadata": {
        "colab_type": "text",
        "id": "ZlDfGvy61EMS"
      },
      "source": [
        "bold text###ANSWER: For original exercise hours, the accuracy on the test set is 0.5628140703517588. For the log of exercise hours, the accuracy is 0.5703517587939698. The Z-score accuracy is 0.5703517587939698."
      ]
    },
    {
      "cell_type": "markdown",
      "metadata": {
        "id": "JYVuaPWgrePL",
        "colab_type": "text"
      },
      "source": [
        "***\n",
        "### Question 6###\n",
        "Combine the features from question 3, 4, and 5 (year, eyecolor, exercise, height, exercise hours). For numeric features use the best normalization method from questions 4 and 5."
      ]
    },
    {
      "cell_type": "markdown",
      "metadata": {
        "id": "1iAiFhlFrePM",
        "colab_type": "text"
      },
      "source": [
        "**Question 6.a**  \n",
        "What was the NN accuracy on the test set using the single 10 node hidden layer?"
      ]
    },
    {
      "cell_type": "code",
      "metadata": {
        "colab_type": "code",
        "id": "QuLJ6sTB1FfN",
        "colab": {
          "base_uri": "https://localhost:8080/",
          "height": 34
        },
        "outputId": "163adde0-b309-4ba4-8df4-9f40aee94eda"
      },
      "source": [
        "# YOUR CODE HERE\n",
        "q6_X_train = pd.concat([dummies_train, q4c_X_train['height'], q5c_X_train['exercisehours']], axis = 1)\n",
        "q6_X_test = pd.concat([dummies_test, q4c_X_test['height'], q5c_X_test['exercisehours']], axis = 1)\n",
        "\n",
        "q6_clf = MLPClassifier(hidden_layer_sizes=(10), activation='logistic', solver='lbfgs', random_state=42, max_iter=50)\n",
        "q6_clf.fit(q6_X_train.to_numpy(), Y_train)\n",
        "q6_Y_pred = q6_clf.predict(q6_X_test.to_numpy())\n",
        "\n",
        "q6_accuracy = accuracy_score(Y_test, q6_Y_pred)\n",
        "print(q6_accuracy)"
      ],
      "execution_count": null,
      "outputs": [
        {
          "output_type": "stream",
          "text": [
            "0.8668341708542714\n"
          ],
          "name": "stdout"
        }
      ]
    },
    {
      "cell_type": "markdown",
      "metadata": {
        "colab_type": "text",
        "id": "1foS74O01FfP"
      },
      "source": [
        "###ANSWER: "
      ]
    },
    {
      "cell_type": "markdown",
      "metadata": {
        "id": "Jusc-kofrePP",
        "colab_type": "text"
      },
      "source": [
        "***\n",
        "### Question 7- Bonus (10%)###\n",
        "Can you improve your test set prediction accuracy by 5% or more?  \n",
        "\n",
        "See how close to that milestone of improvement you can get by modifying the tuning parameters of  Neural Networks (the number of hidden layers, number of hidden nodes in each layer, the learning rate aka mu). A great guide to tuning parameters is explained in this guide: http://www.csie.ntu.edu.tw/~cjlin/papers/guide/guide.pdf. \n",
        "\n",
        "While the guide is specific to SVM and in particular the C and gamma parameters of the RBF kernel, the method applies to generally to any ML technique with tuning parameters.\n",
        "\n",
        "Please also write a paragraph in a markdown cell below with an explanation of your approach and evaluation metrics.\n"
      ]
    },
    {
      "cell_type": "code",
      "metadata": {
        "colab_type": "code",
        "id": "qvpoUdeq1GsX",
        "colab": {
          "base_uri": "https://localhost:8080/",
          "height": 71
        },
        "outputId": "7b8c470c-13cb-47ba-8d30-2dd804d7fab2"
      },
      "source": [
        "# YOUR CODE HERE\n",
        "q7_X_train = pd.concat([dummies_train, q4c_X_train['height'], q5c_X_train['exercisehours']], axis = 1)\n",
        "q7_X_test = pd.concat([dummies_test, q4c_X_test['height'], q5c_X_test['exercisehours']], axis = 1)\n",
        "\n",
        "hidden_layer = [(20, 20, 20), (30, 30, 30)]\n",
        "max_iter = [900, 1000, 1100, 1200, 1300, 1400]\n",
        "alpha = 10.0 ** -np.arange(8, 12)\n",
        "activation = ['logistic']\n",
        "random = [33, 42] + list(range(20, 30))\n",
        "scores = []\n",
        "param = []\n",
        "for x in activation:\n",
        "  for y in hidden_layer:\n",
        "    for z in max_iter:\n",
        "        for j in alpha:\n",
        "            q7_mlp = MLPClassifier(hidden_layer_sizes=y, activation=x, solver='lbfgs', random_state=33, max_iter= z, alpha=j)\n",
        "            q7_mlp.fit(q7_X_train.to_numpy(), Y_train)\n",
        "            q7_Y_pred = q7_mlp.predict(q7_X_test.to_numpy())\n",
        "            q7_accuracy = accuracy_score(Y_test, q7_Y_pred)\n",
        "            scores = scores + [[q7_accuracy]]\n",
        "            param = param + [[x, y, z, j]]\n",
        "print(scores)\n",
        "print(param)\n",
        "# parameter_space = {\n",
        "#     'hidden_layer_sizes': [(x) for x in range(20, 60)],\n",
        "#     'activation': ['identity', 'logistic'],\n",
        "#     'solver': ['lbfgs'],\n",
        "#     'max_iter': [100, 300, 200, 400],\n",
        "#     'random_state': [0,1,2,3,4,5,6,7,8,9,42],\n",
        "#     'alpha': 10.0 ** -np.arange(1, 10)\n",
        "# }\n",
        "# q7_clf = GridSearchCV(q7_mlp, param_grid=parameter_space, refit = False)\n"
      ],
      "execution_count": 45,
      "outputs": [
        {
          "output_type": "stream",
          "text": [
            "[[0.907035175879397], [0.9170854271356784], [0.9020100502512562], [0.9221105527638191], [0.907035175879397], [0.9095477386934674], [0.8944723618090452], [0.9170854271356784], [0.907035175879397], [0.9120603015075377], [0.9020100502512562], [0.9246231155778895], [0.9170854271356784], [0.9170854271356784], [0.907035175879397], [0.9221105527638191], [0.914572864321608], [0.914572864321608], [0.9120603015075377], [0.9170854271356784], [0.8969849246231156], [0.914572864321608], [0.9120603015075377], [0.9195979899497487], [0.7135678391959799], [0.7135678391959799], [0.7135678391959799], [0.7135678391959799], [0.7135678391959799], [0.7135678391959799], [0.7135678391959799], [0.7135678391959799], [0.7135678391959799], [0.7135678391959799], [0.7135678391959799], [0.7135678391959799], [0.7135678391959799], [0.7135678391959799], [0.7135678391959799], [0.7135678391959799], [0.7135678391959799], [0.7135678391959799], [0.7135678391959799], [0.7135678391959799], [0.7135678391959799], [0.7135678391959799], [0.7135678391959799], [0.7135678391959799], [0.9221105527638191], [0.8919597989949749], [0.8944723618090452], [0.9095477386934674], [0.9246231155778895], [0.8944723618090452], [0.8944723618090452], [0.9170854271356784], [0.9246231155778895], [0.8919597989949749], [0.8944723618090452], [0.9120603015075377], [0.9396984924623115], [0.8793969849246231], [0.8944723618090452], [0.914572864321608], [0.9271356783919598], [0.8844221105527639], [0.8944723618090452], [0.914572864321608], [0.9221105527638191], [0.8819095477386935], [0.8944723618090452], [0.9045226130653267]]\n",
            "[['logistic', (20, 20, 20), 900, 1e-11], ['logistic', (20, 20, 20), 900, 1e-12], ['logistic', (20, 20, 20), 900, 1e-13], ['logistic', (20, 20, 20), 900, 1e-14], ['logistic', (20, 20, 20), 1000, 1e-11], ['logistic', (20, 20, 20), 1000, 1e-12], ['logistic', (20, 20, 20), 1000, 1e-13], ['logistic', (20, 20, 20), 1000, 1e-14], ['logistic', (20, 20, 20), 1100, 1e-11], ['logistic', (20, 20, 20), 1100, 1e-12], ['logistic', (20, 20, 20), 1100, 1e-13], ['logistic', (20, 20, 20), 1100, 1e-14], ['logistic', (20, 20, 20), 1200, 1e-11], ['logistic', (20, 20, 20), 1200, 1e-12], ['logistic', (20, 20, 20), 1200, 1e-13], ['logistic', (20, 20, 20), 1200, 1e-14], ['logistic', (20, 20, 20), 1300, 1e-11], ['logistic', (20, 20, 20), 1300, 1e-12], ['logistic', (20, 20, 20), 1300, 1e-13], ['logistic', (20, 20, 20), 1300, 1e-14], ['logistic', (20, 20, 20), 1400, 1e-11], ['logistic', (20, 20, 20), 1400, 1e-12], ['logistic', (20, 20, 20), 1400, 1e-13], ['logistic', (20, 20, 20), 1400, 1e-14], ['logistic', (25, 25, 25), 900, 1e-11], ['logistic', (25, 25, 25), 900, 1e-12], ['logistic', (25, 25, 25), 900, 1e-13], ['logistic', (25, 25, 25), 900, 1e-14], ['logistic', (25, 25, 25), 1000, 1e-11], ['logistic', (25, 25, 25), 1000, 1e-12], ['logistic', (25, 25, 25), 1000, 1e-13], ['logistic', (25, 25, 25), 1000, 1e-14], ['logistic', (25, 25, 25), 1100, 1e-11], ['logistic', (25, 25, 25), 1100, 1e-12], ['logistic', (25, 25, 25), 1100, 1e-13], ['logistic', (25, 25, 25), 1100, 1e-14], ['logistic', (25, 25, 25), 1200, 1e-11], ['logistic', (25, 25, 25), 1200, 1e-12], ['logistic', (25, 25, 25), 1200, 1e-13], ['logistic', (25, 25, 25), 1200, 1e-14], ['logistic', (25, 25, 25), 1300, 1e-11], ['logistic', (25, 25, 25), 1300, 1e-12], ['logistic', (25, 25, 25), 1300, 1e-13], ['logistic', (25, 25, 25), 1300, 1e-14], ['logistic', (25, 25, 25), 1400, 1e-11], ['logistic', (25, 25, 25), 1400, 1e-12], ['logistic', (25, 25, 25), 1400, 1e-13], ['logistic', (25, 25, 25), 1400, 1e-14], ['logistic', (30, 30, 30), 900, 1e-11], ['logistic', (30, 30, 30), 900, 1e-12], ['logistic', (30, 30, 30), 900, 1e-13], ['logistic', (30, 30, 30), 900, 1e-14], ['logistic', (30, 30, 30), 1000, 1e-11], ['logistic', (30, 30, 30), 1000, 1e-12], ['logistic', (30, 30, 30), 1000, 1e-13], ['logistic', (30, 30, 30), 1000, 1e-14], ['logistic', (30, 30, 30), 1100, 1e-11], ['logistic', (30, 30, 30), 1100, 1e-12], ['logistic', (30, 30, 30), 1100, 1e-13], ['logistic', (30, 30, 30), 1100, 1e-14], ['logistic', (30, 30, 30), 1200, 1e-11], ['logistic', (30, 30, 30), 1200, 1e-12], ['logistic', (30, 30, 30), 1200, 1e-13], ['logistic', (30, 30, 30), 1200, 1e-14], ['logistic', (30, 30, 30), 1300, 1e-11], ['logistic', (30, 30, 30), 1300, 1e-12], ['logistic', (30, 30, 30), 1300, 1e-13], ['logistic', (30, 30, 30), 1300, 1e-14], ['logistic', (30, 30, 30), 1400, 1e-11], ['logistic', (30, 30, 30), 1400, 1e-12], ['logistic', (30, 30, 30), 1400, 1e-13], ['logistic', (30, 30, 30), 1400, 1e-14]]\n"
          ],
          "name": "stdout"
        }
      ]
    },
    {
      "cell_type": "code",
      "metadata": {
        "id": "RKEPyHPiqKjz",
        "colab_type": "code",
        "colab": {
          "base_uri": "https://localhost:8080/",
          "height": 1000
        },
        "outputId": "9d0c7674-df24-4488-a61e-2156651870c7"
      },
      "source": [
        "np.concatenate([param, scores], axis=1)"
      ],
      "execution_count": 48,
      "outputs": [
        {
          "output_type": "execute_result",
          "data": {
            "text/plain": [
              "array([['logistic', (20, 20, 20), 900, 1e-11, 0.907035175879397],\n",
              "       ['logistic', (20, 20, 20), 900, 1e-12, 0.9170854271356784],\n",
              "       ['logistic', (20, 20, 20), 900, 1e-13, 0.9020100502512562],\n",
              "       ['logistic', (20, 20, 20), 900, 1e-14, 0.9221105527638191],\n",
              "       ['logistic', (20, 20, 20), 1000, 1e-11, 0.907035175879397],\n",
              "       ['logistic', (20, 20, 20), 1000, 1e-12, 0.9095477386934674],\n",
              "       ['logistic', (20, 20, 20), 1000, 1e-13, 0.8944723618090452],\n",
              "       ['logistic', (20, 20, 20), 1000, 1e-14, 0.9170854271356784],\n",
              "       ['logistic', (20, 20, 20), 1100, 1e-11, 0.907035175879397],\n",
              "       ['logistic', (20, 20, 20), 1100, 1e-12, 0.9120603015075377],\n",
              "       ['logistic', (20, 20, 20), 1100, 1e-13, 0.9020100502512562],\n",
              "       ['logistic', (20, 20, 20), 1100, 1e-14, 0.9246231155778895],\n",
              "       ['logistic', (20, 20, 20), 1200, 1e-11, 0.9170854271356784],\n",
              "       ['logistic', (20, 20, 20), 1200, 1e-12, 0.9170854271356784],\n",
              "       ['logistic', (20, 20, 20), 1200, 1e-13, 0.907035175879397],\n",
              "       ['logistic', (20, 20, 20), 1200, 1e-14, 0.9221105527638191],\n",
              "       ['logistic', (20, 20, 20), 1300, 1e-11, 0.914572864321608],\n",
              "       ['logistic', (20, 20, 20), 1300, 1e-12, 0.914572864321608],\n",
              "       ['logistic', (20, 20, 20), 1300, 1e-13, 0.9120603015075377],\n",
              "       ['logistic', (20, 20, 20), 1300, 1e-14, 0.9170854271356784],\n",
              "       ['logistic', (20, 20, 20), 1400, 1e-11, 0.8969849246231156],\n",
              "       ['logistic', (20, 20, 20), 1400, 1e-12, 0.914572864321608],\n",
              "       ['logistic', (20, 20, 20), 1400, 1e-13, 0.9120603015075377],\n",
              "       ['logistic', (20, 20, 20), 1400, 1e-14, 0.9195979899497487],\n",
              "       ['logistic', (25, 25, 25), 900, 1e-11, 0.7135678391959799],\n",
              "       ['logistic', (25, 25, 25), 900, 1e-12, 0.7135678391959799],\n",
              "       ['logistic', (25, 25, 25), 900, 1e-13, 0.7135678391959799],\n",
              "       ['logistic', (25, 25, 25), 900, 1e-14, 0.7135678391959799],\n",
              "       ['logistic', (25, 25, 25), 1000, 1e-11, 0.7135678391959799],\n",
              "       ['logistic', (25, 25, 25), 1000, 1e-12, 0.7135678391959799],\n",
              "       ['logistic', (25, 25, 25), 1000, 1e-13, 0.7135678391959799],\n",
              "       ['logistic', (25, 25, 25), 1000, 1e-14, 0.7135678391959799],\n",
              "       ['logistic', (25, 25, 25), 1100, 1e-11, 0.7135678391959799],\n",
              "       ['logistic', (25, 25, 25), 1100, 1e-12, 0.7135678391959799],\n",
              "       ['logistic', (25, 25, 25), 1100, 1e-13, 0.7135678391959799],\n",
              "       ['logistic', (25, 25, 25), 1100, 1e-14, 0.7135678391959799],\n",
              "       ['logistic', (25, 25, 25), 1200, 1e-11, 0.7135678391959799],\n",
              "       ['logistic', (25, 25, 25), 1200, 1e-12, 0.7135678391959799],\n",
              "       ['logistic', (25, 25, 25), 1200, 1e-13, 0.7135678391959799],\n",
              "       ['logistic', (25, 25, 25), 1200, 1e-14, 0.7135678391959799],\n",
              "       ['logistic', (25, 25, 25), 1300, 1e-11, 0.7135678391959799],\n",
              "       ['logistic', (25, 25, 25), 1300, 1e-12, 0.7135678391959799],\n",
              "       ['logistic', (25, 25, 25), 1300, 1e-13, 0.7135678391959799],\n",
              "       ['logistic', (25, 25, 25), 1300, 1e-14, 0.7135678391959799],\n",
              "       ['logistic', (25, 25, 25), 1400, 1e-11, 0.7135678391959799],\n",
              "       ['logistic', (25, 25, 25), 1400, 1e-12, 0.7135678391959799],\n",
              "       ['logistic', (25, 25, 25), 1400, 1e-13, 0.7135678391959799],\n",
              "       ['logistic', (25, 25, 25), 1400, 1e-14, 0.7135678391959799],\n",
              "       ['logistic', (30, 30, 30), 900, 1e-11, 0.9221105527638191],\n",
              "       ['logistic', (30, 30, 30), 900, 1e-12, 0.8919597989949749],\n",
              "       ['logistic', (30, 30, 30), 900, 1e-13, 0.8944723618090452],\n",
              "       ['logistic', (30, 30, 30), 900, 1e-14, 0.9095477386934674],\n",
              "       ['logistic', (30, 30, 30), 1000, 1e-11, 0.9246231155778895],\n",
              "       ['logistic', (30, 30, 30), 1000, 1e-12, 0.8944723618090452],\n",
              "       ['logistic', (30, 30, 30), 1000, 1e-13, 0.8944723618090452],\n",
              "       ['logistic', (30, 30, 30), 1000, 1e-14, 0.9170854271356784],\n",
              "       ['logistic', (30, 30, 30), 1100, 1e-11, 0.9246231155778895],\n",
              "       ['logistic', (30, 30, 30), 1100, 1e-12, 0.8919597989949749],\n",
              "       ['logistic', (30, 30, 30), 1100, 1e-13, 0.8944723618090452],\n",
              "       ['logistic', (30, 30, 30), 1100, 1e-14, 0.9120603015075377],\n",
              "       ['logistic', (30, 30, 30), 1200, 1e-11, 0.9396984924623115],\n",
              "       ['logistic', (30, 30, 30), 1200, 1e-12, 0.8793969849246231],\n",
              "       ['logistic', (30, 30, 30), 1200, 1e-13, 0.8944723618090452],\n",
              "       ['logistic', (30, 30, 30), 1200, 1e-14, 0.914572864321608],\n",
              "       ['logistic', (30, 30, 30), 1300, 1e-11, 0.9271356783919598],\n",
              "       ['logistic', (30, 30, 30), 1300, 1e-12, 0.8844221105527639],\n",
              "       ['logistic', (30, 30, 30), 1300, 1e-13, 0.8944723618090452],\n",
              "       ['logistic', (30, 30, 30), 1300, 1e-14, 0.914572864321608],\n",
              "       ['logistic', (30, 30, 30), 1400, 1e-11, 0.9221105527638191],\n",
              "       ['logistic', (30, 30, 30), 1400, 1e-12, 0.8819095477386935],\n",
              "       ['logistic', (30, 30, 30), 1400, 1e-13, 0.8944723618090452],\n",
              "       ['logistic', (30, 30, 30), 1400, 1e-14, 0.9045226130653267]],\n",
              "      dtype=object)"
            ]
          },
          "metadata": {
            "tags": []
          },
          "execution_count": 48
        }
      ]
    },
    {
      "cell_type": "code",
      "metadata": {
        "id": "NAYakc8elxlk",
        "colab_type": "code",
        "colab": {
          "base_uri": "https://localhost:8080/",
          "height": 34
        },
        "outputId": "83f91a5d-e6da-478a-cebe-0d21e81378a3"
      },
      "source": [
        "max(scores)"
      ],
      "execution_count": 50,
      "outputs": [
        {
          "output_type": "execute_result",
          "data": {
            "text/plain": [
              "[0.9396984924623115]"
            ]
          },
          "metadata": {
            "tags": []
          },
          "execution_count": 50
        }
      ]
    },
    {
      "cell_type": "code",
      "metadata": {
        "id": "vU2NZeWblTiY",
        "colab_type": "code",
        "colab": {
          "base_uri": "https://localhost:8080/",
          "height": 71
        },
        "outputId": "9f73b99a-24f3-4e58-b54b-f9e3cce8dc42"
      },
      "source": [
        "hidden_layer = [(30, 30, 30), (40, 40, 40)]\n",
        "max_iter = [1100, 1200, 1300, 1400]\n",
        "alpha = 10.0 ** -np.arange(14, 17)\n",
        "activation = ['logistic']\n",
        "random = [33, 34, 35, 36, 42]\n",
        "scores = []\n",
        "param = []\n",
        "for x in random:\n",
        "  for y in hidden_layer:\n",
        "    for z in max_iter:\n",
        "        for j in alpha:\n",
        "            q7_mlp = MLPClassifier(hidden_layer_sizes=y, activation='logistic', solver='lbfgs', random_state=x, max_iter= z, alpha=j)\n",
        "            q7_mlp.fit(q7_X_train.to_numpy(), Y_train)\n",
        "            q7_Y_pred = q7_mlp.predict(q7_X_test.to_numpy())\n",
        "            q7_accuracy = accuracy_score(Y_test, q7_Y_pred)\n",
        "            scores = scores + [[q7_accuracy]]\n",
        "            param = param + [[x, y, z, j]]\n",
        "print(scores)\n",
        "print(param)"
      ],
      "execution_count": 51,
      "outputs": [
        {
          "output_type": "stream",
          "text": [
            "[[0.9120603015075377], [0.9095477386934674], [0.9020100502512562], [0.914572864321608], [0.9170854271356784], [0.8969849246231156], [0.914572864321608], [0.9221105527638191], [0.8944723618090452], [0.9045226130653267], [0.914572864321608], [0.8994974874371859], [0.914572864321608], [0.9271356783919598], [0.9221105527638191], [0.907035175879397], [0.9271356783919598], [0.9120603015075377], [0.9095477386934674], [0.9346733668341709], [0.914572864321608], [0.9120603015075377], [0.9271356783919598], [0.9095477386934674], [0.5778894472361809], [0.5778894472361809], [0.5778894472361809], [0.5778894472361809], [0.5778894472361809], [0.5778894472361809], [0.5778894472361809], [0.5778894472361809], [0.5778894472361809], [0.5778894472361809], [0.5778894472361809], [0.5778894472361809], [0.9271356783919598], [0.9246231155778895], [0.9271356783919598], [0.9246231155778895], [0.9271356783919598], [0.9296482412060302], [0.9221105527638191], [0.9346733668341709], [0.9246231155778895], [0.9195979899497487], [0.9296482412060302], [0.9246231155778895], [0.9170854271356784], [0.9221105527638191], [0.9246231155778895], [0.9195979899497487], [0.9221105527638191], [0.9271356783919598], [0.9195979899497487], [0.9195979899497487], [0.9321608040201005], [0.9246231155778895], [0.914572864321608], [0.9321608040201005], [0.9271356783919598], [0.9221105527638191], [0.9346733668341709], [0.9195979899497487], [0.9195979899497487], [0.9321608040201005], [0.9170854271356784], [0.9170854271356784], [0.9271356783919598], [0.9120603015075377], [0.9221105527638191], [0.9321608040201005], [0.7613065326633166], [0.7613065326633166], [0.7613065326633166], [0.7613065326633166], [0.7613065326633166], [0.7613065326633166], [0.7613065326633166], [0.7613065326633166], [0.7613065326633166], [0.7613065326633166], [0.7613065326633166], [0.7613065326633166], [0.914572864321608], [0.9246231155778895], [0.9246231155778895], [0.914572864321608], [0.9195979899497487], [0.9221105527638191], [0.9095477386934674], [0.9170854271356784], [0.914572864321608], [0.9095477386934674], [0.9296482412060302], [0.9221105527638191], [0.8366834170854272], [0.8366834170854272], [0.8366834170854272], [0.8366834170854272], [0.8366834170854272], [0.8366834170854272], [0.8366834170854272], [0.8366834170854272], [0.8366834170854272], [0.8366834170854272], [0.8366834170854272], [0.8366834170854272], [0.9221105527638191], [0.914572864321608], [0.9221105527638191], [0.9221105527638191], [0.9095477386934674], [0.9120603015075377], [0.9221105527638191], [0.907035175879397], [0.9120603015075377], [0.9221105527638191], [0.907035175879397], [0.9095477386934674]]\n",
            "[[33, (30, 30, 30), 1100, 1e-14], [33, (30, 30, 30), 1100, 1e-15], [33, (30, 30, 30), 1100, 1e-16], [33, (30, 30, 30), 1200, 1e-14], [33, (30, 30, 30), 1200, 1e-15], [33, (30, 30, 30), 1200, 1e-16], [33, (30, 30, 30), 1300, 1e-14], [33, (30, 30, 30), 1300, 1e-15], [33, (30, 30, 30), 1300, 1e-16], [33, (30, 30, 30), 1400, 1e-14], [33, (30, 30, 30), 1400, 1e-15], [33, (30, 30, 30), 1400, 1e-16], [33, (40, 40, 40), 1100, 1e-14], [33, (40, 40, 40), 1100, 1e-15], [33, (40, 40, 40), 1100, 1e-16], [33, (40, 40, 40), 1200, 1e-14], [33, (40, 40, 40), 1200, 1e-15], [33, (40, 40, 40), 1200, 1e-16], [33, (40, 40, 40), 1300, 1e-14], [33, (40, 40, 40), 1300, 1e-15], [33, (40, 40, 40), 1300, 1e-16], [33, (40, 40, 40), 1400, 1e-14], [33, (40, 40, 40), 1400, 1e-15], [33, (40, 40, 40), 1400, 1e-16], [34, (30, 30, 30), 1100, 1e-14], [34, (30, 30, 30), 1100, 1e-15], [34, (30, 30, 30), 1100, 1e-16], [34, (30, 30, 30), 1200, 1e-14], [34, (30, 30, 30), 1200, 1e-15], [34, (30, 30, 30), 1200, 1e-16], [34, (30, 30, 30), 1300, 1e-14], [34, (30, 30, 30), 1300, 1e-15], [34, (30, 30, 30), 1300, 1e-16], [34, (30, 30, 30), 1400, 1e-14], [34, (30, 30, 30), 1400, 1e-15], [34, (30, 30, 30), 1400, 1e-16], [34, (40, 40, 40), 1100, 1e-14], [34, (40, 40, 40), 1100, 1e-15], [34, (40, 40, 40), 1100, 1e-16], [34, (40, 40, 40), 1200, 1e-14], [34, (40, 40, 40), 1200, 1e-15], [34, (40, 40, 40), 1200, 1e-16], [34, (40, 40, 40), 1300, 1e-14], [34, (40, 40, 40), 1300, 1e-15], [34, (40, 40, 40), 1300, 1e-16], [34, (40, 40, 40), 1400, 1e-14], [34, (40, 40, 40), 1400, 1e-15], [34, (40, 40, 40), 1400, 1e-16], [35, (30, 30, 30), 1100, 1e-14], [35, (30, 30, 30), 1100, 1e-15], [35, (30, 30, 30), 1100, 1e-16], [35, (30, 30, 30), 1200, 1e-14], [35, (30, 30, 30), 1200, 1e-15], [35, (30, 30, 30), 1200, 1e-16], [35, (30, 30, 30), 1300, 1e-14], [35, (30, 30, 30), 1300, 1e-15], [35, (30, 30, 30), 1300, 1e-16], [35, (30, 30, 30), 1400, 1e-14], [35, (30, 30, 30), 1400, 1e-15], [35, (30, 30, 30), 1400, 1e-16], [35, (40, 40, 40), 1100, 1e-14], [35, (40, 40, 40), 1100, 1e-15], [35, (40, 40, 40), 1100, 1e-16], [35, (40, 40, 40), 1200, 1e-14], [35, (40, 40, 40), 1200, 1e-15], [35, (40, 40, 40), 1200, 1e-16], [35, (40, 40, 40), 1300, 1e-14], [35, (40, 40, 40), 1300, 1e-15], [35, (40, 40, 40), 1300, 1e-16], [35, (40, 40, 40), 1400, 1e-14], [35, (40, 40, 40), 1400, 1e-15], [35, (40, 40, 40), 1400, 1e-16], [36, (30, 30, 30), 1100, 1e-14], [36, (30, 30, 30), 1100, 1e-15], [36, (30, 30, 30), 1100, 1e-16], [36, (30, 30, 30), 1200, 1e-14], [36, (30, 30, 30), 1200, 1e-15], [36, (30, 30, 30), 1200, 1e-16], [36, (30, 30, 30), 1300, 1e-14], [36, (30, 30, 30), 1300, 1e-15], [36, (30, 30, 30), 1300, 1e-16], [36, (30, 30, 30), 1400, 1e-14], [36, (30, 30, 30), 1400, 1e-15], [36, (30, 30, 30), 1400, 1e-16], [36, (40, 40, 40), 1100, 1e-14], [36, (40, 40, 40), 1100, 1e-15], [36, (40, 40, 40), 1100, 1e-16], [36, (40, 40, 40), 1200, 1e-14], [36, (40, 40, 40), 1200, 1e-15], [36, (40, 40, 40), 1200, 1e-16], [36, (40, 40, 40), 1300, 1e-14], [36, (40, 40, 40), 1300, 1e-15], [36, (40, 40, 40), 1300, 1e-16], [36, (40, 40, 40), 1400, 1e-14], [36, (40, 40, 40), 1400, 1e-15], [36, (40, 40, 40), 1400, 1e-16], [42, (30, 30, 30), 1100, 1e-14], [42, (30, 30, 30), 1100, 1e-15], [42, (30, 30, 30), 1100, 1e-16], [42, (30, 30, 30), 1200, 1e-14], [42, (30, 30, 30), 1200, 1e-15], [42, (30, 30, 30), 1200, 1e-16], [42, (30, 30, 30), 1300, 1e-14], [42, (30, 30, 30), 1300, 1e-15], [42, (30, 30, 30), 1300, 1e-16], [42, (30, 30, 30), 1400, 1e-14], [42, (30, 30, 30), 1400, 1e-15], [42, (30, 30, 30), 1400, 1e-16], [42, (40, 40, 40), 1100, 1e-14], [42, (40, 40, 40), 1100, 1e-15], [42, (40, 40, 40), 1100, 1e-16], [42, (40, 40, 40), 1200, 1e-14], [42, (40, 40, 40), 1200, 1e-15], [42, (40, 40, 40), 1200, 1e-16], [42, (40, 40, 40), 1300, 1e-14], [42, (40, 40, 40), 1300, 1e-15], [42, (40, 40, 40), 1300, 1e-16], [42, (40, 40, 40), 1400, 1e-14], [42, (40, 40, 40), 1400, 1e-15], [42, (40, 40, 40), 1400, 1e-16]]\n"
          ],
          "name": "stdout"
        }
      ]
    },
    {
      "cell_type": "code",
      "metadata": {
        "id": "6AnQufl6vaQf",
        "colab_type": "code",
        "colab": {
          "base_uri": "https://localhost:8080/",
          "height": 1000
        },
        "outputId": "75eb06c1-1c42-44ae-d8f2-f6f7844b7749"
      },
      "source": [
        "np.concatenate([param, scores], axis=1)"
      ],
      "execution_count": 52,
      "outputs": [
        {
          "output_type": "execute_result",
          "data": {
            "text/plain": [
              "array([[33, (30, 30, 30), 1100, 1e-14, 0.9120603015075377],\n",
              "       [33, (30, 30, 30), 1100, 1e-15, 0.9095477386934674],\n",
              "       [33, (30, 30, 30), 1100, 1e-16, 0.9020100502512562],\n",
              "       [33, (30, 30, 30), 1200, 1e-14, 0.914572864321608],\n",
              "       [33, (30, 30, 30), 1200, 1e-15, 0.9170854271356784],\n",
              "       [33, (30, 30, 30), 1200, 1e-16, 0.8969849246231156],\n",
              "       [33, (30, 30, 30), 1300, 1e-14, 0.914572864321608],\n",
              "       [33, (30, 30, 30), 1300, 1e-15, 0.9221105527638191],\n",
              "       [33, (30, 30, 30), 1300, 1e-16, 0.8944723618090452],\n",
              "       [33, (30, 30, 30), 1400, 1e-14, 0.9045226130653267],\n",
              "       [33, (30, 30, 30), 1400, 1e-15, 0.914572864321608],\n",
              "       [33, (30, 30, 30), 1400, 1e-16, 0.8994974874371859],\n",
              "       [33, (40, 40, 40), 1100, 1e-14, 0.914572864321608],\n",
              "       [33, (40, 40, 40), 1100, 1e-15, 0.9271356783919598],\n",
              "       [33, (40, 40, 40), 1100, 1e-16, 0.9221105527638191],\n",
              "       [33, (40, 40, 40), 1200, 1e-14, 0.907035175879397],\n",
              "       [33, (40, 40, 40), 1200, 1e-15, 0.9271356783919598],\n",
              "       [33, (40, 40, 40), 1200, 1e-16, 0.9120603015075377],\n",
              "       [33, (40, 40, 40), 1300, 1e-14, 0.9095477386934674],\n",
              "       [33, (40, 40, 40), 1300, 1e-15, 0.9346733668341709],\n",
              "       [33, (40, 40, 40), 1300, 1e-16, 0.914572864321608],\n",
              "       [33, (40, 40, 40), 1400, 1e-14, 0.9120603015075377],\n",
              "       [33, (40, 40, 40), 1400, 1e-15, 0.9271356783919598],\n",
              "       [33, (40, 40, 40), 1400, 1e-16, 0.9095477386934674],\n",
              "       [34, (30, 30, 30), 1100, 1e-14, 0.5778894472361809],\n",
              "       [34, (30, 30, 30), 1100, 1e-15, 0.5778894472361809],\n",
              "       [34, (30, 30, 30), 1100, 1e-16, 0.5778894472361809],\n",
              "       [34, (30, 30, 30), 1200, 1e-14, 0.5778894472361809],\n",
              "       [34, (30, 30, 30), 1200, 1e-15, 0.5778894472361809],\n",
              "       [34, (30, 30, 30), 1200, 1e-16, 0.5778894472361809],\n",
              "       [34, (30, 30, 30), 1300, 1e-14, 0.5778894472361809],\n",
              "       [34, (30, 30, 30), 1300, 1e-15, 0.5778894472361809],\n",
              "       [34, (30, 30, 30), 1300, 1e-16, 0.5778894472361809],\n",
              "       [34, (30, 30, 30), 1400, 1e-14, 0.5778894472361809],\n",
              "       [34, (30, 30, 30), 1400, 1e-15, 0.5778894472361809],\n",
              "       [34, (30, 30, 30), 1400, 1e-16, 0.5778894472361809],\n",
              "       [34, (40, 40, 40), 1100, 1e-14, 0.9271356783919598],\n",
              "       [34, (40, 40, 40), 1100, 1e-15, 0.9246231155778895],\n",
              "       [34, (40, 40, 40), 1100, 1e-16, 0.9271356783919598],\n",
              "       [34, (40, 40, 40), 1200, 1e-14, 0.9246231155778895],\n",
              "       [34, (40, 40, 40), 1200, 1e-15, 0.9271356783919598],\n",
              "       [34, (40, 40, 40), 1200, 1e-16, 0.9296482412060302],\n",
              "       [34, (40, 40, 40), 1300, 1e-14, 0.9221105527638191],\n",
              "       [34, (40, 40, 40), 1300, 1e-15, 0.9346733668341709],\n",
              "       [34, (40, 40, 40), 1300, 1e-16, 0.9246231155778895],\n",
              "       [34, (40, 40, 40), 1400, 1e-14, 0.9195979899497487],\n",
              "       [34, (40, 40, 40), 1400, 1e-15, 0.9296482412060302],\n",
              "       [34, (40, 40, 40), 1400, 1e-16, 0.9246231155778895],\n",
              "       [35, (30, 30, 30), 1100, 1e-14, 0.9170854271356784],\n",
              "       [35, (30, 30, 30), 1100, 1e-15, 0.9221105527638191],\n",
              "       [35, (30, 30, 30), 1100, 1e-16, 0.9246231155778895],\n",
              "       [35, (30, 30, 30), 1200, 1e-14, 0.9195979899497487],\n",
              "       [35, (30, 30, 30), 1200, 1e-15, 0.9221105527638191],\n",
              "       [35, (30, 30, 30), 1200, 1e-16, 0.9271356783919598],\n",
              "       [35, (30, 30, 30), 1300, 1e-14, 0.9195979899497487],\n",
              "       [35, (30, 30, 30), 1300, 1e-15, 0.9195979899497487],\n",
              "       [35, (30, 30, 30), 1300, 1e-16, 0.9321608040201005],\n",
              "       [35, (30, 30, 30), 1400, 1e-14, 0.9246231155778895],\n",
              "       [35, (30, 30, 30), 1400, 1e-15, 0.914572864321608],\n",
              "       [35, (30, 30, 30), 1400, 1e-16, 0.9321608040201005],\n",
              "       [35, (40, 40, 40), 1100, 1e-14, 0.9271356783919598],\n",
              "       [35, (40, 40, 40), 1100, 1e-15, 0.9221105527638191],\n",
              "       [35, (40, 40, 40), 1100, 1e-16, 0.9346733668341709],\n",
              "       [35, (40, 40, 40), 1200, 1e-14, 0.9195979899497487],\n",
              "       [35, (40, 40, 40), 1200, 1e-15, 0.9195979899497487],\n",
              "       [35, (40, 40, 40), 1200, 1e-16, 0.9321608040201005],\n",
              "       [35, (40, 40, 40), 1300, 1e-14, 0.9170854271356784],\n",
              "       [35, (40, 40, 40), 1300, 1e-15, 0.9170854271356784],\n",
              "       [35, (40, 40, 40), 1300, 1e-16, 0.9271356783919598],\n",
              "       [35, (40, 40, 40), 1400, 1e-14, 0.9120603015075377],\n",
              "       [35, (40, 40, 40), 1400, 1e-15, 0.9221105527638191],\n",
              "       [35, (40, 40, 40), 1400, 1e-16, 0.9321608040201005],\n",
              "       [36, (30, 30, 30), 1100, 1e-14, 0.7613065326633166],\n",
              "       [36, (30, 30, 30), 1100, 1e-15, 0.7613065326633166],\n",
              "       [36, (30, 30, 30), 1100, 1e-16, 0.7613065326633166],\n",
              "       [36, (30, 30, 30), 1200, 1e-14, 0.7613065326633166],\n",
              "       [36, (30, 30, 30), 1200, 1e-15, 0.7613065326633166],\n",
              "       [36, (30, 30, 30), 1200, 1e-16, 0.7613065326633166],\n",
              "       [36, (30, 30, 30), 1300, 1e-14, 0.7613065326633166],\n",
              "       [36, (30, 30, 30), 1300, 1e-15, 0.7613065326633166],\n",
              "       [36, (30, 30, 30), 1300, 1e-16, 0.7613065326633166],\n",
              "       [36, (30, 30, 30), 1400, 1e-14, 0.7613065326633166],\n",
              "       [36, (30, 30, 30), 1400, 1e-15, 0.7613065326633166],\n",
              "       [36, (30, 30, 30), 1400, 1e-16, 0.7613065326633166],\n",
              "       [36, (40, 40, 40), 1100, 1e-14, 0.914572864321608],\n",
              "       [36, (40, 40, 40), 1100, 1e-15, 0.9246231155778895],\n",
              "       [36, (40, 40, 40), 1100, 1e-16, 0.9246231155778895],\n",
              "       [36, (40, 40, 40), 1200, 1e-14, 0.914572864321608],\n",
              "       [36, (40, 40, 40), 1200, 1e-15, 0.9195979899497487],\n",
              "       [36, (40, 40, 40), 1200, 1e-16, 0.9221105527638191],\n",
              "       [36, (40, 40, 40), 1300, 1e-14, 0.9095477386934674],\n",
              "       [36, (40, 40, 40), 1300, 1e-15, 0.9170854271356784],\n",
              "       [36, (40, 40, 40), 1300, 1e-16, 0.914572864321608],\n",
              "       [36, (40, 40, 40), 1400, 1e-14, 0.9095477386934674],\n",
              "       [36, (40, 40, 40), 1400, 1e-15, 0.9296482412060302],\n",
              "       [36, (40, 40, 40), 1400, 1e-16, 0.9221105527638191],\n",
              "       [42, (30, 30, 30), 1100, 1e-14, 0.8366834170854272],\n",
              "       [42, (30, 30, 30), 1100, 1e-15, 0.8366834170854272],\n",
              "       [42, (30, 30, 30), 1100, 1e-16, 0.8366834170854272],\n",
              "       [42, (30, 30, 30), 1200, 1e-14, 0.8366834170854272],\n",
              "       [42, (30, 30, 30), 1200, 1e-15, 0.8366834170854272],\n",
              "       [42, (30, 30, 30), 1200, 1e-16, 0.8366834170854272],\n",
              "       [42, (30, 30, 30), 1300, 1e-14, 0.8366834170854272],\n",
              "       [42, (30, 30, 30), 1300, 1e-15, 0.8366834170854272],\n",
              "       [42, (30, 30, 30), 1300, 1e-16, 0.8366834170854272],\n",
              "       [42, (30, 30, 30), 1400, 1e-14, 0.8366834170854272],\n",
              "       [42, (30, 30, 30), 1400, 1e-15, 0.8366834170854272],\n",
              "       [42, (30, 30, 30), 1400, 1e-16, 0.8366834170854272],\n",
              "       [42, (40, 40, 40), 1100, 1e-14, 0.9221105527638191],\n",
              "       [42, (40, 40, 40), 1100, 1e-15, 0.914572864321608],\n",
              "       [42, (40, 40, 40), 1100, 1e-16, 0.9221105527638191],\n",
              "       [42, (40, 40, 40), 1200, 1e-14, 0.9221105527638191],\n",
              "       [42, (40, 40, 40), 1200, 1e-15, 0.9095477386934674],\n",
              "       [42, (40, 40, 40), 1200, 1e-16, 0.9120603015075377],\n",
              "       [42, (40, 40, 40), 1300, 1e-14, 0.9221105527638191],\n",
              "       [42, (40, 40, 40), 1300, 1e-15, 0.907035175879397],\n",
              "       [42, (40, 40, 40), 1300, 1e-16, 0.9120603015075377],\n",
              "       [42, (40, 40, 40), 1400, 1e-14, 0.9221105527638191],\n",
              "       [42, (40, 40, 40), 1400, 1e-15, 0.907035175879397],\n",
              "       [42, (40, 40, 40), 1400, 1e-16, 0.9095477386934674]], dtype=object)"
            ]
          },
          "metadata": {
            "tags": []
          },
          "execution_count": 52
        }
      ]
    },
    {
      "cell_type": "code",
      "metadata": {
        "id": "i4p4K7p3vuP2",
        "colab_type": "code",
        "colab": {
          "base_uri": "https://localhost:8080/",
          "height": 34
        },
        "outputId": "6d13aafc-a8f9-4bab-c63c-48265e829f51"
      },
      "source": [
        "max(scores)"
      ],
      "execution_count": 53,
      "outputs": [
        {
          "output_type": "execute_result",
          "data": {
            "text/plain": [
              "[0.9346733668341709]"
            ]
          },
          "metadata": {
            "tags": []
          },
          "execution_count": 53
        }
      ]
    },
    {
      "cell_type": "code",
      "metadata": {
        "id": "y199Pxs7wDqk",
        "colab_type": "code",
        "colab": {
          "base_uri": "https://localhost:8080/",
          "height": 71
        },
        "outputId": "9bb48274-f0aa-483b-ceb2-82ff08ea7405"
      },
      "source": [
        "hidden_layer = (30, 30, 30)\n",
        "max_iter = 1200\n",
        "alpha = 10.0 ** -11\n",
        "activation = ['logistic']\n",
        "random = range(20, 30)\n",
        "scores = []\n",
        "param = []\n",
        "for x in random:\n",
        "            q7_mlp = MLPClassifier(hidden_layer_sizes=hidden_layer, activation='logistic', solver='lbfgs', random_state=x, max_iter= 1200, alpha=10.0 ** -11)\n",
        "            q7_mlp.fit(q7_X_train.to_numpy(), Y_train)\n",
        "            q7_Y_pred = q7_mlp.predict(q7_X_test.to_numpy())\n",
        "            q7_accuracy = accuracy_score(Y_test, q7_Y_pred)\n",
        "            scores = scores + [[q7_accuracy]]\n",
        "            param = param + [x]\n",
        "print(scores)\n",
        "print(param)"
      ],
      "execution_count": 58,
      "outputs": [
        {
          "output_type": "stream",
          "text": [
            "[[0.914572864321608], [0.9321608040201005], [0.8994974874371859], [0.9195979899497487], [0.9296482412060302], [0.9321608040201005], [0.5226130653266332], [0.914572864321608], [0.9170854271356784], [0.9296482412060302]]\n",
            "[20, 21, 22, 23, 24, 25, 26, 27, 28, 29]\n"
          ],
          "name": "stdout"
        }
      ]
    },
    {
      "cell_type": "markdown",
      "metadata": {
        "colab_type": "text",
        "id": "2rFY8D4Q1GsZ"
      },
      "source": [
        "###ANSWER: I was able to improve the accuracy by more than 5% (from 86% to 94%). To improve accuracy through tuning, I adopted the approach similar to Gridsearch, where I define a parameter space and used for loop to check the model accuracy for each set of parameters.Through increasing max_iter and hidden layer sizes and decreasing alpha, I was able to increase accuracy by 8%. "
      ]
    },
    {
      "cell_type": "code",
      "metadata": {
        "id": "CfHIf8l-3NzG",
        "colab_type": "code",
        "colab": {
          "base_uri": "https://localhost:8080/",
          "height": 34
        },
        "outputId": "015dc50f-7f58-4a1c-fd6e-ea1d06f1def9"
      },
      "source": [
        "q7_mlp = MLPClassifier(hidden_layer_sizes=(30, 30, 30), activation='logistic', solver='lbfgs', random_state=33, max_iter= 1200, alpha=10.0 ** -11)\n",
        "q7_mlp.fit(q7_X_train.to_numpy(), Y_train)\n",
        "q7_Y_pred = q7_mlp.predict(q7_X_test.to_numpy())\n",
        "q7_accuracy = accuracy_score(Y_test, q7_Y_pred)\n",
        "print(q7_accuracy)"
      ],
      "execution_count": 59,
      "outputs": [
        {
          "output_type": "stream",
          "text": [
            "0.9396984924623115\n"
          ],
          "name": "stdout"
        }
      ]
    },
    {
      "cell_type": "code",
      "metadata": {
        "id": "tqSy7P5z3W57",
        "colab_type": "code",
        "colab": {}
      },
      "source": [
        ""
      ],
      "execution_count": null,
      "outputs": []
    }
  ]
}